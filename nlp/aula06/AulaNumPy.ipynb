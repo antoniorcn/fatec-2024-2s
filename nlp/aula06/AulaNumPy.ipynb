{
 "cells": [
  {
   "cell_type": "code",
   "execution_count": null,
   "id": "6b478380-e7ef-42b7-a9c7-44d86a65993c",
   "metadata": {},
   "outputs": [],
   "source": [
    "# !pip install numpy"
   ]
  },
  {
   "cell_type": "code",
   "execution_count": 1,
   "id": "9c193acb-0215-4351-a7ec-a93ee33563f1",
   "metadata": {},
   "outputs": [],
   "source": [
    "import numpy as np"
   ]
  },
  {
   "cell_type": "code",
   "execution_count": 2,
   "id": "cd5bb170-a499-43e7-ab08-fbf02e65964b",
   "metadata": {},
   "outputs": [],
   "source": [
    "matriz1d = np.array([1, 2, 3, 4, 5], dtype=np.float32)"
   ]
  },
  {
   "cell_type": "code",
   "execution_count": 3,
   "id": "73f0fc76-7fa7-4d9f-b520-09d6c0bb8ead",
   "metadata": {},
   "outputs": [
    {
     "data": {
      "text/plain": [
       "array([1., 2., 3., 4., 5.], dtype=float32)"
      ]
     },
     "execution_count": 3,
     "metadata": {},
     "output_type": "execute_result"
    }
   ],
   "source": [
    "matriz1d"
   ]
  },
  {
   "cell_type": "code",
   "execution_count": 4,
   "id": "583c7640-e953-4c03-b9b6-2408df3992d3",
   "metadata": {},
   "outputs": [
    {
     "data": {
      "text/plain": [
       "array([1, 2, 3, 4, 5], dtype=uint8)"
      ]
     },
     "execution_count": 4,
     "metadata": {},
     "output_type": "execute_result"
    }
   ],
   "source": [
    "matriz1d.astype(np.uint8)"
   ]
  },
  {
   "cell_type": "code",
   "execution_count": 9,
   "id": "21abf810-c8a1-4b9d-879e-7b69e871866b",
   "metadata": {},
   "outputs": [
    {
     "data": {
      "text/plain": [
       "1"
      ]
     },
     "execution_count": 9,
     "metadata": {},
     "output_type": "execute_result"
    }
   ],
   "source": [
    "matriz1d.ndim"
   ]
  },
  {
   "cell_type": "code",
   "execution_count": 10,
   "id": "1651ec19-6225-4d59-8885-9eaa86ac1384",
   "metadata": {},
   "outputs": [
    {
     "data": {
      "text/plain": [
       "(5,)"
      ]
     },
     "execution_count": 10,
     "metadata": {},
     "output_type": "execute_result"
    }
   ],
   "source": [
    "matriz1d.shape"
   ]
  },
  {
   "cell_type": "code",
   "execution_count": 11,
   "id": "19eb9019-ed0f-4274-937e-83e582bdb6f0",
   "metadata": {},
   "outputs": [
    {
     "data": {
      "text/plain": [
       "dtype('float32')"
      ]
     },
     "execution_count": 11,
     "metadata": {},
     "output_type": "execute_result"
    }
   ],
   "source": [
    "matriz1d.dtype"
   ]
  },
  {
   "cell_type": "code",
   "execution_count": 12,
   "id": "5c935a70-be94-480a-a8bf-d3cdcf12b481",
   "metadata": {},
   "outputs": [],
   "source": [
    "uns = np.ones( (10, 20), dtype=np.float64 ) "
   ]
  },
  {
   "cell_type": "code",
   "execution_count": 13,
   "id": "0cdb074c-d240-49c9-93c9-2c3f21b278cf",
   "metadata": {},
   "outputs": [
    {
     "data": {
      "text/plain": [
       "array([[1., 1., 1., 1., 1., 1., 1., 1., 1., 1., 1., 1., 1., 1., 1., 1.,\n",
       "        1., 1., 1., 1.],\n",
       "       [1., 1., 1., 1., 1., 1., 1., 1., 1., 1., 1., 1., 1., 1., 1., 1.,\n",
       "        1., 1., 1., 1.],\n",
       "       [1., 1., 1., 1., 1., 1., 1., 1., 1., 1., 1., 1., 1., 1., 1., 1.,\n",
       "        1., 1., 1., 1.],\n",
       "       [1., 1., 1., 1., 1., 1., 1., 1., 1., 1., 1., 1., 1., 1., 1., 1.,\n",
       "        1., 1., 1., 1.],\n",
       "       [1., 1., 1., 1., 1., 1., 1., 1., 1., 1., 1., 1., 1., 1., 1., 1.,\n",
       "        1., 1., 1., 1.],\n",
       "       [1., 1., 1., 1., 1., 1., 1., 1., 1., 1., 1., 1., 1., 1., 1., 1.,\n",
       "        1., 1., 1., 1.],\n",
       "       [1., 1., 1., 1., 1., 1., 1., 1., 1., 1., 1., 1., 1., 1., 1., 1.,\n",
       "        1., 1., 1., 1.],\n",
       "       [1., 1., 1., 1., 1., 1., 1., 1., 1., 1., 1., 1., 1., 1., 1., 1.,\n",
       "        1., 1., 1., 1.],\n",
       "       [1., 1., 1., 1., 1., 1., 1., 1., 1., 1., 1., 1., 1., 1., 1., 1.,\n",
       "        1., 1., 1., 1.],\n",
       "       [1., 1., 1., 1., 1., 1., 1., 1., 1., 1., 1., 1., 1., 1., 1., 1.,\n",
       "        1., 1., 1., 1.]])"
      ]
     },
     "execution_count": 13,
     "metadata": {},
     "output_type": "execute_result"
    }
   ],
   "source": [
    "uns"
   ]
  },
  {
   "cell_type": "code",
   "execution_count": 14,
   "id": "326962c4-5105-4b63-b38c-1f37a6fb6f0f",
   "metadata": {},
   "outputs": [
    {
     "data": {
      "text/plain": [
       "2"
      ]
     },
     "execution_count": 14,
     "metadata": {},
     "output_type": "execute_result"
    }
   ],
   "source": [
    "uns.ndim"
   ]
  },
  {
   "cell_type": "code",
   "execution_count": 15,
   "id": "ac875ef1-7ad7-4fa9-b349-1e51efb3aec3",
   "metadata": {},
   "outputs": [
    {
     "data": {
      "text/plain": [
       "(10, 20)"
      ]
     },
     "execution_count": 15,
     "metadata": {},
     "output_type": "execute_result"
    }
   ],
   "source": [
    "uns.shape"
   ]
  },
  {
   "cell_type": "code",
   "execution_count": 18,
   "id": "f73ea90f-db8c-47da-a686-4a6d903c0b49",
   "metadata": {},
   "outputs": [],
   "source": [
    "v30uns = np.ones( (30, ), dtype=np.float32 )"
   ]
  },
  {
   "cell_type": "code",
   "execution_count": 20,
   "id": "67f094bb-6bd5-4ff7-a0ce-fef5c4fbbcf5",
   "metadata": {},
   "outputs": [],
   "source": [
    "v30zeros = np.zeros( (30, ), dtype=np.float32 )"
   ]
  },
  {
   "cell_type": "code",
   "execution_count": 21,
   "id": "8d6990c6-62b4-48e9-b022-44097acd1d95",
   "metadata": {},
   "outputs": [
    {
     "data": {
      "text/plain": [
       "array([1., 1., 1., 1., 1., 1., 1., 1., 1., 1., 1., 1., 1., 1., 1., 1., 1.,\n",
       "       1., 1., 1., 1., 1., 1., 1., 1., 1., 1., 1., 1., 1.], dtype=float32)"
      ]
     },
     "execution_count": 21,
     "metadata": {},
     "output_type": "execute_result"
    }
   ],
   "source": [
    "v30uns"
   ]
  },
  {
   "cell_type": "code",
   "execution_count": 22,
   "id": "9fa1b0b1-aa8d-4435-8bab-868a35c8b654",
   "metadata": {},
   "outputs": [
    {
     "data": {
      "text/plain": [
       "array([0., 0., 0., 0., 0., 0., 0., 0., 0., 0., 0., 0., 0., 0., 0., 0., 0.,\n",
       "       0., 0., 0., 0., 0., 0., 0., 0., 0., 0., 0., 0., 0.], dtype=float32)"
      ]
     },
     "execution_count": 22,
     "metadata": {},
     "output_type": "execute_result"
    }
   ],
   "source": [
    "v30zeros"
   ]
  },
  {
   "cell_type": "code",
   "execution_count": 24,
   "id": "22648c71-ac40-4407-b2bf-bbac7bf25152",
   "metadata": {},
   "outputs": [
    {
     "data": {
      "text/plain": [
       "array([ 1,  3,  5,  7,  9, 11, 13, 15, 17, 19, 21, 23, 25, 27, 29, 31, 33,\n",
       "       35, 37, 39, 41, 43, 45, 47, 49, 51, 53, 55, 57, 59, 61, 63, 65, 67,\n",
       "       69, 71, 73, 75, 77, 79, 81, 83, 85, 87, 89, 91, 93, 95, 97, 99])"
      ]
     },
     "execution_count": 24,
     "metadata": {},
     "output_type": "execute_result"
    }
   ],
   "source": [
    "impares = np.arange( 1, 101, 2 )\n",
    "impares"
   ]
  },
  {
   "cell_type": "code",
   "execution_count": 29,
   "id": "cfa50bab-251b-4b4d-a96f-915d3d0ada10",
   "metadata": {},
   "outputs": [],
   "source": [
    "numeros = np.arange(10, 20).astype(np.uint8)\n",
    "v30zeros = np.zeros( (50, ), dtype=np.float32 )\n",
    "\n",
    "vconc = np.concatenate( [numeros, v30zeros] )"
   ]
  },
  {
   "cell_type": "code",
   "execution_count": 30,
   "id": "ac421cb6-5d94-4c96-9127-f761cb97c01f",
   "metadata": {},
   "outputs": [
    {
     "data": {
      "text/plain": [
       "array([10., 11., 12., 13., 14., 15., 16., 17., 18., 19.,  0.,  0.,  0.,\n",
       "        0.,  0.,  0.,  0.,  0.,  0.,  0.,  0.,  0.,  0.,  0.,  0.,  0.,\n",
       "        0.,  0.,  0.,  0.,  0.,  0.,  0.,  0.,  0.,  0.,  0.,  0.,  0.,\n",
       "        0.,  0.,  0.,  0.,  0.,  0.,  0.,  0.,  0.,  0.,  0.,  0.,  0.,\n",
       "        0.,  0.,  0.,  0.,  0.,  0.,  0.,  0.], dtype=float32)"
      ]
     },
     "execution_count": 30,
     "metadata": {},
     "output_type": "execute_result"
    }
   ],
   "source": [
    "vconc"
   ]
  },
  {
   "cell_type": "code",
   "execution_count": 43,
   "id": "43505d23-6693-49f8-a6ca-a1aeda9bf10d",
   "metadata": {},
   "outputs": [
    {
     "data": {
      "text/plain": [
       "array([[0., 0., 0., 0., 0.],\n",
       "       [0., 0., 0., 0., 0.],\n",
       "       [0., 0., 0., 0., 0.],\n",
       "       [0., 0., 0., 0., 0.],\n",
       "       [0., 0., 0., 0., 0.],\n",
       "       [0., 0., 0., 0., 0.],\n",
       "       [0., 0., 0., 0., 0.],\n",
       "       [0., 0., 0., 0., 0.],\n",
       "       [0., 0., 0., 0., 0.],\n",
       "       [0., 0., 0., 0., 0.],\n",
       "       [1., 1., 1., 1., 1.],\n",
       "       [1., 1., 1., 1., 1.],\n",
       "       [1., 1., 1., 1., 1.],\n",
       "       [1., 1., 1., 1., 1.],\n",
       "       [1., 1., 1., 1., 1.],\n",
       "       [1., 1., 1., 1., 1.],\n",
       "       [1., 1., 1., 1., 1.],\n",
       "       [1., 1., 1., 1., 1.],\n",
       "       [1., 1., 1., 1., 1.],\n",
       "       [1., 1., 1., 1., 1.],\n",
       "       [1., 1., 1., 1., 1.],\n",
       "       [1., 1., 1., 1., 1.],\n",
       "       [1., 1., 1., 1., 1.],\n",
       "       [1., 1., 1., 1., 1.],\n",
       "       [1., 1., 1., 1., 1.],\n",
       "       [1., 1., 1., 1., 1.],\n",
       "       [1., 1., 1., 1., 1.],\n",
       "       [1., 1., 1., 1., 1.],\n",
       "       [1., 1., 1., 1., 1.],\n",
       "       [1., 1., 1., 1., 1.],\n",
       "       [1., 1., 1., 1., 1.],\n",
       "       [1., 1., 1., 1., 1.],\n",
       "       [1., 1., 1., 1., 1.],\n",
       "       [1., 1., 1., 1., 1.],\n",
       "       [1., 1., 1., 1., 1.],\n",
       "       [1., 1., 1., 1., 1.],\n",
       "       [1., 1., 1., 1., 1.],\n",
       "       [1., 1., 1., 1., 1.],\n",
       "       [1., 1., 1., 1., 1.],\n",
       "       [1., 1., 1., 1., 1.]])"
      ]
     },
     "execution_count": 43,
     "metadata": {},
     "output_type": "execute_result"
    }
   ],
   "source": [
    "mzeros = np.zeros( (10, 5) )\n",
    "muns = np.ones( (30, 5) )\n",
    "\n",
    "vconc = np.concatenate( [mzeros, muns], axis=0 ) \n",
    "vconc"
   ]
  },
  {
   "cell_type": "code",
   "execution_count": 45,
   "id": "0df885db-8894-4553-a699-61b744ab4de7",
   "metadata": {},
   "outputs": [
    {
     "data": {
      "text/plain": [
       "array([10, 11, 12, 13, 14, 15, 16, 17, 18, 19, 20, 21, 22, 23, 24, 25, 26,\n",
       "       27, 28, 29, 30, 31, 32, 33, 34, 35, 36, 37, 38, 39, 40, 41, 42, 43,\n",
       "       44, 45, 46, 47, 48, 49, 50, 51, 52, 53, 54, 55, 56, 57, 58, 59])"
      ]
     },
     "execution_count": 45,
     "metadata": {},
     "output_type": "execute_result"
    }
   ],
   "source": [
    "vet1 = np.arange(10, 60)\n",
    "vet1"
   ]
  },
  {
   "cell_type": "code",
   "execution_count": 48,
   "id": "52fde9ad-3159-455d-84e6-ecbba5aec6e6",
   "metadata": {},
   "outputs": [
    {
     "data": {
      "text/plain": [
       "array([1, 1, 1, 1, 1, 1, 1, 1, 1, 1, 1, 1, 1, 1, 1, 1, 1, 1, 1, 1, 1, 1,\n",
       "       1, 1, 1, 1, 1, 1, 1, 1, 1, 1, 1, 1, 1, 1, 1, 1, 1, 1, 1, 1, 1, 1,\n",
       "       1, 1, 1, 1, 1, 1])"
      ]
     },
     "execution_count": 48,
     "metadata": {},
     "output_type": "execute_result"
    }
   ],
   "source": [
    "np.ones_like(vet1)"
   ]
  },
  {
   "cell_type": "code",
   "execution_count": 57,
   "id": "16e7865b-9ee2-486a-ab7c-91013fd72aaa",
   "metadata": {},
   "outputs": [
    {
     "data": {
      "text/plain": [
       "array([[8, 7, 6, 9, 8, 6, 5, 9],\n",
       "       [7, 6, 8, 7, 5, 9, 5, 6],\n",
       "       [7, 7, 5, 8, 6, 6, 5, 6],\n",
       "       [5, 9, 7, 7, 9, 8, 8, 9],\n",
       "       [5, 8, 8, 6, 9, 6, 9, 9],\n",
       "       [6, 7, 5, 7, 5, 6, 7, 6],\n",
       "       [9, 5, 8, 8, 6, 7, 5, 5],\n",
       "       [5, 7, 7, 9, 5, 5, 5, 6]])"
      ]
     },
     "execution_count": 57,
     "metadata": {},
     "output_type": "execute_result"
    }
   ],
   "source": [
    "mat_aleat = np.random.randint( 5, 10, (8, 8) )\n",
    "mat_aleat"
   ]
  },
  {
   "cell_type": "code",
   "execution_count": 52,
   "id": "66b24c7d-efd1-4772-9c21-495f5cd45b3e",
   "metadata": {},
   "outputs": [
    {
     "data": {
      "text/plain": [
       "array([[0., 0., 0., 0., 0., 0., 0., 0., 0., 0.],\n",
       "       [0., 0., 0., 0., 0., 0., 0., 0., 0., 0.],\n",
       "       [0., 0., 0., 0., 0., 0., 0., 0., 0., 0.],\n",
       "       [0., 0., 0., 0., 0., 0., 0., 0., 0., 0.],\n",
       "       [0., 0., 0., 0., 0., 0., 0., 0., 0., 0.]])"
      ]
     },
     "execution_count": 52,
     "metadata": {},
     "output_type": "execute_result"
    }
   ],
   "source": [
    "mat_zeros = np.zeros_like(mat_aleat)\n",
    "mat_zeros"
   ]
  },
  {
   "cell_type": "code",
   "execution_count": 53,
   "id": "beb4c3a3-9e68-4353-be05-c4b22c8b1c38",
   "metadata": {},
   "outputs": [
    {
     "data": {
      "text/plain": [
       "(5, 10)"
      ]
     },
     "execution_count": 53,
     "metadata": {},
     "output_type": "execute_result"
    }
   ],
   "source": [
    "mat_zeros.shape"
   ]
  },
  {
   "cell_type": "code",
   "execution_count": 54,
   "id": "784339c0-5fdc-4c3e-9717-ef22cd0a4aa8",
   "metadata": {},
   "outputs": [
    {
     "data": {
      "text/plain": [
       "(5, 10)"
      ]
     },
     "execution_count": 54,
     "metadata": {},
     "output_type": "execute_result"
    }
   ],
   "source": [
    "mat_aleat.shape"
   ]
  },
  {
   "cell_type": "code",
   "execution_count": 58,
   "id": "ad835cc1-ef59-4bb9-a8b8-27ba6b1d0c1a",
   "metadata": {},
   "outputs": [
    {
     "data": {
      "text/plain": [
       "array([[1., 0., 0., 0., 0., 0., 0., 0.],\n",
       "       [0., 1., 0., 0., 0., 0., 0., 0.],\n",
       "       [0., 0., 1., 0., 0., 0., 0., 0.],\n",
       "       [0., 0., 0., 1., 0., 0., 0., 0.],\n",
       "       [0., 0., 0., 0., 1., 0., 0., 0.],\n",
       "       [0., 0., 0., 0., 0., 1., 0., 0.],\n",
       "       [0., 0., 0., 0., 0., 0., 1., 0.],\n",
       "       [0., 0., 0., 0., 0., 0., 0., 1.]])"
      ]
     },
     "execution_count": 58,
     "metadata": {},
     "output_type": "execute_result"
    }
   ],
   "source": [
    "mateye1 = np.eye(8)\n",
    "mateye1"
   ]
  },
  {
   "cell_type": "code",
   "execution_count": 65,
   "id": "24d21acd-77f5-4683-8755-7e417969bdcd",
   "metadata": {},
   "outputs": [
    {
     "data": {
      "text/plain": [
       "array([[8, 7, 6, 9, 8, 6, 5, 9],\n",
       "       [7, 6, 8, 7, 5, 9, 5, 6],\n",
       "       [7, 7, 5, 8, 6, 6, 5, 6],\n",
       "       [5, 9, 7, 7, 9, 8, 8, 9],\n",
       "       [5, 8, 8, 6, 9, 6, 9, 9],\n",
       "       [6, 7, 5, 7, 5, 6, 7, 6],\n",
       "       [9, 5, 8, 8, 6, 7, 5, 5],\n",
       "       [5, 7, 7, 9, 5, 5, 5, 6]])"
      ]
     },
     "execution_count": 65,
     "metadata": {},
     "output_type": "execute_result"
    }
   ],
   "source": [
    "mat_aleat"
   ]
  },
  {
   "cell_type": "code",
   "execution_count": 60,
   "id": "114268b3-0afc-4b69-8754-20df19dbf49b",
   "metadata": {},
   "outputs": [
    {
     "data": {
      "text/plain": [
       "[10, 20, None, None, None, 40]"
      ]
     },
     "execution_count": 60,
     "metadata": {},
     "output_type": "execute_result"
    }
   ],
   "source": [
    "lista1 = [10, 20, None, None, None, 40]\n",
    "lista1"
   ]
  },
  {
   "cell_type": "code",
   "execution_count": 63,
   "id": "63451279-0a08-4cf4-93c8-d0fc8b63d0c3",
   "metadata": {},
   "outputs": [
    {
     "data": {
      "text/plain": [
       "array([10., 20., nan, nan, nan, 40.], dtype=float32)"
      ]
     },
     "execution_count": 63,
     "metadata": {},
     "output_type": "execute_result"
    }
   ],
   "source": [
    "vet1 = np.array([10, 20, None, None, None, 40]).astype(np.float32)\n",
    "vet1"
   ]
  },
  {
   "cell_type": "code",
   "execution_count": 66,
   "id": "b8a432fc-b863-4f7d-9cb4-4ee36f8ee7eb",
   "metadata": {},
   "outputs": [
    {
     "data": {
      "text/plain": [
       "array([[ 9.,  7.,  6.,  9.,  8.,  6.,  5.,  9.],\n",
       "       [ 7.,  7.,  8.,  7.,  5.,  9.,  5.,  6.],\n",
       "       [ 7.,  7.,  6.,  8.,  6.,  6.,  5.,  6.],\n",
       "       [ 5.,  9.,  7.,  8.,  9.,  8.,  8.,  9.],\n",
       "       [ 5.,  8.,  8.,  6., 10.,  6.,  9.,  9.],\n",
       "       [ 6.,  7.,  5.,  7.,  5.,  7.,  7.,  6.],\n",
       "       [ 9.,  5.,  8.,  8.,  6.,  7.,  6.,  5.],\n",
       "       [ 5.,  7.,  7.,  9.,  5.,  5.,  5.,  7.]])"
      ]
     },
     "execution_count": 66,
     "metadata": {},
     "output_type": "execute_result"
    }
   ],
   "source": [
    "matsoma = mat_aleat + mateye1\n",
    "matsoma"
   ]
  },
  {
   "cell_type": "code",
   "execution_count": 67,
   "id": "31d9a5c4-eb1a-496f-ae18-5196419b000b",
   "metadata": {},
   "outputs": [
    {
     "data": {
      "text/plain": [
       "array([[7., 7., 6., 9., 8., 6., 5., 9.],\n",
       "       [7., 5., 8., 7., 5., 9., 5., 6.],\n",
       "       [7., 7., 4., 8., 6., 6., 5., 6.],\n",
       "       [5., 9., 7., 6., 9., 8., 8., 9.],\n",
       "       [5., 8., 8., 6., 8., 6., 9., 9.],\n",
       "       [6., 7., 5., 7., 5., 5., 7., 6.],\n",
       "       [9., 5., 8., 8., 6., 7., 4., 5.],\n",
       "       [5., 7., 7., 9., 5., 5., 5., 5.]])"
      ]
     },
     "execution_count": 67,
     "metadata": {},
     "output_type": "execute_result"
    }
   ],
   "source": [
    "mat_subtract = mat_aleat - mateye1\n",
    "mat_subtract"
   ]
  },
  {
   "cell_type": "code",
   "execution_count": 69,
   "id": "efcf3059-fb8c-4b3f-ae17-54bf6a1e4184",
   "metadata": {},
   "outputs": [
    {
     "data": {
      "text/plain": [
       "array([ 1,  2,  3,  4,  5,  6,  7,  8,  9, 10], dtype=uint8)"
      ]
     },
     "execution_count": 69,
     "metadata": {},
     "output_type": "execute_result"
    }
   ],
   "source": [
    "ex1 = np.arange(1, 11, dtype=np.uint8)\n",
    "ex1"
   ]
  },
  {
   "cell_type": "code",
   "execution_count": 70,
   "id": "8609c1ac-73b9-45be-9f8a-61e09fe845a9",
   "metadata": {},
   "outputs": [
    {
     "data": {
      "text/plain": [
       "array([[[0.00920367, 0.53849538, 0.8854619 ],\n",
       "        [0.85892162, 0.8615275 , 0.69240192],\n",
       "        [0.20046739, 0.634363  , 0.2036946 ],\n",
       "        ...,\n",
       "        [0.83272101, 0.61963993, 0.8697169 ],\n",
       "        [0.70990538, 0.49581265, 0.57598915],\n",
       "        [0.04086171, 0.70628604, 0.62481516]],\n",
       "\n",
       "       [[0.09155535, 0.82823186, 0.48268176],\n",
       "        [0.79448357, 0.35763428, 0.3592963 ],\n",
       "        [0.13259454, 0.75007806, 0.66644568],\n",
       "        ...,\n",
       "        [0.83720884, 0.75593265, 0.08275736],\n",
       "        [0.58303237, 0.27205545, 0.93640469],\n",
       "        [0.11427073, 0.0274459 , 0.59247952]],\n",
       "\n",
       "       [[0.13114383, 0.63655144, 0.53757027],\n",
       "        [0.65316537, 0.91898185, 0.86512919],\n",
       "        [0.66655771, 0.4598873 , 0.22542531],\n",
       "        ...,\n",
       "        [0.03144034, 0.64055513, 0.54191205],\n",
       "        [0.42011162, 0.33895822, 0.18176284],\n",
       "        [0.09902405, 0.24595164, 0.22035266]],\n",
       "\n",
       "       ...,\n",
       "\n",
       "       [[0.27491991, 0.8096606 , 0.05466869],\n",
       "        [0.73794678, 0.84300501, 0.2221841 ],\n",
       "        [0.74122753, 0.03895765, 0.07198694],\n",
       "        ...,\n",
       "        [0.08006618, 0.0238591 , 0.66925487],\n",
       "        [0.82355052, 0.33925221, 0.59215714],\n",
       "        [0.89134022, 0.2464717 , 0.62699782]],\n",
       "\n",
       "       [[0.51668182, 0.97382866, 0.86108393],\n",
       "        [0.21880555, 0.98433927, 0.34076766],\n",
       "        [0.71423179, 0.47532241, 0.93726434],\n",
       "        ...,\n",
       "        [0.92112705, 0.39284508, 0.57014013],\n",
       "        [0.17949079, 0.22809034, 0.45959091],\n",
       "        [0.93716078, 0.79737765, 0.21815125]],\n",
       "\n",
       "       [[0.75985022, 0.13735098, 0.2990367 ],\n",
       "        [0.04456117, 0.93380376, 0.72503457],\n",
       "        [0.63002739, 0.72882134, 0.0439337 ],\n",
       "        ...,\n",
       "        [0.15838279, 0.95867105, 0.23241866],\n",
       "        [0.52173856, 0.41006629, 0.12757218],\n",
       "        [0.99216126, 0.61926417, 0.17982254]]])"
      ]
     },
     "execution_count": 70,
     "metadata": {},
     "output_type": "execute_result"
    }
   ],
   "source": [
    "ex2 = np.random.random( (300, 200, 3) )\n",
    "ex2"
   ]
  },
  {
   "cell_type": "code",
   "execution_count": 71,
   "id": "18ec3db2-f4b0-4c85-8776-b0520fff7074",
   "metadata": {},
   "outputs": [
    {
     "data": {
      "text/plain": [
       "array([[ 1,  7,  7],\n",
       "       [ 2,  7,  2],\n",
       "       [ 1,  2,  2],\n",
       "       [ 1,  4,  7],\n",
       "       [ 6, 10,  7],\n",
       "       [ 4,  2,  4],\n",
       "       [10,  4,  1],\n",
       "       [ 8,  5,  2],\n",
       "       [ 3, 10,  4],\n",
       "       [ 5,  5,  6],\n",
       "       [ 6,  5,  7],\n",
       "       [ 5,  9,  1],\n",
       "       [10,  1,  3],\n",
       "       [ 5,  7,  7],\n",
       "       [ 2,  8, 10],\n",
       "       [ 1,  7,  7],\n",
       "       [ 9,  2,  6],\n",
       "       [ 4,  1,  1],\n",
       "       [ 5,  8,  9],\n",
       "       [ 8,  7,  8]], dtype=uint8)"
      ]
     },
     "execution_count": 71,
     "metadata": {},
     "output_type": "execute_result"
    }
   ],
   "source": [
    "notas = np.random.randint(1, 11, (20, 3), dtype=np.uint8)\n",
    "notas"
   ]
  },
  {
   "cell_type": "code",
   "execution_count": 73,
   "id": "47bdeb04-f87e-42f1-b2e7-c623249a9b99",
   "metadata": {},
   "outputs": [
    {
     "data": {
      "text/plain": [
       "2"
      ]
     },
     "execution_count": 73,
     "metadata": {},
     "output_type": "execute_result"
    }
   ],
   "source": [
    "notas.ndim"
   ]
  },
  {
   "cell_type": "code",
   "execution_count": 75,
   "id": "3b930018-a078-48a8-a8fb-5d78f6482d67",
   "metadata": {},
   "outputs": [
    {
     "data": {
      "text/plain": [
       "array([92, 22, 55, 53, 94,  6, 28, 39, 62, 18, 59, 95, 37, 24, 78, 35, 37,\n",
       "       11, 23, 67, 75, 43, 62, 81, 34, 50, 60, 46, 11, 11, 67, 85, 38, 18,\n",
       "       94, 94, 93, 29, 68, 11, 52,  9, 55,  1, 96, 45, 98, 79, 90, 64, 95,\n",
       "       82, 88, 81, 40, 44, 61,  9, 43, 51, 29, 15, 74, 18, 17, 53, 52, 36,\n",
       "       90, 24, 58, 68, 58, 31, 74, 44, 52, 30, 28, 25, 66, 11, 31, 81, 40,\n",
       "       27, 58, 98, 78, 36, 80, 68, 37, 95, 33, 14, 69,  9, 99, 58, 75, 92,\n",
       "       46, 81, 64, 60, 79, 80, 23, 99, 37, 48, 52, 46, 33, 68, 89, 70, 97,\n",
       "       88, 18, 61, 57, 28, 16, 81, 76, 25, 64, 67, 20,  9, 83,  2, 83, 57,\n",
       "       33, 96, 35, 59, 45, 64, 18, 28, 21, 34, 43, 94, 56, 31, 30, 18,  6,\n",
       "       90, 92, 40, 77, 85,  5, 99, 15, 72,  5, 69, 76, 65, 43, 52, 86, 86,\n",
       "       83,  2, 66, 85, 46,  5, 97, 27, 70, 85, 73, 42, 44, 96, 13, 59, 39,\n",
       "       16,  7, 75, 96, 87, 67, 60, 50, 87, 17, 43,  1, 43, 57, 22,  4, 65,\n",
       "       93,  2, 56, 30, 84, 72, 31, 91, 69, 21, 97, 14, 37,  8, 15, 50, 32,\n",
       "       20, 72,  5, 15, 44, 21, 79, 16, 62, 33, 93, 33, 94,  4, 19, 73, 37,\n",
       "       98,  7, 24, 26, 20, 18, 85, 11, 19, 18, 66,  7, 20, 80, 45, 46, 62,\n",
       "       41, 26,  8, 37,  5, 68, 50, 50, 69, 37,  5,  1, 88, 11, 21, 89, 95,\n",
       "       62, 75,  2, 85, 98,  2, 94, 91, 73, 23, 91, 26, 73, 84, 12, 44, 45,\n",
       "       81, 78, 98, 86, 10, 69, 45, 86, 35,  1, 62])"
      ]
     },
     "execution_count": 75,
     "metadata": {},
     "output_type": "execute_result"
    }
   ],
   "source": [
    "vet2 = np.random.randint(1, 100, (300,))\n",
    "vet2"
   ]
  },
  {
   "cell_type": "code",
   "execution_count": 77,
   "id": "18485239-0cf6-46b8-8283-14b872293e3f",
   "metadata": {},
   "outputs": [
    {
     "data": {
      "text/plain": [
       "array([[92, 22, 55, 53, 94,  6, 28, 39, 62, 18, 59, 95, 37, 24, 78, 35,\n",
       "        37, 11, 23, 67, 75, 43, 62, 81, 34, 50, 60, 46, 11, 11, 67, 85,\n",
       "        38, 18, 94, 94, 93, 29, 68, 11, 52,  9, 55,  1, 96, 45, 98, 79,\n",
       "        90, 64],\n",
       "       [95, 82, 88, 81, 40, 44, 61,  9, 43, 51, 29, 15, 74, 18, 17, 53,\n",
       "        52, 36, 90, 24, 58, 68, 58, 31, 74, 44, 52, 30, 28, 25, 66, 11,\n",
       "        31, 81, 40, 27, 58, 98, 78, 36, 80, 68, 37, 95, 33, 14, 69,  9,\n",
       "        99, 58],\n",
       "       [75, 92, 46, 81, 64, 60, 79, 80, 23, 99, 37, 48, 52, 46, 33, 68,\n",
       "        89, 70, 97, 88, 18, 61, 57, 28, 16, 81, 76, 25, 64, 67, 20,  9,\n",
       "        83,  2, 83, 57, 33, 96, 35, 59, 45, 64, 18, 28, 21, 34, 43, 94,\n",
       "        56, 31],\n",
       "       [30, 18,  6, 90, 92, 40, 77, 85,  5, 99, 15, 72,  5, 69, 76, 65,\n",
       "        43, 52, 86, 86, 83,  2, 66, 85, 46,  5, 97, 27, 70, 85, 73, 42,\n",
       "        44, 96, 13, 59, 39, 16,  7, 75, 96, 87, 67, 60, 50, 87, 17, 43,\n",
       "         1, 43],\n",
       "       [57, 22,  4, 65, 93,  2, 56, 30, 84, 72, 31, 91, 69, 21, 97, 14,\n",
       "        37,  8, 15, 50, 32, 20, 72,  5, 15, 44, 21, 79, 16, 62, 33, 93,\n",
       "        33, 94,  4, 19, 73, 37, 98,  7, 24, 26, 20, 18, 85, 11, 19, 18,\n",
       "        66,  7],\n",
       "       [20, 80, 45, 46, 62, 41, 26,  8, 37,  5, 68, 50, 50, 69, 37,  5,\n",
       "         1, 88, 11, 21, 89, 95, 62, 75,  2, 85, 98,  2, 94, 91, 73, 23,\n",
       "        91, 26, 73, 84, 12, 44, 45, 81, 78, 98, 86, 10, 69, 45, 86, 35,\n",
       "         1, 62]])"
      ]
     },
     "execution_count": 77,
     "metadata": {},
     "output_type": "execute_result"
    }
   ],
   "source": [
    "mat6x50 = vet2.reshape( (6, 50) )\n",
    "mat6x50"
   ]
  },
  {
   "cell_type": "code",
   "execution_count": 78,
   "id": "d525be80-352d-4f32-b6aa-0547f378e4dc",
   "metadata": {},
   "outputs": [
    {
     "name": "stdout",
     "output_type": "stream",
     "text": [
      "Vet2 Shape:  (300,)\n",
      "mat6x50 Shape:  (6, 50)\n"
     ]
    }
   ],
   "source": [
    "print(\"Vet2 Shape: \", vet2.shape)\n",
    "print(\"mat6x50 Shape: \", mat6x50.shape)"
   ]
  },
  {
   "cell_type": "code",
   "execution_count": 81,
   "id": "d0e87f65-5e3a-4e6a-a1f5-93e9f3cb70f2",
   "metadata": {},
   "outputs": [
    {
     "data": {
      "text/plain": [
       "array([[[92, 22],\n",
       "        [55, 53],\n",
       "        [94,  6],\n",
       "        [28, 39],\n",
       "        [62, 18]],\n",
       "\n",
       "       [[59, 95],\n",
       "        [37, 24],\n",
       "        [78, 35],\n",
       "        [37, 11],\n",
       "        [23, 67]],\n",
       "\n",
       "       [[75, 43],\n",
       "        [62, 81],\n",
       "        [34, 50],\n",
       "        [60, 46],\n",
       "        [11, 11]],\n",
       "\n",
       "       [[67, 85],\n",
       "        [38, 18],\n",
       "        [94, 94],\n",
       "        [93, 29],\n",
       "        [68, 11]],\n",
       "\n",
       "       [[52,  9],\n",
       "        [55,  1],\n",
       "        [96, 45],\n",
       "        [98, 79],\n",
       "        [90, 64]],\n",
       "\n",
       "       [[95, 82],\n",
       "        [88, 81],\n",
       "        [40, 44],\n",
       "        [61,  9],\n",
       "        [43, 51]],\n",
       "\n",
       "       [[29, 15],\n",
       "        [74, 18],\n",
       "        [17, 53],\n",
       "        [52, 36],\n",
       "        [90, 24]],\n",
       "\n",
       "       [[58, 68],\n",
       "        [58, 31],\n",
       "        [74, 44],\n",
       "        [52, 30],\n",
       "        [28, 25]],\n",
       "\n",
       "       [[66, 11],\n",
       "        [31, 81],\n",
       "        [40, 27],\n",
       "        [58, 98],\n",
       "        [78, 36]],\n",
       "\n",
       "       [[80, 68],\n",
       "        [37, 95],\n",
       "        [33, 14],\n",
       "        [69,  9],\n",
       "        [99, 58]],\n",
       "\n",
       "       [[75, 92],\n",
       "        [46, 81],\n",
       "        [64, 60],\n",
       "        [79, 80],\n",
       "        [23, 99]],\n",
       "\n",
       "       [[37, 48],\n",
       "        [52, 46],\n",
       "        [33, 68],\n",
       "        [89, 70],\n",
       "        [97, 88]],\n",
       "\n",
       "       [[18, 61],\n",
       "        [57, 28],\n",
       "        [16, 81],\n",
       "        [76, 25],\n",
       "        [64, 67]],\n",
       "\n",
       "       [[20,  9],\n",
       "        [83,  2],\n",
       "        [83, 57],\n",
       "        [33, 96],\n",
       "        [35, 59]],\n",
       "\n",
       "       [[45, 64],\n",
       "        [18, 28],\n",
       "        [21, 34],\n",
       "        [43, 94],\n",
       "        [56, 31]],\n",
       "\n",
       "       [[30, 18],\n",
       "        [ 6, 90],\n",
       "        [92, 40],\n",
       "        [77, 85],\n",
       "        [ 5, 99]],\n",
       "\n",
       "       [[15, 72],\n",
       "        [ 5, 69],\n",
       "        [76, 65],\n",
       "        [43, 52],\n",
       "        [86, 86]],\n",
       "\n",
       "       [[83,  2],\n",
       "        [66, 85],\n",
       "        [46,  5],\n",
       "        [97, 27],\n",
       "        [70, 85]],\n",
       "\n",
       "       [[73, 42],\n",
       "        [44, 96],\n",
       "        [13, 59],\n",
       "        [39, 16],\n",
       "        [ 7, 75]],\n",
       "\n",
       "       [[96, 87],\n",
       "        [67, 60],\n",
       "        [50, 87],\n",
       "        [17, 43],\n",
       "        [ 1, 43]],\n",
       "\n",
       "       [[57, 22],\n",
       "        [ 4, 65],\n",
       "        [93,  2],\n",
       "        [56, 30],\n",
       "        [84, 72]],\n",
       "\n",
       "       [[31, 91],\n",
       "        [69, 21],\n",
       "        [97, 14],\n",
       "        [37,  8],\n",
       "        [15, 50]],\n",
       "\n",
       "       [[32, 20],\n",
       "        [72,  5],\n",
       "        [15, 44],\n",
       "        [21, 79],\n",
       "        [16, 62]],\n",
       "\n",
       "       [[33, 93],\n",
       "        [33, 94],\n",
       "        [ 4, 19],\n",
       "        [73, 37],\n",
       "        [98,  7]],\n",
       "\n",
       "       [[24, 26],\n",
       "        [20, 18],\n",
       "        [85, 11],\n",
       "        [19, 18],\n",
       "        [66,  7]],\n",
       "\n",
       "       [[20, 80],\n",
       "        [45, 46],\n",
       "        [62, 41],\n",
       "        [26,  8],\n",
       "        [37,  5]],\n",
       "\n",
       "       [[68, 50],\n",
       "        [50, 69],\n",
       "        [37,  5],\n",
       "        [ 1, 88],\n",
       "        [11, 21]],\n",
       "\n",
       "       [[89, 95],\n",
       "        [62, 75],\n",
       "        [ 2, 85],\n",
       "        [98,  2],\n",
       "        [94, 91]],\n",
       "\n",
       "       [[73, 23],\n",
       "        [91, 26],\n",
       "        [73, 84],\n",
       "        [12, 44],\n",
       "        [45, 81]],\n",
       "\n",
       "       [[78, 98],\n",
       "        [86, 10],\n",
       "        [69, 45],\n",
       "        [86, 35],\n",
       "        [ 1, 62]]])"
      ]
     },
     "execution_count": 81,
     "metadata": {},
     "output_type": "execute_result"
    }
   ],
   "source": [
    "mat30 = vet2.reshape( (30, 5, -1) )\n",
    "mat30"
   ]
  },
  {
   "cell_type": "code",
   "execution_count": 91,
   "id": "a8cdcb0e-837e-4b9f-98ca-2c23315c9cc1",
   "metadata": {},
   "outputs": [
    {
     "data": {
      "text/plain": [
       "array([[ 5,  3,  2],\n",
       "       [ 4,  2,  8],\n",
       "       [ 8,  5, 10],\n",
       "       [ 1,  5,  5],\n",
       "       [10,  9,  4],\n",
       "       [ 2,  8,  2],\n",
       "       [ 8,  8,  1],\n",
       "       [ 7,  2,  9],\n",
       "       [ 4,  8,  1],\n",
       "       [ 9,  9,  1]], dtype=uint8)"
      ]
     },
     "execution_count": 91,
     "metadata": {},
     "output_type": "execute_result"
    }
   ],
   "source": [
    "notas = np.random.randint(1, 11, (10, 3), dtype=np.uint8)\n",
    "notas"
   ]
  },
  {
   "cell_type": "code",
   "execution_count": 92,
   "id": "eff4785a-de5e-46dc-aeeb-258a9e3925bf",
   "metadata": {},
   "outputs": [
    {
     "data": {
      "text/plain": [
       "array([ 5,  3,  2,  4,  2,  8,  8,  5, 10,  1,  5,  5, 10,  9,  4,  2,  8,\n",
       "        2,  8,  8,  1,  7,  2,  9,  4,  8,  1,  9,  9,  1], dtype=uint8)"
      ]
     },
     "execution_count": 92,
     "metadata": {},
     "output_type": "execute_result"
    }
   ],
   "source": [
    "todas_notas = notas.reshape( (-1,) )\n",
    "todas_notas"
   ]
  },
  {
   "cell_type": "code",
   "execution_count": 90,
   "id": "4537e19e-22fc-460f-8fcf-deca331b58a3",
   "metadata": {},
   "outputs": [
    {
     "data": {
      "text/plain": [
       "array([ 9,  8,  8,  3,  8,  6,  4,  3, 10,  5,  1,  9,  9,  8,  6,  9,  9,\n",
       "        9,  7,  1,  7,  9,  2,  7,  4,  9,  7, 10,  4,  8], dtype=uint8)"
      ]
     },
     "execution_count": 90,
     "metadata": {},
     "output_type": "execute_result"
    }
   ],
   "source": [
    "notas.ravel(order='F')"
   ]
  },
  {
   "cell_type": "code",
   "execution_count": 110,
   "id": "019d67a5-8faf-4b98-afc9-4ca2933a6041",
   "metadata": {},
   "outputs": [],
   "source": [
    "np.random.seed(50)\n",
    "notas = np.random.randint(1, 11, (10, 3), dtype=np.uint8)"
   ]
  },
  {
   "cell_type": "code",
   "execution_count": 111,
   "id": "513864ac-1a66-4538-9a0e-ff1e57751aae",
   "metadata": {},
   "outputs": [
    {
     "data": {
      "text/plain": [
       "array([[1, 7, 1],\n",
       "       [6, 2, 2],\n",
       "       [8, 4, 9],\n",
       "       [4, 2, 7],\n",
       "       [2, 8, 5],\n",
       "       [5, 1, 6],\n",
       "       [6, 7, 9],\n",
       "       [6, 6, 9],\n",
       "       [8, 1, 7],\n",
       "       [1, 7, 7]], dtype=uint8)"
      ]
     },
     "execution_count": 111,
     "metadata": {},
     "output_type": "execute_result"
    }
   ],
   "source": [
    "notas"
   ]
  },
  {
   "cell_type": "code",
   "execution_count": 121,
   "id": "a2185159-cf80-4df0-b2e5-bfa1f4f9525d",
   "metadata": {},
   "outputs": [],
   "source": [
    "novo_formato_notas_view = notas.reshape((6, -1))"
   ]
  },
  {
   "cell_type": "code",
   "execution_count": 123,
   "id": "d36b9458-3895-475d-a3e4-3794d7dcddb4",
   "metadata": {},
   "outputs": [
    {
     "data": {
      "text/plain": [
       "array([[1, 7, 1, 6, 2],\n",
       "       [2, 8, 4, 9, 4],\n",
       "       [2, 7, 2, 8, 5],\n",
       "       [5, 1, 6, 6, 7],\n",
       "       [9, 6, 6, 9, 8],\n",
       "       [1, 7, 1, 7, 7]], dtype=uint8)"
      ]
     },
     "execution_count": 123,
     "metadata": {},
     "output_type": "execute_result"
    }
   ],
   "source": [
    "novo_formato_notas_view"
   ]
  },
  {
   "cell_type": "code",
   "execution_count": 122,
   "id": "165e0544-c145-49b4-8857-bf4e1f61ae20",
   "metadata": {},
   "outputs": [],
   "source": [
    "novo_formato_notas_copia = notas.reshape((6, -1)).copy()"
   ]
  },
  {
   "cell_type": "code",
   "execution_count": 124,
   "id": "fcb1a9c1-fb5d-4873-b5a4-2c40b4459981",
   "metadata": {},
   "outputs": [
    {
     "data": {
      "text/plain": [
       "array([[1, 7, 1, 6, 2],\n",
       "       [2, 8, 4, 9, 4],\n",
       "       [2, 7, 2, 8, 5],\n",
       "       [5, 1, 6, 6, 7],\n",
       "       [9, 6, 6, 9, 8],\n",
       "       [1, 7, 1, 7, 7]], dtype=uint8)"
      ]
     },
     "execution_count": 124,
     "metadata": {},
     "output_type": "execute_result"
    }
   ],
   "source": [
    "novo_formato_notas_copia"
   ]
  },
  {
   "cell_type": "code",
   "execution_count": 127,
   "id": "5df24a86-a97d-47be-ac37-cf87e200fe15",
   "metadata": {},
   "outputs": [],
   "source": [
    "novo_formato_notas_view[1, 4] = 200"
   ]
  },
  {
   "cell_type": "code",
   "execution_count": 128,
   "id": "1466bcb2-0436-48f3-ade9-89b2d0f4f496",
   "metadata": {},
   "outputs": [
    {
     "data": {
      "text/plain": [
       "array([[  1,   7,   1,   6,   2],\n",
       "       [  2,   8,   4, 200, 200],\n",
       "       [  2,   7,   2,   8,   5],\n",
       "       [  5,   1,   6,   6,   7],\n",
       "       [  9,   6,   6,   9,   8],\n",
       "       [  1,   7,   1,   7,   7]], dtype=uint8)"
      ]
     },
     "execution_count": 128,
     "metadata": {},
     "output_type": "execute_result"
    }
   ],
   "source": [
    "novo_formato_notas_view"
   ]
  },
  {
   "cell_type": "code",
   "execution_count": 129,
   "id": "324577c2-4d6a-4915-904f-98b793fd2da2",
   "metadata": {},
   "outputs": [
    {
     "data": {
      "text/plain": [
       "array([[  1,   7,   1],\n",
       "       [  6,   2,   2],\n",
       "       [  8,   4, 200],\n",
       "       [200,   2,   7],\n",
       "       [  2,   8,   5],\n",
       "       [  5,   1,   6],\n",
       "       [  6,   7,   9],\n",
       "       [  6,   6,   9],\n",
       "       [  8,   1,   7],\n",
       "       [  1,   7,   7]], dtype=uint8)"
      ]
     },
     "execution_count": 129,
     "metadata": {},
     "output_type": "execute_result"
    }
   ],
   "source": [
    "notas"
   ]
  },
  {
   "cell_type": "code",
   "execution_count": 132,
   "id": "f78fbf32-665b-4b3e-a9a4-5ecb8066cd8f",
   "metadata": {},
   "outputs": [
    {
     "name": "stdout",
     "output_type": "stream",
     "text": [
      "10\n",
      "5\n"
     ]
    }
   ],
   "source": [
    "a = 10    # 10\n",
    "b = 20    # 20\n",
    "c = a     # 10\n",
    "c = 5     # 5\n",
    "print(a)  # 10\n",
    "print(c)  # 5"
   ]
  },
  {
   "cell_type": "code",
   "execution_count": 133,
   "id": "883dea05-b827-491b-af6b-ec17666f0137",
   "metadata": {},
   "outputs": [
    {
     "name": "stdout",
     "output_type": "stream",
     "text": [
      "[1, 4, 6]\n",
      "[1, 4, 6]\n",
      "[12, 4, 6]\n",
      "[12, 4, 6]\n"
     ]
    }
   ],
   "source": [
    "lista = [1, 4, 6]\n",
    "\n",
    "outra_lista = lista\n",
    "#           lista   ----------->     [1, 4, 6]\n",
    "#         outra_lista -----------------^\n",
    "\n",
    "print(lista)        # [1, 4, 6]\n",
    "print(outra_lista)  # [1, 4, 6]\n",
    "\n",
    "outra_lista[0] = 12\n",
    "\n",
    "print(lista)        # [12, 4, 6]\n",
    "print(outra_lista)  # [12, 4, 6]"
   ]
  },
  {
   "cell_type": "code",
   "execution_count": 164,
   "id": "70c42c02-8593-4c38-ae79-40330237aa52",
   "metadata": {},
   "outputs": [],
   "source": [
    "arr1 = np.arange(36).reshape(4, 3, 3)"
   ]
  },
  {
   "cell_type": "code",
   "execution_count": 165,
   "id": "47337ab2-55a1-4529-b9d7-f3e2108f41a3",
   "metadata": {},
   "outputs": [
    {
     "data": {
      "text/plain": [
       "array([[[ 0,  1,  2],\n",
       "        [ 3,  4,  5],\n",
       "        [ 6,  7,  8]],\n",
       "\n",
       "       [[ 9, 10, 11],\n",
       "        [12, 13, 14],\n",
       "        [15, 16, 17]],\n",
       "\n",
       "       [[18, 19, 20],\n",
       "        [21, 22, 23],\n",
       "        [24, 25, 26]],\n",
       "\n",
       "       [[27, 28, 29],\n",
       "        [30, 31, 32],\n",
       "        [33, 34, 35]]])"
      ]
     },
     "execution_count": 165,
     "metadata": {},
     "output_type": "execute_result"
    }
   ],
   "source": [
    "arr1"
   ]
  },
  {
   "cell_type": "code",
   "execution_count": 170,
   "id": "dc882acd-db53-4f28-86b5-15a5225b1a26",
   "metadata": {},
   "outputs": [
    {
     "data": {
      "text/plain": [
       "array([[[ 0,  9, 18, 27],\n",
       "        [ 3, 12, 21, 30],\n",
       "        [ 6, 15, 24, 33]],\n",
       "\n",
       "       [[ 1, 10, 19, 28],\n",
       "        [ 4, 13, 22, 31],\n",
       "        [ 7, 16, 25, 34]],\n",
       "\n",
       "       [[ 2, 11, 20, 29],\n",
       "        [ 5, 14, 23, 32],\n",
       "        [ 8, 17, 26, 35]]])"
      ]
     },
     "execution_count": 170,
     "metadata": {},
     "output_type": "execute_result"
    }
   ],
   "source": [
    "arr1.transpose( (2, 1, 0) )"
   ]
  },
  {
   "cell_type": "code",
   "execution_count": 169,
   "id": "1912ed5a-ffd8-4b5d-9195-7e82cc12f870",
   "metadata": {},
   "outputs": [
    {
     "data": {
      "text/plain": [
       "array([[[ 0,  9, 18, 27],\n",
       "        [ 3, 12, 21, 30],\n",
       "        [ 6, 15, 24, 33]],\n",
       "\n",
       "       [[ 1, 10, 19, 28],\n",
       "        [ 4, 13, 22, 31],\n",
       "        [ 7, 16, 25, 34]],\n",
       "\n",
       "       [[ 2, 11, 20, 29],\n",
       "        [ 5, 14, 23, 32],\n",
       "        [ 8, 17, 26, 35]]])"
      ]
     },
     "execution_count": 169,
     "metadata": {},
     "output_type": "execute_result"
    }
   ],
   "source": [
    "arr1.T"
   ]
  },
  {
   "cell_type": "code",
   "execution_count": 178,
   "id": "f47646db-9f96-43ac-b6a7-6c5234b98177",
   "metadata": {},
   "outputs": [],
   "source": [
    "np.savez('notas.npz', matriz=arr1)"
   ]
  },
  {
   "cell_type": "code",
   "execution_count": 179,
   "id": "2c112e60-a83f-43bd-bc0f-ae34ee1aeb1f",
   "metadata": {},
   "outputs": [],
   "source": [
    "arr2 = np.load('notas.npz')['matriz']"
   ]
  },
  {
   "cell_type": "code",
   "execution_count": 180,
   "id": "bd14db7c-e805-4c2e-851a-307c063e8343",
   "metadata": {},
   "outputs": [
    {
     "data": {
      "text/plain": [
       "array([[[ 0,  1,  2],\n",
       "        [ 3,  4,  5],\n",
       "        [ 6,  7,  8]],\n",
       "\n",
       "       [[ 9, 10, 11],\n",
       "        [12, 13, 14],\n",
       "        [15, 16, 17]],\n",
       "\n",
       "       [[18, 19, 20],\n",
       "        [21, 22, 23],\n",
       "        [24, 25, 26]],\n",
       "\n",
       "       [[27, 28, 29],\n",
       "        [30, 31, 32],\n",
       "        [33, 34, 35]]])"
      ]
     },
     "execution_count": 180,
     "metadata": {},
     "output_type": "execute_result"
    }
   ],
   "source": [
    "arr2"
   ]
  },
  {
   "cell_type": "code",
   "execution_count": 181,
   "id": "ad319b69-bdef-47fd-afbe-6d9cc0497ed5",
   "metadata": {},
   "outputs": [
    {
     "data": {
      "text/plain": [
       "array([[[ 0,  2,  4],\n",
       "        [ 6,  8, 10],\n",
       "        [12, 14, 16]],\n",
       "\n",
       "       [[18, 20, 22],\n",
       "        [24, 26, 28],\n",
       "        [30, 32, 34]],\n",
       "\n",
       "       [[36, 38, 40],\n",
       "        [42, 44, 46],\n",
       "        [48, 50, 52]],\n",
       "\n",
       "       [[54, 56, 58],\n",
       "        [60, 62, 64],\n",
       "        [66, 68, 70]]])"
      ]
     },
     "execution_count": 181,
     "metadata": {},
     "output_type": "execute_result"
    }
   ],
   "source": [
    "arr2 * 2"
   ]
  },
  {
   "cell_type": "code",
   "execution_count": 182,
   "id": "b5126375-00ba-4472-96f9-d10bdaea0664",
   "metadata": {},
   "outputs": [
    {
     "name": "stdout",
     "output_type": "stream",
     "text": [
      "[ 0  1  2  3  4  5  6  7  8  9 10 11 12 13 14 15 16 17 18 19 20 21 22 23\n",
      " 24 25 26 27 28 29]\n",
      "[23 46  6  3 32 59  8 48  5 15 36 29 28 27 27  7 21 44 32 50 22 43 42  1\n",
      "  7 20  3 16 31 42]\n",
      "[   0   46   12    9  128  295   48  336   40  135  360  319  336  351\n",
      "  378  105  336  748  576  950  440  903  924   23  168  500   78  432\n",
      "  868 1218]\n"
     ]
    }
   ],
   "source": [
    "ar1 = np.arange(30)\n",
    "ar2 = np.random.randint(1, 60, (30,))\n",
    "print(ar1)\n",
    "print(ar2)\n",
    "print(ar1 * ar2)"
   ]
  },
  {
   "cell_type": "code",
   "execution_count": 183,
   "id": "32b82be6-82de-4b34-8b1d-f5d45ce219e6",
   "metadata": {},
   "outputs": [
    {
     "data": {
      "text/plain": [
       "array([False, False, False, False, False,  True, False, False, False,\n",
       "       False, False, False, False, False, False, False, False, False,\n",
       "       False, False, False, False, False, False, False, False, False,\n",
       "       False, False, False])"
      ]
     },
     "execution_count": 183,
     "metadata": {},
     "output_type": "execute_result"
    }
   ],
   "source": [
    "ar2 > 50"
   ]
  },
  {
   "cell_type": "code",
   "execution_count": 184,
   "id": "8e49a268-3946-4620-925d-aa6bdc256f3d",
   "metadata": {},
   "outputs": [],
   "source": [
    "ar1 *= 2"
   ]
  },
  {
   "cell_type": "code",
   "execution_count": 185,
   "id": "9a8d6466-4ed4-436f-ad2a-0136d0b3cb9e",
   "metadata": {},
   "outputs": [
    {
     "data": {
      "text/plain": [
       "array([ 0,  2,  4,  6,  8, 10, 12, 14, 16, 18, 20, 22, 24, 26, 28, 30, 32,\n",
       "       34, 36, 38, 40, 42, 44, 46, 48, 50, 52, 54, 56, 58])"
      ]
     },
     "execution_count": 185,
     "metadata": {},
     "output_type": "execute_result"
    }
   ],
   "source": [
    "ar1"
   ]
  },
  {
   "cell_type": "code",
   "execution_count": 186,
   "id": "7a629200-4851-4e96-b27e-f87011353ff5",
   "metadata": {},
   "outputs": [],
   "source": [
    "ar3 = ar1 ** (1/2)"
   ]
  },
  {
   "cell_type": "code",
   "execution_count": 187,
   "id": "c7f558d8-8932-4c6d-ad3b-8700ae8c7ef0",
   "metadata": {},
   "outputs": [
    {
     "data": {
      "text/plain": [
       "array([0.        , 1.41421356, 2.        , 2.44948974, 2.82842712,\n",
       "       3.16227766, 3.46410162, 3.74165739, 4.        , 4.24264069,\n",
       "       4.47213595, 4.69041576, 4.89897949, 5.09901951, 5.29150262,\n",
       "       5.47722558, 5.65685425, 5.83095189, 6.        , 6.164414  ,\n",
       "       6.32455532, 6.4807407 , 6.63324958, 6.78232998, 6.92820323,\n",
       "       7.07106781, 7.21110255, 7.34846923, 7.48331477, 7.61577311])"
      ]
     },
     "execution_count": 187,
     "metadata": {},
     "output_type": "execute_result"
    }
   ],
   "source": [
    "ar3"
   ]
  },
  {
   "cell_type": "code",
   "execution_count": 195,
   "id": "b821b0d0-06b5-44f0-bceb-a92ad7099851",
   "metadata": {},
   "outputs": [],
   "source": [
    "ar3[0] = np.nan"
   ]
  },
  {
   "cell_type": "code",
   "execution_count": 196,
   "id": "dde36191-fe99-40c2-ab87-bd74ff8c28c4",
   "metadata": {},
   "outputs": [
    {
     "data": {
      "text/plain": [
       "array([       nan, 1.41421356, 2.        , 2.44948974, 2.82842712,\n",
       "       3.16227766, 3.46410162, 3.74165739, 4.        , 4.24264069,\n",
       "       4.47213595, 4.69041576, 4.89897949, 5.09901951, 5.29150262,\n",
       "       5.47722558, 5.65685425, 5.83095189, 6.        , 6.164414  ,\n",
       "       6.32455532, 6.4807407 , 6.63324958, 6.78232998, 6.92820323,\n",
       "       7.07106781, 7.21110255, 7.34846923, 7.48331477, 7.61577311])"
      ]
     },
     "execution_count": 196,
     "metadata": {},
     "output_type": "execute_result"
    }
   ],
   "source": [
    "ar3"
   ]
  },
  {
   "cell_type": "code",
   "execution_count": 197,
   "id": "7a534d37-10c8-41d6-addf-6a6cb460bc7f",
   "metadata": {},
   "outputs": [
    {
     "data": {
      "text/plain": [
       "array([ True, False, False, False, False, False, False, False, False,\n",
       "       False, False, False, False, False, False, False, False, False,\n",
       "       False, False, False, False, False, False, False, False, False,\n",
       "       False, False, False])"
      ]
     },
     "execution_count": 197,
     "metadata": {},
     "output_type": "execute_result"
    }
   ],
   "source": [
    "np.isnan(ar3)"
   ]
  },
  {
   "cell_type": "code",
   "execution_count": 202,
   "id": "ec54ff54-6ed7-47c2-aded-fcc3df8eea82",
   "metadata": {},
   "outputs": [],
   "source": [
    "ar5 = ar3.reshape((5, -1))"
   ]
  },
  {
   "cell_type": "code",
   "execution_count": 203,
   "id": "3d602392-c50d-4814-a34d-528b6485e43a",
   "metadata": {},
   "outputs": [
    {
     "data": {
      "text/plain": [
       "array([[       nan, 1.41421356, 2.        , 2.44948974, 2.82842712,\n",
       "        3.16227766],\n",
       "       [3.46410162, 3.74165739, 4.        , 4.24264069, 4.47213595,\n",
       "        4.69041576],\n",
       "       [4.89897949, 5.09901951, 5.29150262, 5.47722558, 5.65685425,\n",
       "        5.83095189],\n",
       "       [6.        , 6.164414  , 6.32455532, 6.4807407 , 6.63324958,\n",
       "        6.78232998],\n",
       "       [6.92820323, 7.07106781, 7.21110255, 7.34846923, 7.48331477,\n",
       "        7.61577311]])"
      ]
     },
     "execution_count": 203,
     "metadata": {},
     "output_type": "execute_result"
    }
   ],
   "source": [
    "ar5"
   ]
  },
  {
   "cell_type": "code",
   "execution_count": 210,
   "id": "21f2f5d5-654b-41ba-a896-e038b2e3078c",
   "metadata": {},
   "outputs": [
    {
     "data": {
      "text/plain": [
       "array([[2.        ],\n",
       "       [4.        ],\n",
       "       [5.29150262],\n",
       "       [6.32455532],\n",
       "       [7.21110255]])"
      ]
     },
     "execution_count": 210,
     "metadata": {},
     "output_type": "execute_result"
    }
   ],
   "source": [
    "ar5[:, 2:3]"
   ]
  },
  {
   "cell_type": "code",
   "execution_count": 212,
   "id": "44633575-02be-4beb-a0b7-3bab25633bb1",
   "metadata": {},
   "outputs": [
    {
     "data": {
      "text/plain": [
       "array([2.        , 4.        , 5.29150262, 6.32455532, 7.21110255])"
      ]
     },
     "execution_count": 212,
     "metadata": {},
     "output_type": "execute_result"
    }
   ],
   "source": [
    "ar5[:, 2:3].ravel()"
   ]
  },
  {
   "cell_type": "code",
   "execution_count": 213,
   "id": "03ae4dc0-5cb2-43b3-a9cc-440984fd0c4e",
   "metadata": {},
   "outputs": [
    {
     "data": {
      "text/plain": [
       "array([[       nan, 1.41421356, 2.        , 2.44948974, 2.82842712,\n",
       "        3.16227766],\n",
       "       [3.46410162, 3.74165739, 4.        , 4.24264069, 4.47213595,\n",
       "        4.69041576],\n",
       "       [4.89897949, 5.09901951, 5.29150262, 5.47722558, 5.65685425,\n",
       "        5.83095189],\n",
       "       [6.        , 6.164414  , 6.32455532, 6.4807407 , 6.63324958,\n",
       "        6.78232998],\n",
       "       [6.92820323, 7.07106781, 7.21110255, 7.34846923, 7.48331477,\n",
       "        7.61577311]])"
      ]
     },
     "execution_count": 213,
     "metadata": {},
     "output_type": "execute_result"
    }
   ],
   "source": [
    "ar5"
   ]
  },
  {
   "cell_type": "code",
   "execution_count": 215,
   "id": "92f37ea3-c7fe-4c0f-8aed-bec3566695e8",
   "metadata": {},
   "outputs": [],
   "source": [
    "ar5[ar5<3] = 0"
   ]
  },
  {
   "cell_type": "code",
   "execution_count": 216,
   "id": "7bb1695d-1893-477c-b472-35414114989c",
   "metadata": {},
   "outputs": [
    {
     "data": {
      "text/plain": [
       "array([[       nan, 0.        , 0.        , 0.        , 0.        ,\n",
       "        3.16227766],\n",
       "       [3.46410162, 3.74165739, 4.        , 4.24264069, 4.47213595,\n",
       "        4.69041576],\n",
       "       [4.89897949, 5.09901951, 5.29150262, 5.47722558, 5.65685425,\n",
       "        5.83095189],\n",
       "       [6.        , 6.164414  , 6.32455532, 6.4807407 , 6.63324958,\n",
       "        6.78232998],\n",
       "       [6.92820323, 7.07106781, 7.21110255, 7.34846923, 7.48331477,\n",
       "        7.61577311]])"
      ]
     },
     "execution_count": 216,
     "metadata": {},
     "output_type": "execute_result"
    }
   ],
   "source": [
    "ar5"
   ]
  },
  {
   "cell_type": "code",
   "execution_count": 218,
   "id": "5d03b209-e404-454f-859e-f5807bcfa3c3",
   "metadata": {},
   "outputs": [],
   "source": [
    "ar5[np.isnan(ar5)] = 0"
   ]
  },
  {
   "cell_type": "code",
   "execution_count": 219,
   "id": "26b25080-f5f3-42cf-9337-84318a425130",
   "metadata": {},
   "outputs": [
    {
     "data": {
      "text/plain": [
       "array([[0.        , 0.        , 0.        , 0.        , 0.        ,\n",
       "        3.16227766],\n",
       "       [3.46410162, 3.74165739, 4.        , 4.24264069, 4.47213595,\n",
       "        4.69041576],\n",
       "       [4.89897949, 5.09901951, 5.29150262, 5.47722558, 5.65685425,\n",
       "        5.83095189],\n",
       "       [6.        , 6.164414  , 6.32455532, 6.4807407 , 6.63324958,\n",
       "        6.78232998],\n",
       "       [6.92820323, 7.07106781, 7.21110255, 7.34846923, 7.48331477,\n",
       "        7.61577311]])"
      ]
     },
     "execution_count": 219,
     "metadata": {},
     "output_type": "execute_result"
    }
   ],
   "source": [
    "ar5"
   ]
  },
  {
   "cell_type": "code",
   "execution_count": 228,
   "id": "07c3d71a-ca69-4ffe-af5d-ce3d1c554f35",
   "metadata": {},
   "outputs": [
    {
     "data": {
      "text/plain": [
       "array([0.        , 4.12132034, 5.3843641 , 6.40264801, 7.27978589])"
      ]
     },
     "execution_count": 228,
     "metadata": {},
     "output_type": "execute_result"
    }
   ],
   "source": [
    "np.median(ar5, axis=1)"
   ]
  },
  {
   "cell_type": "code",
   "execution_count": 229,
   "id": "6625720a-dd62-40ac-9816-99271604398d",
   "metadata": {},
   "outputs": [],
   "source": [
    "mat1 = np.random.randint(1, 10, (2, 3))"
   ]
  },
  {
   "cell_type": "code",
   "execution_count": 230,
   "id": "720c598a-bee4-4aa1-8fce-f6acf0490199",
   "metadata": {},
   "outputs": [],
   "source": [
    "mat2 = np.random.randint(1, 10, (2, 3))"
   ]
  },
  {
   "cell_type": "code",
   "execution_count": 238,
   "id": "5746b3c9-6230-43d0-915f-870b95b169d2",
   "metadata": {},
   "outputs": [
    {
     "data": {
      "text/plain": [
       "array([[4, 4, 4],\n",
       "       [3, 1, 4]])"
      ]
     },
     "execution_count": 238,
     "metadata": {},
     "output_type": "execute_result"
    }
   ],
   "source": [
    "mat1"
   ]
  },
  {
   "cell_type": "code",
   "execution_count": 237,
   "id": "cfc01c94-3faa-4d9e-9aef-2869dd69cc8a",
   "metadata": {},
   "outputs": [
    {
     "data": {
      "text/plain": [
       "array([[3, 1, 4],\n",
       "       [1, 1, 8]])"
      ]
     },
     "execution_count": 237,
     "metadata": {},
     "output_type": "execute_result"
    }
   ],
   "source": [
    "mat2"
   ]
  },
  {
   "cell_type": "code",
   "execution_count": 239,
   "id": "b33b148c-61b8-4ecc-8586-28763c3aa0d2",
   "metadata": {},
   "outputs": [
    {
     "data": {
      "text/plain": [
       "array([[15,  7, 40],\n",
       "       [13,  5, 24],\n",
       "       [16,  8, 48]])"
      ]
     },
     "execution_count": 239,
     "metadata": {},
     "output_type": "execute_result"
    }
   ],
   "source": [
    "np.matmul(mat1.T, mat2)"
   ]
  },
  {
   "cell_type": "code",
   "execution_count": 243,
   "id": "33c16d7f-d7b9-4f48-b690-9f0bf7300d70",
   "metadata": {},
   "outputs": [
    {
     "data": {
      "text/plain": [
       "array([[15,  7, 40],\n",
       "       [13,  5, 24],\n",
       "       [16,  8, 48]])"
      ]
     },
     "execution_count": 243,
     "metadata": {},
     "output_type": "execute_result"
    }
   ],
   "source": [
    "mat1.T @ mat2"
   ]
  },
  {
   "cell_type": "code",
   "execution_count": 245,
   "id": "93bdafe0-4808-425b-9274-565f90627a39",
   "metadata": {},
   "outputs": [
    {
     "data": {
      "text/plain": [
       "array([4, 4, 4, 3, 1, 4])"
      ]
     },
     "execution_count": 245,
     "metadata": {},
     "output_type": "execute_result"
    }
   ],
   "source": [
    "v1 = mat1.ravel()\n",
    "v1"
   ]
  },
  {
   "cell_type": "code",
   "execution_count": 246,
   "id": "86d691dd-62ba-48f8-86dd-c545fdb8ddd3",
   "metadata": {},
   "outputs": [
    {
     "data": {
      "text/plain": [
       "array([3, 1, 4, 1, 1, 8])"
      ]
     },
     "execution_count": 246,
     "metadata": {},
     "output_type": "execute_result"
    }
   ],
   "source": [
    "v2 = mat2.ravel()\n",
    "v2"
   ]
  },
  {
   "cell_type": "code",
   "execution_count": 247,
   "id": "6786b8da-6d3e-4fb0-bb48-af5e1a8785f5",
   "metadata": {},
   "outputs": [
    {
     "data": {
      "text/plain": [
       "68"
      ]
     },
     "execution_count": 247,
     "metadata": {},
     "output_type": "execute_result"
    }
   ],
   "source": [
    "np.dot(v1, v2)"
   ]
  },
  {
   "cell_type": "code",
   "execution_count": null,
   "id": "a496f407-b1cf-4000-bd21-108f804dd671",
   "metadata": {},
   "outputs": [],
   "source": []
  }
 ],
 "metadata": {
  "kernelspec": {
   "display_name": "Python 3 (ipykernel)",
   "language": "python",
   "name": "python3"
  },
  "language_info": {
   "codemirror_mode": {
    "name": "ipython",
    "version": 3
   },
   "file_extension": ".py",
   "mimetype": "text/x-python",
   "name": "python",
   "nbconvert_exporter": "python",
   "pygments_lexer": "ipython3",
   "version": "3.12.4"
  }
 },
 "nbformat": 4,
 "nbformat_minor": 5
}
