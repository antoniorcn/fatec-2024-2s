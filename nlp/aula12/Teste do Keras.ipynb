{
 "cells": [
  {
   "cell_type": "markdown",
   "id": "4b14a1f0-1c70-43ef-86bc-cce79d2597f1",
   "metadata": {},
   "source": [
    "## Teste do Keras"
   ]
  },
  {
   "cell_type": "code",
   "execution_count": 1,
   "id": "3364a2b4-336c-4054-866c-c214aeaf1127",
   "metadata": {},
   "outputs": [],
   "source": [
    "from tensorflow.keras import Sequential"
   ]
  },
  {
   "cell_type": "code",
   "execution_count": 2,
   "id": "4470e5ea-61e2-45fb-a105-4e7869ea9aab",
   "metadata": {},
   "outputs": [],
   "source": [
    "from tensorflow.keras.layers import Input, Dense"
   ]
  },
  {
   "cell_type": "code",
   "execution_count": 22,
   "id": "1c8d3f1a-7eaa-4f01-8434-b1088e133c86",
   "metadata": {},
   "outputs": [],
   "source": [
    "from tensorflow.keras.optimizers import Adam"
   ]
  },
  {
   "cell_type": "code",
   "execution_count": 5,
   "id": "7fe8bffb-fa0d-4884-b154-326a0ac42afa",
   "metadata": {},
   "outputs": [],
   "source": [
    "import numpy as np"
   ]
  },
  {
   "cell_type": "markdown",
   "id": "2b51a98b-5bca-4af4-87d2-ebe3c322a607",
   "metadata": {},
   "source": [
    "### Ler os dados"
   ]
  },
  {
   "cell_type": "code",
   "execution_count": null,
   "id": "30fd8cf8-c9d8-4593-9fc7-6c7d1fa9eacf",
   "metadata": {},
   "outputs": [],
   "source": [
    "np.random.seed(100)\n",
    "x = np.array([ np.random.randint(0, 100, 5) for _ in range(20) ])\n",
    "x"
   ]
  },
  {
   "cell_type": "code",
   "execution_count": null,
   "id": "74e014fe-b9f6-4ca7-93cf-90e81b615c12",
   "metadata": {},
   "outputs": [],
   "source": [
    "np.random.seed(100)\n",
    "y = np.array([ np.random.randint(0, 2) for _ in range(20) ])\n",
    "y"
   ]
  },
  {
   "cell_type": "markdown",
   "id": "1425c890-6abc-4ee7-ad99-18d6e45e159f",
   "metadata": {},
   "source": [
    "### Criar Modelo"
   ]
  },
  {
   "cell_type": "code",
   "execution_count": 3,
   "id": "7b7cbe12-ba7b-4850-9a13-5b1882736c62",
   "metadata": {},
   "outputs": [],
   "source": [
    "modelo = Sequential()"
   ]
  },
  {
   "cell_type": "code",
   "execution_count": 17,
   "id": "28fb7de8-f539-4d43-b5a4-efe3627854f0",
   "metadata": {},
   "outputs": [],
   "source": [
    "modelo.add( Input( (5,) ) )"
   ]
  },
  {
   "cell_type": "code",
   "execution_count": 18,
   "id": "60c87792-6b5f-480a-8ab6-05599bcc8629",
   "metadata": {},
   "outputs": [],
   "source": [
    "modelo.add( Dense(10) )"
   ]
  },
  {
   "cell_type": "code",
   "execution_count": 19,
   "id": "4e2a814d-7fb5-4715-b647-ce272b9101df",
   "metadata": {},
   "outputs": [],
   "source": [
    "modelo.add( Dense(4) )"
   ]
  },
  {
   "cell_type": "code",
   "execution_count": 20,
   "id": "7300ab63-a37c-430b-99cb-e26056e01544",
   "metadata": {},
   "outputs": [],
   "source": [
    "modelo.add( Dense(1) )"
   ]
  },
  {
   "cell_type": "code",
   "execution_count": null,
   "id": "1f235ec8-c36f-4dff-b327-4c2985b53cc8",
   "metadata": {},
   "outputs": [],
   "source": [
    "modelo.summary()"
   ]
  },
  {
   "cell_type": "code",
   "execution_count": 23,
   "id": "58a4b7d2-1c87-4d8b-a10e-f50b0b9dc858",
   "metadata": {},
   "outputs": [],
   "source": [
    "adam = Adam(learning_rate=0.01)\n",
    "modelo.compile(optimizer = adam, loss=\"binary_crossentropy\", metrics=[\"Accuracy\"])"
   ]
  },
  {
   "cell_type": "code",
   "execution_count": null,
   "id": "d1cc54dc-a673-4008-abbe-7899c0922471",
   "metadata": {},
   "outputs": [],
   "source": [
    "history = modelo.fit(x, y, epochs=200, batch_size=4)"
   ]
  }
 ],
 "metadata": {
  "kernelspec": {
   "display_name": "Python 3 (ipykernel)",
   "language": "python",
   "name": "python3"
  },
  "language_info": {
   "codemirror_mode": {
    "name": "ipython",
    "version": 3
   },
   "file_extension": ".py",
   "mimetype": "text/x-python",
   "name": "python",
   "nbconvert_exporter": "python",
   "pygments_lexer": "ipython3",
   "version": "3.12.4"
  }
 },
 "nbformat": 4,
 "nbformat_minor": 5
}
