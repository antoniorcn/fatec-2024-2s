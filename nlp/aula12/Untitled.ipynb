{
 "cells": [
  {
   "cell_type": "code",
   "execution_count": 15,
   "id": "38ecb4c5-178e-4619-bafd-a312485297fa",
   "metadata": {},
   "outputs": [
    {
     "name": "stdout",
     "output_type": "stream",
     "text": [
      "(4, 9)\n"
     ]
    }
   ],
   "source": [
    "from sklearn.feature_extraction.text import TfidfVectorizer\n",
    "corpus = [\n",
    "    'This is the first document.',\n",
    "    'This document is the second document.',\n",
    "    'And this is the third one.',\n",
    "    'Is this the first document?',\n",
    "]\n",
    "vectorizer = TfidfVectorizer()\n",
    "X = vectorizer.fit_transform(corpus)\n",
    "vectorizer.get_feature_names_out()\n",
    "print(X.shape)"
   ]
  },
  {
   "cell_type": "code",
   "execution_count": 16,
   "id": "cbdf309c-65c2-43f3-bf12-2aee8a649bb6",
   "metadata": {},
   "outputs": [
    {
     "name": "stdout",
     "output_type": "stream",
     "text": [
      "['This is the first document.', 'This document is the second document.', 'And this is the third one.', 'Is this the first document?']\n"
     ]
    }
   ],
   "source": [
    "print(corpus)"
   ]
  },
  {
   "cell_type": "code",
   "execution_count": 17,
   "id": "8acb1da8-b200-4cfe-bef5-ef963033974c",
   "metadata": {},
   "outputs": [
    {
     "name": "stdout",
     "output_type": "stream",
     "text": [
      "dict_items([('This', 2), ('is', 3), ('the', 4), ('first', 2), ('document', 4), ('.', 3), ('second', 1), ('And', 1), ('this', 2), ('third', 1), ('one', 1), ('Is', 1), ('?', 1)])\n",
      "This : 2\n",
      "is : 3\n",
      "the : 4\n",
      "first : 2\n",
      "document : 4\n",
      ". : 3\n",
      "second : 1\n",
      "And : 1\n",
      "this : 2\n",
      "third : 1\n",
      "one : 1\n",
      "Is : 1\n",
      "? : 1\n"
     ]
    }
   ],
   "source": [
    "from nltk import FreqDist, word_tokenize\n",
    "words = word_tokenize(\" \".join(corpus))\n",
    "dist = FreqDist(words)\n",
    "print(dist.items())\n",
    "for k, v in dist.items():\n",
    "    print(k, ':', v)"
   ]
  },
  {
   "cell_type": "code",
   "execution_count": null,
   "id": "5eb48cd5-69d5-4daf-b8dd-1f05100eb7e1",
   "metadata": {},
   "outputs": [],
   "source": []
  }
 ],
 "metadata": {
  "kernelspec": {
   "display_name": "Python 3 (ipykernel)",
   "language": "python",
   "name": "python3"
  },
  "language_info": {
   "codemirror_mode": {
    "name": "ipython",
    "version": 3
   },
   "file_extension": ".py",
   "mimetype": "text/x-python",
   "name": "python",
   "nbconvert_exporter": "python",
   "pygments_lexer": "ipython3",
   "version": "3.12.4"
  }
 },
 "nbformat": 4,
 "nbformat_minor": 5
}
