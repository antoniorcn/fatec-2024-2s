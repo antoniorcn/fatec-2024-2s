{
 "cells": [
  {
   "cell_type": "code",
   "execution_count": 1,
   "id": "6f91a526-d5f4-4044-9b98-d0cc15e6cac6",
   "metadata": {},
   "outputs": [],
   "source": [
    "# !pip install -U gensim"
   ]
  },
  {
   "cell_type": "code",
   "execution_count": 2,
   "id": "7fc78670-3d03-42ce-98cb-ba11162b1c87",
   "metadata": {},
   "outputs": [],
   "source": [
    "from gensim.models import Word2Vec, KeyedVectors"
   ]
  },
  {
   "cell_type": "code",
   "execution_count": 3,
   "id": "112faccb-b1c6-4f4f-ba81-6d640014b4ba",
   "metadata": {},
   "outputs": [],
   "source": [
    "import numpy as np"
   ]
  },
  {
   "cell_type": "code",
   "execution_count": 12,
   "id": "3a971f4d-91c6-45f2-8424-0c454510e42f",
   "metadata": {},
   "outputs": [],
   "source": [
    "from math import sqrt"
   ]
  },
  {
   "cell_type": "code",
   "execution_count": 6,
   "id": "6398e191-4520-4297-b21b-d425adb5aa71",
   "metadata": {},
   "outputs": [],
   "source": [
    "modelo = KeyedVectors.load_word2vec_format(\"/git/dados/skip_s100/skip_s100.txt\")"
   ]
  },
  {
   "cell_type": "code",
   "execution_count": 7,
   "id": "0cbbd6cb-fa1d-4b29-b389-00b0eb5c4128",
   "metadata": {},
   "outputs": [
    {
     "data": {
      "text/plain": [
       "array([-0.164461, -0.014363,  0.124512, -0.303955,  0.160792, -0.032028,\n",
       "       -0.048507, -0.034208,  0.107088, -0.093499,  0.349632, -0.087973,\n",
       "       -0.101196,  0.054815,  0.237671, -0.061357,  0.264327,  0.298272,\n",
       "       -0.024176,  0.389583,  0.065943,  0.054307,  0.106118,  0.23514 ,\n",
       "        0.078463,  0.282537, -0.150036, -0.006788,  0.051575,  0.083578,\n",
       "        0.242771, -0.223759, -0.146031, -0.159297,  0.287694, -0.083225,\n",
       "       -0.158965, -0.046706, -0.039911,  0.224569,  0.168114,  0.083644,\n",
       "        0.137285,  0.020159,  0.088486, -0.141225,  0.265956,  0.023687,\n",
       "        0.166814,  0.052159, -0.223885, -0.215677,  0.429719,  0.225931,\n",
       "        0.125467,  0.116944, -0.012855, -0.188196, -0.008294,  0.582053,\n",
       "        0.032072,  0.036928,  0.016363, -0.003704, -0.225326,  0.073739,\n",
       "        0.432913,  0.521782, -0.073163,  0.16542 ,  0.003852,  0.422371,\n",
       "        0.14309 , -0.079214,  0.112097, -0.142931,  0.104638,  0.324669,\n",
       "       -0.213694, -0.496184,  0.051481,  0.218193, -0.048533, -0.069502,\n",
       "       -0.037793, -0.303088,  0.215114, -0.083878, -0.049161,  0.013102,\n",
       "       -0.164921, -0.024278, -0.138655, -0.295473, -0.355548, -0.032664,\n",
       "        0.310142, -0.054391,  0.226432,  0.079264], dtype=float32)"
      ]
     },
     "execution_count": 7,
     "metadata": {},
     "output_type": "execute_result"
    }
   ],
   "source": [
    "modelo[\"gato\"]"
   ]
  },
  {
   "cell_type": "code",
   "execution_count": 8,
   "id": "eaac83a3-a284-4793-87b4-988867f6933f",
   "metadata": {},
   "outputs": [
    {
     "data": {
      "text/plain": [
       "array([-0.120855,  0.142748,  0.33329 , -0.458408,  0.165795,  0.115795,\n",
       "       -0.09248 ,  0.118047,  0.204536, -0.043614,  0.520415, -0.243856,\n",
       "       -0.138482,  0.013037,  0.271511,  0.074955,  0.169142,  0.203659,\n",
       "        0.081966,  0.206962,  0.139761,  0.055289,  0.180872,  0.066996,\n",
       "        0.059843, -0.007463,  0.064181, -0.02115 ,  0.144298,  0.055224,\n",
       "       -0.063123, -0.119951, -0.314943, -0.085055,  0.085   , -0.236553,\n",
       "       -0.079574, -0.039084, -0.09841 ,  0.320326,  0.338962, -0.093811,\n",
       "        0.046141, -0.256948, -0.087286, -0.209481,  0.152284,  0.021496,\n",
       "        0.15237 ,  0.217062, -0.260962, -0.460695,  0.424814,  0.413395,\n",
       "        0.178936,  0.244298, -0.10086 , -0.242971, -0.055021,  0.480354,\n",
       "        0.057856, -0.159296, -0.131148, -0.053389, -0.121464,  0.083543,\n",
       "        0.421867,  0.107399,  0.029249,  0.224346,  0.149752,  0.321111,\n",
       "        0.029659, -0.104618, -0.12109 , -0.149852,  0.128889,  0.201505,\n",
       "       -0.261895, -0.274536,  0.044398,  0.256269, -0.187358,  0.012207,\n",
       "        0.140001, -0.434473,  0.297021,  0.075083,  0.06117 , -0.031541,\n",
       "       -0.27074 ,  0.070647, -0.288571, -0.146701, -0.341435, -0.032322,\n",
       "       -0.091296,  0.059748,  0.210659, -0.09091 ], dtype=float32)"
      ]
     },
     "execution_count": 8,
     "metadata": {},
     "output_type": "execute_result"
    }
   ],
   "source": [
    "modelo[\"cachorro\"]"
   ]
  },
  {
   "cell_type": "code",
   "execution_count": 15,
   "id": "ab2447bd-da31-4540-becd-459662b3820f",
   "metadata": {},
   "outputs": [],
   "source": [
    "vetor_gato = modelo[\"gato\"]"
   ]
  },
  {
   "cell_type": "code",
   "execution_count": 25,
   "id": "f083faa4-550e-4e2c-9078-2b40e3a6dcd9",
   "metadata": {},
   "outputs": [],
   "source": [
    "def calcular_normal( vetor ):\n",
    "    soma = 0\n",
    "    for valor in vetor:\n",
    "        soma += (valor ** 2)\n",
    "    return sqrt(soma)"
   ]
  },
  {
   "cell_type": "code",
   "execution_count": 28,
   "id": "5b285a69-eaee-4f6a-805e-de6f404d4e34",
   "metadata": {},
   "outputs": [
    {
     "data": {
      "text/plain": [
       "1.9900886804970543"
      ]
     },
     "execution_count": 28,
     "metadata": {},
     "output_type": "execute_result"
    }
   ],
   "source": [
    "gato_normal = calcular_normal( modelo[\"gato\"] )\n",
    "gato_normal"
   ]
  },
  {
   "cell_type": "code",
   "execution_count": 29,
   "id": "0e85970d-0454-4d42-a773-b631275a3cef",
   "metadata": {},
   "outputs": [
    {
     "data": {
      "text/plain": [
       "2.058548858858395"
      ]
     },
     "execution_count": 29,
     "metadata": {},
     "output_type": "execute_result"
    }
   ],
   "source": [
    "cachorro_normal = calcular_normal(modelo[\"cachorro\"])\n",
    "cachorro_normal"
   ]
  },
  {
   "cell_type": "code",
   "execution_count": 30,
   "id": "e0e57ed1-1f51-4994-a136-afa185a6a0b2",
   "metadata": {},
   "outputs": [
    {
     "data": {
      "text/plain": [
       "3.1633558"
      ]
     },
     "execution_count": 30,
     "metadata": {},
     "output_type": "execute_result"
    }
   ],
   "source": [
    "dot = np.dot(vetor_gato, vetor_cachorro)\n",
    "dot"
   ]
  },
  {
   "cell_type": "code",
   "execution_count": 31,
   "id": "159a3808-eacd-41c3-ba06-ccb53de14610",
   "metadata": {},
   "outputs": [
    {
     "data": {
      "text/plain": [
       "0.7721726893169165"
      ]
     },
     "execution_count": 31,
     "metadata": {},
     "output_type": "execute_result"
    }
   ],
   "source": [
    "cos_sim = dot / (gato_normal * cachorro_normal)\n",
    "cos_sim"
   ]
  },
  {
   "cell_type": "code",
   "execution_count": 18,
   "id": "890336d7-9a0e-420b-9617-e41e4a47e447",
   "metadata": {},
   "outputs": [],
   "source": [
    "# soma = 0\n",
    "# for valor in vetor_cachorro:\n",
    "#     soma += (valor ** 2)\n",
    "# cachorro_normal = sqrt(soma)"
   ]
  },
  {
   "cell_type": "code",
   "execution_count": 84,
   "id": "983142a8-a571-4ec6-964a-5e33724628a8",
   "metadata": {},
   "outputs": [],
   "source": [
    "vetor_palavra1 = modelo[\"carro\"]\n",
    "vetor_palavra2 = modelo[\"veículo\"]"
   ]
  },
  {
   "cell_type": "code",
   "execution_count": 85,
   "id": "f6b3ccf1-9e4a-4cc7-8dfb-701af04aec7b",
   "metadata": {},
   "outputs": [],
   "source": [
    "palavra1_normal = calcular_normal(vetor_palavra1)"
   ]
  },
  {
   "cell_type": "code",
   "execution_count": 86,
   "id": "0c6198af-1ce2-43eb-8dc1-3040870acbee",
   "metadata": {},
   "outputs": [],
   "source": [
    "palavra2_normal = calcular_normal(vetor_palavra2)"
   ]
  },
  {
   "cell_type": "code",
   "execution_count": 87,
   "id": "0de53d55-fca4-4fac-a5cf-a54179e8cb81",
   "metadata": {},
   "outputs": [
    {
     "data": {
      "text/plain": [
       "6.0563726"
      ]
     },
     "execution_count": 87,
     "metadata": {},
     "output_type": "execute_result"
    }
   ],
   "source": [
    "dot_product = np.dot(vetor_palavra1, vetor_palavra2)\n",
    "dot_product"
   ]
  },
  {
   "cell_type": "code",
   "execution_count": 88,
   "id": "d5c26781-4528-46b6-9f99-1cd5becbc779",
   "metadata": {},
   "outputs": [
    {
     "data": {
      "text/plain": [
       "0.9269595153406593"
      ]
     },
     "execution_count": 88,
     "metadata": {},
     "output_type": "execute_result"
    }
   ],
   "source": [
    "cos_sim = dot_product / (palavra1_normal * palavra2_normal)\n",
    "cos_sim"
   ]
  },
  {
   "cell_type": "code",
   "execution_count": 83,
   "id": "a06c4a27-8bff-419e-a751-3313de3c2ec4",
   "metadata": {},
   "outputs": [
    {
     "data": {
      "text/plain": [
       "[('veículo', 0.9269594550132751),\n",
       " ('caminhão', 0.8951947689056396),\n",
       " ('passageiro', 0.8498534560203552),\n",
       " ('jipe', 0.8236057758331299),\n",
       " ('motorista', 0.8194946646690369),\n",
       " ('trator', 0.8144297003746033),\n",
       " ('furgão', 0.8051446676254272),\n",
       " ('táxi', 0.7928332090377808),\n",
       " ('motociclista', 0.7739293575286865),\n",
       " ('ciclomotor', 0.770149827003479)]"
      ]
     },
     "execution_count": 83,
     "metadata": {},
     "output_type": "execute_result"
    }
   ],
   "source": [
    "modelo.most_similar(\"carro\")"
   ]
  },
  {
   "cell_type": "code",
   "execution_count": 97,
   "id": "cc46dc68-8e9f-410a-a4ac-34a63ce6754b",
   "metadata": {},
   "outputs": [
    {
     "data": {
      "text/plain": [
       "'do'"
      ]
     },
     "execution_count": 97,
     "metadata": {},
     "output_type": "execute_result"
    }
   ],
   "source": [
    "modelo.doesnt_match([\"bom\", \"dia\", \"beleza\", \"do\", \"dia\"])"
   ]
  },
  {
   "cell_type": "code",
   "execution_count": 99,
   "id": "c47b8031-02be-4913-adec-7bc934c5e256",
   "metadata": {},
   "outputs": [
    {
     "data": {
      "text/plain": [
       "[('rainha-consorte', 0.7912216186523438),\n",
       " ('primogénita', 0.7738461494445801),\n",
       " ('imperatriz-mãe', 0.7646884322166443),\n",
       " ('paleóloga', 0.752788245677948),\n",
       " ('dama-de-companhia', 0.7478024363517761),\n",
       " ('consorte', 0.7475903630256653),\n",
       " ('princesa-eleitora', 0.7472771406173706),\n",
       " ('piroska', 0.7468665838241577),\n",
       " ('ulrica', 0.7454056143760681),\n",
       " ('ranavalona', 0.7441917657852173)]"
      ]
     },
     "execution_count": 99,
     "metadata": {},
     "output_type": "execute_result"
    }
   ],
   "source": [
    "modelo.most_similar(positive=[\"rei\", \"mulher\"], negative=[\"homem\"])"
   ]
  },
  {
   "cell_type": "code",
   "execution_count": 110,
   "id": "f3dcb0fc-b5c1-46ea-b8df-4ddc727afc0e",
   "metadata": {},
   "outputs": [
    {
     "data": {
      "text/plain": [
       "[('belmonte', 0.6274815201759338),\n",
       " ('alegrete', 0.6170819997787476),\n",
       " ('bonjardim', 0.6107789278030396),\n",
       " ('tojal', 0.6071086525917053),\n",
       " ('valença', 0.6068587899208069),\n",
       " ('mafra', 0.6053534150123596),\n",
       " ('neiva', 0.6033267974853516),\n",
       " ('serrador', 0.6031455993652344),\n",
       " ('maruí', 0.6028717756271362),\n",
       " ('laranjeiro', 0.6007911562919617)]"
      ]
     },
     "execution_count": 110,
     "metadata": {},
     "output_type": "execute_result"
    }
   ],
   "source": [
    "modelo.most_similar(positive=[\"santiago\", \"brasil\"], negative=[\"chile\"])"
   ]
  },
  {
   "cell_type": "code",
   "execution_count": null,
   "id": "3d5f353f-78b1-475a-a87a-5d3264fb280a",
   "metadata": {},
   "outputs": [],
   "source": []
  }
 ],
 "metadata": {
  "kernelspec": {
   "display_name": "Python 3 (ipykernel)",
   "language": "python",
   "name": "python3"
  },
  "language_info": {
   "codemirror_mode": {
    "name": "ipython",
    "version": 3
   },
   "file_extension": ".py",
   "mimetype": "text/x-python",
   "name": "python",
   "nbconvert_exporter": "python",
   "pygments_lexer": "ipython3",
   "version": "3.12.4"
  }
 },
 "nbformat": 4,
 "nbformat_minor": 5
}
