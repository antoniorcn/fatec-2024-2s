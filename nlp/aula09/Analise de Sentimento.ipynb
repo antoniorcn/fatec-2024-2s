{
 "cells": [
  {
   "cell_type": "code",
   "execution_count": 5,
   "id": "63b210f2-34bc-42f7-8fa3-5ad0a48f10ba",
   "metadata": {},
   "outputs": [],
   "source": [
    "import pandas as pd"
   ]
  },
  {
   "cell_type": "code",
   "execution_count": 15,
   "id": "25af39c1-61b0-4118-a5ef-605dd95813f4",
   "metadata": {},
   "outputs": [],
   "source": [
    "import numpy as np"
   ]
  },
  {
   "cell_type": "code",
   "execution_count": 24,
   "id": "1e03e59f-f8cc-452b-95cd-b168b29ecc88",
   "metadata": {},
   "outputs": [],
   "source": [
    "import nltk"
   ]
  },
  {
   "cell_type": "code",
   "execution_count": 31,
   "id": "7a76e3d8-5a3d-4029-8f6e-c5bb5c7ae2d9",
   "metadata": {},
   "outputs": [],
   "source": [
    "from nltk.tokenize import word_tokenize"
   ]
  },
  {
   "cell_type": "code",
   "execution_count": 1,
   "id": "4ed6b688-4572-40e0-82eb-d9245b2bfe22",
   "metadata": {},
   "outputs": [],
   "source": [
    "# textos = []\n",
    "# sentimentos = []"
   ]
  },
  {
   "cell_type": "code",
   "execution_count": 2,
   "id": "4e884fec-581f-4abe-95e5-19211f85b459",
   "metadata": {},
   "outputs": [],
   "source": [
    "# arquivo = open(\"../../../dados/nlp/news_sentiment_analysis.csv\", \"r\", encoding=\"utf-8\")\n",
    "# arquivo.readline()   # Descartando a primeira linha (header)\n",
    "# linha = arquivo.readline()\n",
    "# while linha != \"\":\n",
    "#     colunas = linha.split(\",\")\n",
    "#     texto = colunas[3]\n",
    "#     sentimento = colunas[6]\n",
    "#     textos.append(texto)\n",
    "#     sentimentos.append(sentimento)\n",
    "#     linha = arquivo.readline()\n",
    "# arquivo.close()\n",
    "    "
   ]
  },
  {
   "cell_type": "code",
   "execution_count": 6,
   "id": "15d7a46f-240f-46d5-bde7-68cd62c20bb5",
   "metadata": {},
   "outputs": [],
   "source": [
    "df_news = pd.read_csv(\"../../../dados/nlp/news_sentiment_analysis.csv\", sep=\",\", quotechar='\"', encoding=\"utf-8\")"
   ]
  },
  {
   "cell_type": "code",
   "execution_count": 12,
   "id": "1882403d-88e7-4043-af0f-413b3030bac9",
   "metadata": {},
   "outputs": [],
   "source": [
    "df_news = df_news[df_news['Sentiment'] != \"neutral\"]"
   ]
  },
  {
   "cell_type": "code",
   "execution_count": 20,
   "id": "64a80f74-9bc5-4e8f-8801-77713ad22f0a",
   "metadata": {},
   "outputs": [
    {
     "name": "stderr",
     "output_type": "stream",
     "text": [
      "C:\\Users\\anton\\AppData\\Local\\Temp\\ipykernel_14212\\330576338.py:1: SettingWithCopyWarning: \n",
      "A value is trying to be set on a copy of a slice from a DataFrame.\n",
      "Try using .loc[row_indexer,col_indexer] = value instead\n",
      "\n",
      "See the caveats in the documentation: https://pandas.pydata.org/pandas-docs/stable/user_guide/indexing.html#returning-a-view-versus-a-copy\n",
      "  df_news[\"Sentiment_number\"] = df_news['Sentiment'].apply(lambda x: 0 if x == 'negative' else 1).copy()\n"
     ]
    }
   ],
   "source": [
    "df_news[\"Sentiment_number\"] = df_news['Sentiment'].apply(lambda x: 0 if x == 'negative' else 1)"
   ]
  },
  {
   "cell_type": "code",
   "execution_count": 22,
   "id": "7bfdc317-26a2-43e1-bc4d-23ce2137ab64",
   "metadata": {},
   "outputs": [
    {
     "name": "stderr",
     "output_type": "stream",
     "text": [
      "C:\\Users\\anton\\AppData\\Local\\Temp\\ipykernel_14212\\2738751418.py:2: SettingWithCopyWarning: \n",
      "A value is trying to be set on a copy of a slice from a DataFrame.\n",
      "Try using .loc[row_indexer,col_indexer] = value instead\n",
      "\n",
      "See the caveats in the documentation: https://pandas.pydata.org/pandas-docs/stable/user_guide/indexing.html#returning-a-view-versus-a-copy\n",
      "  df_news[\"description_lower\"] = df_news['Description'].str.lower()\n"
     ]
    }
   ],
   "source": [
    "# df_news[\"description_lower\"] = df.news['Description'].apply(lambda x: x.lower())\n",
    "df_news[\"description_lower\"] = df_news['Description'].str.lower()"
   ]
  },
  {
   "cell_type": "code",
   "execution_count": 34,
   "id": "60fd8a31-45d1-451a-b9d7-492288491a21",
   "metadata": {},
   "outputs": [
    {
     "name": "stderr",
     "output_type": "stream",
     "text": [
      "C:\\Users\\anton\\AppData\\Local\\Temp\\ipykernel_14212\\2611999651.py:1: SettingWithCopyWarning: \n",
      "A value is trying to be set on a copy of a slice from a DataFrame.\n",
      "Try using .loc[row_indexer,col_indexer] = value instead\n",
      "\n",
      "See the caveats in the documentation: https://pandas.pydata.org/pandas-docs/stable/user_guide/indexing.html#returning-a-view-versus-a-copy\n",
      "  df_news[\"description_tokens\"] = df_news[\"description_lower\"].apply(lambda x: word_tokenize(x))\n"
     ]
    }
   ],
   "source": [
    "df_news[\"description_tokens\"] = df_news[\"description_lower\"].apply(lambda x: word_tokenize(x))"
   ]
  },
  {
   "cell_type": "code",
   "execution_count": 35,
   "id": "5b7c7485-609e-4efb-915c-9341b85bb295",
   "metadata": {},
   "outputs": [
    {
     "data": {
      "text/plain": [
       "0       [st., george, —, kaitlyn, larson, ,, a, first-...\n",
       "2       [(, marketscreener.com, ), billionaire, elon, ...\n",
       "3       [(, marketscreener.com, ), a, u.s., trade, reg...\n",
       "4       [4.5, million, households, in, the, u.s., have...\n",
       "5       [(, marketscreener.com, ), billionaire, invest...\n",
       "                              ...                        \n",
       "3493    [qrg, capital, management, inc., trimmed, its,...\n",
       "3495    [qrg, capital, management, inc., increased, it...\n",
       "3496    [qrg, capital, management, inc., bought, a, ne...\n",
       "3497    [qrg, capital, management, inc., boosted, its,...\n",
       "3499    [qrg, capital, management, inc., reduced, its,...\n",
       "Name: description_tokens, Length: 2711, dtype: object"
      ]
     },
     "execution_count": 35,
     "metadata": {},
     "output_type": "execute_result"
    }
   ],
   "source": [
    "df_news[\"description_tokens\"]"
   ]
  },
  {
   "cell_type": "code",
   "execution_count": null,
   "id": "2c241606-189c-4673-9f57-75b29f34df46",
   "metadata": {},
   "outputs": [],
   "source": []
  }
 ],
 "metadata": {
  "kernelspec": {
   "display_name": "Python 3 (ipykernel)",
   "language": "python",
   "name": "python3"
  },
  "language_info": {
   "codemirror_mode": {
    "name": "ipython",
    "version": 3
   },
   "file_extension": ".py",
   "mimetype": "text/x-python",
   "name": "python",
   "nbconvert_exporter": "python",
   "pygments_lexer": "ipython3",
   "version": "3.12.4"
  }
 },
 "nbformat": 4,
 "nbformat_minor": 5
}
