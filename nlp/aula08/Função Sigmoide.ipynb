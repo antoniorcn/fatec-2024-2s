{
 "cells": [
  {
   "cell_type": "markdown",
   "id": "5f9ccaf0-a7dc-4002-83dc-f4687ac517db",
   "metadata": {},
   "source": [
    "## Função Sigmoide"
   ]
  },
  {
   "cell_type": "code",
   "execution_count": 1,
   "id": "42808cfb-a78e-4bb4-8354-8823e632fe6b",
   "metadata": {},
   "outputs": [],
   "source": [
    "import numpy as np"
   ]
  },
  {
   "cell_type": "code",
   "execution_count": 12,
   "id": "4d92b107-67b9-4c09-af0a-a10cf47e5d04",
   "metadata": {},
   "outputs": [],
   "source": [
    "from matplotlib import pyplot as plt"
   ]
  },
  {
   "cell_type": "code",
   "execution_count": 6,
   "id": "fd01a0ee-eab6-42da-a382-2711b0da4b30",
   "metadata": {},
   "outputs": [],
   "source": [
    "# from math import e"
   ]
  },
  {
   "cell_type": "code",
   "execution_count": 88,
   "id": "2e7b5efc-ef46-4493-808d-25a70e87f287",
   "metadata": {},
   "outputs": [],
   "source": [
    "from sklearn.linear_model import LogisticRegression"
   ]
  },
  {
   "cell_type": "code",
   "execution_count": 80,
   "id": "e29e1298-ed01-4a56-a9b4-08306c2a955b",
   "metadata": {},
   "outputs": [],
   "source": [
    "numeros = np.arange(-10, 10, 0.0001)"
   ]
  },
  {
   "cell_type": "code",
   "execution_count": 87,
   "id": "f3d74446-f9a7-4e42-90de-7d1a73da1cfd",
   "metadata": {},
   "outputs": [
    {
     "data": {
      "text/plain": [
       "200000"
      ]
     },
     "execution_count": 87,
     "metadata": {},
     "output_type": "execute_result"
    }
   ],
   "source": [
    "len(numeros)"
   ]
  },
  {
   "cell_type": "code",
   "execution_count": 81,
   "id": "296e4a1a-b459-4a54-b8a0-0a951c4c3465",
   "metadata": {},
   "outputs": [],
   "source": [
    "def sigmoid( x ):\n",
    "    y = 1.0 / (1.0 + np.exp(-x))\n",
    "    return y\n",
    "    #return np.all(x) if y < 0.5 else np.ones(x)"
   ]
  },
  {
   "cell_type": "code",
   "execution_count": 82,
   "id": "53c46245-f0f9-49c0-8087-f2d756fdbdac",
   "metadata": {},
   "outputs": [],
   "source": [
    "y_hat = sigmoid( numeros )"
   ]
  },
  {
   "cell_type": "code",
   "execution_count": 83,
   "id": "0a1ad518-6d6a-46a2-a321-8a0d7fda2919",
   "metadata": {},
   "outputs": [
    {
     "data": {
      "text/plain": [
       "array([4.53978687e-05, 4.54024085e-05, 4.54069488e-05, ...,\n",
       "       9.99954589e-01, 9.99954593e-01, 9.99954598e-01])"
      ]
     },
     "execution_count": 83,
     "metadata": {},
     "output_type": "execute_result"
    }
   ],
   "source": [
    "y_hat"
   ]
  },
  {
   "cell_type": "code",
   "execution_count": 86,
   "id": "21e28570-a032-4df2-b170-30c6b9dd62bc",
   "metadata": {},
   "outputs": [
    {
     "data": {
      "image/png": "[encoded data removed]",
      "text/plain": [
       "<Figure size 640x480 with 1 Axes>"
      ]
     },
     "metadata": {},
     "output_type": "display_data"
    }
   ],
   "source": [
    "plt.scatter(numeros, y_hat)\n",
    "plt.ylim(0, 1)\n",
    "plt.show()"
   ]
  },
  {
   "cell_type": "code",
   "execution_count": null,
   "id": "a18fdf75-e459-4d00-9277-a9078f55a73b",
   "metadata": {},
   "outputs": [],
   "source": []
  }
 ],
 "metadata": {
  "kernelspec": {
   "display_name": "Python 3 (ipykernel)",
   "language": "python",
   "name": "python3"
  },
  "language_info": {
   "codemirror_mode": {
    "name": "ipython",
    "version": 3
   },
   "file_extension": ".py",
   "mimetype": "text/x-python",
   "name": "python",
   "nbconvert_exporter": "python",
   "pygments_lexer": "ipython3",
   "version": "3.12.4"
  }
 },
 "nbformat": 4,
 "nbformat_minor": 5
}
