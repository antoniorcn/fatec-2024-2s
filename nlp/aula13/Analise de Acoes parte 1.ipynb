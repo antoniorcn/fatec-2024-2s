{
 "cells": [
  {
   "cell_type": "markdown",
   "id": "8d26fa01-dbd2-4a14-addf-039e5c4d75c9",
   "metadata": {},
   "source": [
    "# Previsão de acoes"
   ]
  },
  {
   "cell_type": "code",
   "execution_count": 2,
   "id": "263112aa-2a64-4ea6-8cc2-1001302ae761",
   "metadata": {},
   "outputs": [],
   "source": [
    "import pandas as pd"
   ]
  },
  {
   "cell_type": "code",
   "execution_count": 3,
   "id": "7718693f-112e-464e-a7fc-cf92e88d779b",
   "metadata": {},
   "outputs": [],
   "source": [
    "import tensorflow as tf"
   ]
  },
  {
   "cell_type": "code",
   "execution_count": 4,
   "id": "3aa8c3e4-1ccb-4215-a9cc-5da7e7832af2",
   "metadata": {},
   "outputs": [],
   "source": [
    "from tensorflow.keras.models import Sequential"
   ]
  },
  {
   "cell_type": "code",
   "execution_count": 105,
   "id": "59e247b3-d4dd-456c-999f-0b355bbd422e",
   "metadata": {},
   "outputs": [],
   "source": [
    "from tensorflow.keras.layers import Dense, Input, SimpleRNN"
   ]
  },
  {
   "cell_type": "code",
   "execution_count": 31,
   "id": "30494a8d-ef34-43ba-816c-8046349fa8ac",
   "metadata": {},
   "outputs": [],
   "source": [
    "from tensorflow.keras.optimizers import Adam"
   ]
  },
  {
   "cell_type": "code",
   "execution_count": 61,
   "id": "a1a8d3a8-ed27-48ca-8969-7c1f4bca1b52",
   "metadata": {},
   "outputs": [],
   "source": [
    "import numpy as np"
   ]
  },
  {
   "cell_type": "code",
   "execution_count": 67,
   "id": "1f492069-9fe2-4fac-be94-be9fcfb1bfb7",
   "metadata": {},
   "outputs": [],
   "source": [
    "from sklearn.preprocessing import normalize"
   ]
  },
  {
   "cell_type": "code",
   "execution_count": 6,
   "id": "c42295c7-0099-404a-b1e4-c83f45abf6a8",
   "metadata": {},
   "outputs": [],
   "source": [
    "# Abrir o arquivo para leitura"
   ]
  },
  {
   "cell_type": "code",
   "execution_count": 7,
   "id": "2247c5f8-b746-460c-91c7-d8d9e7b28679",
   "metadata": {},
   "outputs": [],
   "source": [
    "df = pd.read_csv(\"./PETR4.SA.csv\")"
   ]
  },
  {
   "cell_type": "code",
   "execution_count": 134,
   "id": "87627bf7-d9d4-4f2d-b2b9-eb10e09302f4",
   "metadata": {},
   "outputs": [
    {
     "data": {
      "text/plain": [
       "(251,)"
      ]
     },
     "execution_count": 134,
     "metadata": {},
     "output_type": "execute_result"
    }
   ],
   "source": [
    "Y_real = []\n",
    "for index, row in df.iterrows():\n",
    "    Y_real.append( 1 if row['Close'] - row['Open'] > 0 else 0)\n",
    "Y_real = np.array(Y_real)\n",
    "Y_real.shape"
   ]
  },
  {
   "cell_type": "code",
   "execution_count": 129,
   "id": "15774076-baec-44e0-af2f-29bb7d0a4762",
   "metadata": {},
   "outputs": [
    {
     "data": {
      "text/plain": [
       "(251, 5)"
      ]
     },
     "execution_count": 129,
     "metadata": {},
     "output_type": "execute_result"
    }
   ],
   "source": [
    "X = df[[\"Open\", \"High\", \"Low\", \"Close\", \"Adj Close\"]]\n",
    "X = normalize(X)\n",
    "X=np.array(X)\n",
    "X.shape"
   ]
  },
  {
   "cell_type": "code",
   "execution_count": 131,
   "id": "5d51d41d-7efe-48be-9f9f-d847a8acece2",
   "metadata": {},
   "outputs": [
    {
     "data": {
      "text/plain": [
       "(251, 1, 5)"
      ]
     },
     "execution_count": 131,
     "metadata": {},
     "output_type": "execute_result"
    }
   ],
   "source": [
    "X = np.reshape(X, (X.shape[0], 1, X.shape[1]))\n",
    "X.shape"
   ]
  },
  {
   "cell_type": "code",
   "execution_count": 135,
   "id": "f62ae52e-d868-414f-a771-105559160485",
   "metadata": {},
   "outputs": [
    {
     "data": {
      "text/plain": [
       "(251, 1)"
      ]
     },
     "execution_count": 135,
     "metadata": {},
     "output_type": "execute_result"
    }
   ],
   "source": [
    "Y_real = np.reshape(Y_real, (-1, 1))\n",
    "Y_real.shape"
   ]
  },
  {
   "cell_type": "code",
   "execution_count": 127,
   "id": "e563de4f-7650-4f59-b9ec-7515941fb4b6",
   "metadata": {},
   "outputs": [],
   "source": [
    "# plt.plot(df[\"Open\"])"
   ]
  },
  {
   "cell_type": "code",
   "execution_count": 87,
   "id": "f1e1da37-c06b-4924-8b6b-5418f5fa8734",
   "metadata": {},
   "outputs": [],
   "source": [
    "# X = []\n",
    "# for index, row in df.iterrows():\n",
    "#    X.append([row['Open'], row['Close'], row['High'], row['Low'], row['Adj Close'], row['Volume']])"
   ]
  },
  {
   "cell_type": "code",
   "execution_count": 115,
   "id": "bf5b4eca-4c83-4099-9536-4899c91df14b",
   "metadata": {},
   "outputs": [
    {
     "data": {
      "text/html": [
       "<pre style=\"white-space:pre;overflow-x:auto;line-height:normal;font-family:Menlo,'DejaVu Sans Mono',consolas,'Courier New',monospace\"><span style=\"font-weight: bold\">Model: \"sequential_17\"</span>\n",
       "</pre>\n"
      ],
      "text/plain": [
       "\u001b[1mModel: \"sequential_17\"\u001b[0m\n"
      ]
     },
     "metadata": {},
     "output_type": "display_data"
    },
    {
     "data": {
      "text/html": [
       "<pre style=\"white-space:pre;overflow-x:auto;line-height:normal;font-family:Menlo,'DejaVu Sans Mono',consolas,'Courier New',monospace\">┏━━━━━━━━━━━━━━━━━━━━━━━━━━━━━━━━━━━━━━┳━━━━━━━━━━━━━━━━━━━━━━━━━━━━━┳━━━━━━━━━━━━━━━━━┓\n",
       "┃<span style=\"font-weight: bold\"> Layer (type)                         </span>┃<span style=\"font-weight: bold\"> Output Shape                </span>┃<span style=\"font-weight: bold\">         Param # </span>┃\n",
       "┡━━━━━━━━━━━━━━━━━━━━━━━━━━━━━━━━━━━━━━╇━━━━━━━━━━━━━━━━━━━━━━━━━━━━━╇━━━━━━━━━━━━━━━━━┩\n",
       "│ simple_rnn_7 (<span style=\"color: #0087ff; text-decoration-color: #0087ff\">SimpleRNN</span>)             │ (<span style=\"color: #00d7ff; text-decoration-color: #00d7ff\">None</span>, <span style=\"color: #00af00; text-decoration-color: #00af00\">1</span>, <span style=\"color: #00af00; text-decoration-color: #00af00\">3</span>)                │              <span style=\"color: #00af00; text-decoration-color: #00af00\">27</span> │\n",
       "├──────────────────────────────────────┼─────────────────────────────┼─────────────────┤\n",
       "│ dense_22 (<span style=\"color: #0087ff; text-decoration-color: #0087ff\">Dense</span>)                     │ (<span style=\"color: #00d7ff; text-decoration-color: #00d7ff\">None</span>, <span style=\"color: #00af00; text-decoration-color: #00af00\">1</span>, <span style=\"color: #00af00; text-decoration-color: #00af00\">1</span>)                │               <span style=\"color: #00af00; text-decoration-color: #00af00\">4</span> │\n",
       "└──────────────────────────────────────┴─────────────────────────────┴─────────────────┘\n",
       "</pre>\n"
      ],
      "text/plain": [
       "┏━━━━━━━━━━━━━━━━━━━━━━━━━━━━━━━━━━━━━━┳━━━━━━━━━━━━━━━━━━━━━━━━━━━━━┳━━━━━━━━━━━━━━━━━┓\n",
       "┃\u001b[1m \u001b[0m\u001b[1mLayer (type)                        \u001b[0m\u001b[1m \u001b[0m┃\u001b[1m \u001b[0m\u001b[1mOutput Shape               \u001b[0m\u001b[1m \u001b[0m┃\u001b[1m \u001b[0m\u001b[1m        Param #\u001b[0m\u001b[1m \u001b[0m┃\n",
       "┡━━━━━━━━━━━━━━━━━━━━━━━━━━━━━━━━━━━━━━╇━━━━━━━━━━━━━━━━━━━━━━━━━━━━━╇━━━━━━━━━━━━━━━━━┩\n",
       "│ simple_rnn_7 (\u001b[38;5;33mSimpleRNN\u001b[0m)             │ (\u001b[38;5;45mNone\u001b[0m, \u001b[38;5;34m1\u001b[0m, \u001b[38;5;34m3\u001b[0m)                │              \u001b[38;5;34m27\u001b[0m │\n",
       "├──────────────────────────────────────┼─────────────────────────────┼─────────────────┤\n",
       "│ dense_22 (\u001b[38;5;33mDense\u001b[0m)                     │ (\u001b[38;5;45mNone\u001b[0m, \u001b[38;5;34m1\u001b[0m, \u001b[38;5;34m1\u001b[0m)                │               \u001b[38;5;34m4\u001b[0m │\n",
       "└──────────────────────────────────────┴─────────────────────────────┴─────────────────┘\n"
      ]
     },
     "metadata": {},
     "output_type": "display_data"
    },
    {
     "data": {
      "text/html": [
       "<pre style=\"white-space:pre;overflow-x:auto;line-height:normal;font-family:Menlo,'DejaVu Sans Mono',consolas,'Courier New',monospace\"><span style=\"font-weight: bold\"> Total params: </span><span style=\"color: #00af00; text-decoration-color: #00af00\">31</span> (124.00 B)\n",
       "</pre>\n"
      ],
      "text/plain": [
       "\u001b[1m Total params: \u001b[0m\u001b[38;5;34m31\u001b[0m (124.00 B)\n"
      ]
     },
     "metadata": {},
     "output_type": "display_data"
    },
    {
     "data": {
      "text/html": [
       "<pre style=\"white-space:pre;overflow-x:auto;line-height:normal;font-family:Menlo,'DejaVu Sans Mono',consolas,'Courier New',monospace\"><span style=\"font-weight: bold\"> Trainable params: </span><span style=\"color: #00af00; text-decoration-color: #00af00\">31</span> (124.00 B)\n",
       "</pre>\n"
      ],
      "text/plain": [
       "\u001b[1m Trainable params: \u001b[0m\u001b[38;5;34m31\u001b[0m (124.00 B)\n"
      ]
     },
     "metadata": {},
     "output_type": "display_data"
    },
    {
     "data": {
      "text/html": [
       "<pre style=\"white-space:pre;overflow-x:auto;line-height:normal;font-family:Menlo,'DejaVu Sans Mono',consolas,'Courier New',monospace\"><span style=\"font-weight: bold\"> Non-trainable params: </span><span style=\"color: #00af00; text-decoration-color: #00af00\">0</span> (0.00 B)\n",
       "</pre>\n"
      ],
      "text/plain": [
       "\u001b[1m Non-trainable params: \u001b[0m\u001b[38;5;34m0\u001b[0m (0.00 B)\n"
      ]
     },
     "metadata": {},
     "output_type": "display_data"
    }
   ],
   "source": [
    "modelo = Sequential()\n",
    "# modelo.add( Input((5,)) )\n",
    "modelo.add( SimpleRNN( 3, input_shape=(1,5), activation=\"tanh\", return_sequences=True ) )\n",
    "modelo.add( Dense( 1, activation=\"sigmoid\" ) ) \n",
    "modelo.summary()"
   ]
  },
  {
   "cell_type": "code",
   "execution_count": 116,
   "id": "20bbe239-a021-43d2-991c-34cf0cf6c9a1",
   "metadata": {},
   "outputs": [],
   "source": [
    "adam = Adam(learning_rate=0.01)\n",
    "modelo.compile(optimizer=adam, loss=\"binary_crossentropy\", metrics=[\"Accuracy\"])"
   ]
  },
  {
   "cell_type": "code",
   "execution_count": null,
   "id": "437eeede-a906-4dd9-b69f-911cf929e0bb",
   "metadata": {},
   "outputs": [],
   "source": []
  },
  {
   "cell_type": "code",
   "execution_count": 122,
   "id": "ae3b847f-c512-4840-be28-ecc456fbcee2",
   "metadata": {},
   "outputs": [
    {
     "name": "stdout",
     "output_type": "stream",
     "text": [
      "Epoch 1/50\n"
     ]
    },
    {
     "ename": "ValueError",
     "evalue": "Creating variables on a non-first call to a function decorated with tf.function.",
     "output_type": "error",
     "traceback": [
      "\u001b[1;31m---------------------------------------------------------------------------\u001b[0m",
      "\u001b[1;31mValueError\u001b[0m                                Traceback (most recent call last)",
      "Cell \u001b[1;32mIn[122], line 1\u001b[0m\n\u001b[1;32m----> 1\u001b[0m hist \u001b[38;5;241m=\u001b[39m modelo\u001b[38;5;241m.\u001b[39mfit(np\u001b[38;5;241m.\u001b[39marray(X)\u001b[38;5;241m.\u001b[39mreshape(\u001b[38;5;241m251\u001b[39m, \u001b[38;5;241m1\u001b[39m, \u001b[38;5;241m5\u001b[39m), np\u001b[38;5;241m.\u001b[39marray(Y_real)\u001b[38;5;241m.\u001b[39mreshape(\u001b[38;5;241m251\u001b[39m, \u001b[38;5;241m1\u001b[39m, \u001b[38;5;241m1\u001b[39m), epochs\u001b[38;5;241m=\u001b[39m\u001b[38;5;241m50\u001b[39m)\n",
      "File \u001b[1;32mD:\\usr\\anaconda312\\Lib\\site-packages\\keras\\src\\utils\\traceback_utils.py:122\u001b[0m, in \u001b[0;36mfilter_traceback.<locals>.error_handler\u001b[1;34m(*args, **kwargs)\u001b[0m\n\u001b[0;32m    119\u001b[0m     filtered_tb \u001b[38;5;241m=\u001b[39m _process_traceback_frames(e\u001b[38;5;241m.\u001b[39m__traceback__)\n\u001b[0;32m    120\u001b[0m     \u001b[38;5;66;03m# To get the full stack trace, call:\u001b[39;00m\n\u001b[0;32m    121\u001b[0m     \u001b[38;5;66;03m# `keras.config.disable_traceback_filtering()`\u001b[39;00m\n\u001b[1;32m--> 122\u001b[0m     \u001b[38;5;28;01mraise\u001b[39;00m e\u001b[38;5;241m.\u001b[39mwith_traceback(filtered_tb) \u001b[38;5;28;01mfrom\u001b[39;00m \u001b[38;5;28;01mNone\u001b[39;00m\n\u001b[0;32m    123\u001b[0m \u001b[38;5;28;01mfinally\u001b[39;00m:\n\u001b[0;32m    124\u001b[0m     \u001b[38;5;28;01mdel\u001b[39;00m filtered_tb\n",
      "File \u001b[1;32mD:\\usr\\anaconda312\\Lib\\site-packages\\keras\\src\\backend\\tensorflow\\trainer.py:121\u001b[0m, in \u001b[0;36mTensorFlowTrainer.make_train_function.<locals>.one_step_on_iterator\u001b[1;34m(iterator)\u001b[0m\n\u001b[0;32m    119\u001b[0m \u001b[38;5;250m\u001b[39m\u001b[38;5;124;03m\"\"\"Runs a single training step given a Dataset iterator.\"\"\"\u001b[39;00m\n\u001b[0;32m    120\u001b[0m data \u001b[38;5;241m=\u001b[39m \u001b[38;5;28mnext\u001b[39m(iterator)\n\u001b[1;32m--> 121\u001b[0m outputs \u001b[38;5;241m=\u001b[39m \u001b[38;5;28mself\u001b[39m\u001b[38;5;241m.\u001b[39mdistribute_strategy\u001b[38;5;241m.\u001b[39mrun(\n\u001b[0;32m    122\u001b[0m     one_step_on_data, args\u001b[38;5;241m=\u001b[39m(data,)\n\u001b[0;32m    123\u001b[0m )\n\u001b[0;32m    124\u001b[0m outputs \u001b[38;5;241m=\u001b[39m reduce_per_replica(\n\u001b[0;32m    125\u001b[0m     outputs,\n\u001b[0;32m    126\u001b[0m     \u001b[38;5;28mself\u001b[39m\u001b[38;5;241m.\u001b[39mdistribute_strategy,\n\u001b[0;32m    127\u001b[0m     reduction\u001b[38;5;241m=\u001b[39m\u001b[38;5;124m\"\u001b[39m\u001b[38;5;124mauto\u001b[39m\u001b[38;5;124m\"\u001b[39m,\n\u001b[0;32m    128\u001b[0m )\n\u001b[0;32m    129\u001b[0m \u001b[38;5;28;01mreturn\u001b[39;00m outputs\n",
      "\u001b[1;31mValueError\u001b[0m: Creating variables on a non-first call to a function decorated with tf.function."
     ]
    }
   ],
   "source": [
    "hist = modelo.fit(np.array(X).reshape(251, 1, 5), np.array(Y_real).reshape(251, 1, 1), epochs=50)"
   ]
  },
  {
   "cell_type": "code",
   "execution_count": 99,
   "id": "e5783e73-b722-41f4-b203-496ba038574f",
   "metadata": {},
   "outputs": [
    {
     "data": {
      "text/plain": [
       "{'Accuracy': [0.4661354720592499,\n",
       "  0.5179283022880554,\n",
       "  0.541832685470581,\n",
       "  0.541832685470581,\n",
       "  0.541832685470581,\n",
       "  0.541832685470581,\n",
       "  0.541832685470581,\n",
       "  0.541832685470581,\n",
       "  0.541832685470581,\n",
       "  0.541832685470581,\n",
       "  0.541832685470581,\n",
       "  0.541832685470581,\n",
       "  0.541832685470581,\n",
       "  0.541832685470581,\n",
       "  0.541832685470581,\n",
       "  0.541832685470581,\n",
       "  0.541832685470581,\n",
       "  0.541832685470581,\n",
       "  0.541832685470581,\n",
       "  0.541832685470581,\n",
       "  0.541832685470581,\n",
       "  0.541832685470581,\n",
       "  0.541832685470581,\n",
       "  0.541832685470581,\n",
       "  0.541832685470581,\n",
       "  0.541832685470581,\n",
       "  0.541832685470581,\n",
       "  0.541832685470581,\n",
       "  0.541832685470581,\n",
       "  0.541832685470581,\n",
       "  0.541832685470581,\n",
       "  0.541832685470581,\n",
       "  0.541832685470581,\n",
       "  0.541832685470581,\n",
       "  0.541832685470581,\n",
       "  0.541832685470581,\n",
       "  0.541832685470581,\n",
       "  0.541832685470581,\n",
       "  0.541832685470581,\n",
       "  0.541832685470581,\n",
       "  0.541832685470581,\n",
       "  0.541832685470581,\n",
       "  0.541832685470581,\n",
       "  0.541832685470581,\n",
       "  0.541832685470581,\n",
       "  0.541832685470581,\n",
       "  0.541832685470581,\n",
       "  0.541832685470581,\n",
       "  0.541832685470581,\n",
       "  0.541832685470581],\n",
       " 'loss': [0.6981806755065918,\n",
       "  0.6927275657653809,\n",
       "  0.6899867653846741,\n",
       "  0.6906891465187073,\n",
       "  0.6901846528053284,\n",
       "  0.6896504163742065,\n",
       "  0.6900232434272766,\n",
       "  0.6897895336151123,\n",
       "  0.6902763843536377,\n",
       "  0.6896111369132996,\n",
       "  0.6899672746658325,\n",
       "  0.6915531158447266,\n",
       "  0.6894955635070801,\n",
       "  0.6900822520256042,\n",
       "  0.6898752450942993,\n",
       "  0.6899932622909546,\n",
       "  0.6900697350502014,\n",
       "  0.68985915184021,\n",
       "  0.6903870105743408,\n",
       "  0.6905754804611206,\n",
       "  0.6895091533660889,\n",
       "  0.6896830797195435,\n",
       "  0.6899996399879456,\n",
       "  0.6897013187408447,\n",
       "  0.6898446679115295,\n",
       "  0.6898308992385864,\n",
       "  0.689568817615509,\n",
       "  0.6895999908447266,\n",
       "  0.68956458568573,\n",
       "  0.6895413994789124,\n",
       "  0.6901275515556335,\n",
       "  0.6897772550582886,\n",
       "  0.6896145343780518,\n",
       "  0.6898322701454163,\n",
       "  0.6896382570266724,\n",
       "  0.6897032856941223,\n",
       "  0.689808189868927,\n",
       "  0.6900571584701538,\n",
       "  0.6895963549613953,\n",
       "  0.6895386576652527,\n",
       "  0.690140426158905,\n",
       "  0.6897312998771667,\n",
       "  0.6900811791419983,\n",
       "  0.6897461414337158,\n",
       "  0.6894621253013611,\n",
       "  0.6895883679389954,\n",
       "  0.689470648765564,\n",
       "  0.6895008087158203,\n",
       "  0.6894211769104004,\n",
       "  0.6894626021385193]}"
      ]
     },
     "execution_count": 99,
     "metadata": {},
     "output_type": "execute_result"
    }
   ],
   "source": [
    "hist.history"
   ]
  },
  {
   "cell_type": "code",
   "execution_count": null,
   "id": "32af3e84-6acf-4f1c-83a6-a773ed643197",
   "metadata": {},
   "outputs": [],
   "source": []
  }
 ],
 "metadata": {
  "kernelspec": {
   "display_name": "Python 3 (ipykernel)",
   "language": "python",
   "name": "python3"
  },
  "language_info": {
   "codemirror_mode": {
    "name": "ipython",
    "version": 3
   },
   "file_extension": ".py",
   "mimetype": "text/x-python",
   "name": "python",
   "nbconvert_exporter": "python",
   "pygments_lexer": "ipython3",
   "version": "3.12.4"
  }
 },
 "nbformat": 4,
 "nbformat_minor": 5
}
