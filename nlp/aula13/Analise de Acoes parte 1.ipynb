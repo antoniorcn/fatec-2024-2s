{
 "cells": [
  {
   "cell_type": "markdown",
   "id": "8d26fa01-dbd2-4a14-addf-039e5c4d75c9",
   "metadata": {},
   "source": [
    "# Previsão de acoes"
   ]
  },
  {
   "cell_type": "code",
   "execution_count": 2,
   "id": "263112aa-2a64-4ea6-8cc2-1001302ae761",
   "metadata": {},
   "outputs": [],
   "source": [
    "import pandas as pd"
   ]
  },
  {
   "cell_type": "code",
   "execution_count": 3,
   "id": "7718693f-112e-464e-a7fc-cf92e88d779b",
   "metadata": {},
   "outputs": [],
   "source": [
    "import tensorflow as tf"
   ]
  },
  {
   "cell_type": "code",
   "execution_count": 4,
   "id": "3aa8c3e4-1ccb-4215-a9cc-5da7e7832af2",
   "metadata": {},
   "outputs": [],
   "source": [
    "from tensorflow.keras.models import Sequential"
   ]
  },
  {
   "cell_type": "code",
   "execution_count": 105,
   "id": "59e247b3-d4dd-456c-999f-0b355bbd422e",
   "metadata": {},
   "outputs": [],
   "source": [
    "from tensorflow.keras.layers import Dense, Input, SimpleRNN"
   ]
  },
  {
   "cell_type": "code",
   "execution_count": 31,
   "id": "30494a8d-ef34-43ba-816c-8046349fa8ac",
   "metadata": {},
   "outputs": [],
   "source": [
    "from tensorflow.keras.optimizers import Adam"
   ]
  },
  {
   "cell_type": "code",
   "execution_count": 61,
   "id": "a1a8d3a8-ed27-48ca-8969-7c1f4bca1b52",
   "metadata": {},
   "outputs": [],
   "source": [
    "import numpy as np"
   ]
  },
  {
   "cell_type": "code",
   "execution_count": 67,
   "id": "1f492069-9fe2-4fac-be94-be9fcfb1bfb7",
   "metadata": {},
   "outputs": [],
   "source": [
    "from sklearn.preprocessing import normalize"
   ]
  },
  {
   "cell_type": "code",
   "execution_count": 6,
   "id": "c42295c7-0099-404a-b1e4-c83f45abf6a8",
   "metadata": {},
   "outputs": [],
   "source": [
    "# Abrir o arquivo para leitura"
   ]
  },
  {
   "cell_type": "code",
   "execution_count": 7,
   "id": "2247c5f8-b746-460c-91c7-d8d9e7b28679",
   "metadata": {},
   "outputs": [],
   "source": [
    "df = pd.read_csv(\"./PETR4.SA.csv\")"
   ]
  },
  {
   "cell_type": "code",
   "execution_count": 155,
   "id": "87627bf7-d9d4-4f2d-b2b9-eb10e09302f4",
   "metadata": {},
   "outputs": [
    {
     "data": {
      "text/plain": [
       "(251,)"
      ]
     },
     "execution_count": 155,
     "metadata": {},
     "output_type": "execute_result"
    }
   ],
   "source": [
    "Y_real = []\n",
    "for index, row in df.iterrows():\n",
    "    Y_real.append( 1 if row['Close'] - row['Open'] > 0 else 0)\n",
    "Y_real = np.array(Y_real)\n",
    "Y_real.shape"
   ]
  },
  {
   "cell_type": "code",
   "execution_count": 156,
   "id": "15774076-baec-44e0-af2f-29bb7d0a4762",
   "metadata": {},
   "outputs": [
    {
     "data": {
      "text/plain": [
       "(251, 5)"
      ]
     },
     "execution_count": 156,
     "metadata": {},
     "output_type": "execute_result"
    }
   ],
   "source": [
    "X = df[[\"Open\", \"High\", \"Low\", \"Close\", \"Adj Close\"]]\n",
    "X = normalize(X)\n",
    "X=np.array(X)\n",
    "X.shape"
   ]
  },
  {
   "cell_type": "code",
   "execution_count": 157,
   "id": "5d51d41d-7efe-48be-9f9f-d847a8acece2",
   "metadata": {},
   "outputs": [
    {
     "data": {
      "text/plain": [
       "(251, 1, 5)"
      ]
     },
     "execution_count": 157,
     "metadata": {},
     "output_type": "execute_result"
    }
   ],
   "source": [
    "X = np.reshape(X, (X.shape[0], 1, X.shape[1]))\n",
    "X.shape"
   ]
  },
  {
   "cell_type": "code",
   "execution_count": 158,
   "id": "f62ae52e-d868-414f-a771-105559160485",
   "metadata": {},
   "outputs": [
    {
     "data": {
      "text/plain": [
       "(251, 1)"
      ]
     },
     "execution_count": 158,
     "metadata": {},
     "output_type": "execute_result"
    }
   ],
   "source": [
    "Y_real = np.reshape(Y_real, (-1, 1))\n",
    "Y_real.shape"
   ]
  },
  {
   "cell_type": "code",
   "execution_count": 127,
   "id": "e563de4f-7650-4f59-b9ec-7515941fb4b6",
   "metadata": {},
   "outputs": [],
   "source": [
    "# plt.plot(df[\"Open\"])"
   ]
  },
  {
   "cell_type": "code",
   "execution_count": 87,
   "id": "f1e1da37-c06b-4924-8b6b-5418f5fa8734",
   "metadata": {},
   "outputs": [],
   "source": [
    "# X = []\n",
    "# for index, row in df.iterrows():\n",
    "#    X.append([row['Open'], row['Close'], row['High'], row['Low'], row['Adj Close'], row['Volume']])"
   ]
  },
  {
   "cell_type": "code",
   "execution_count": 159,
   "id": "bf5b4eca-4c83-4099-9536-4899c91df14b",
   "metadata": {},
   "outputs": [
    {
     "name": "stderr",
     "output_type": "stream",
     "text": [
      "D:\\usr\\anaconda312\\Lib\\site-packages\\keras\\src\\layers\\rnn\\rnn.py:204: UserWarning: Do not pass an `input_shape`/`input_dim` argument to a layer. When using Sequential models, prefer using an `Input(shape)` object as the first layer in the model instead.\n",
      "  super().__init__(**kwargs)\n"
     ]
    },
    {
     "data": {
      "text/html": [
       "<pre style=\"white-space:pre;overflow-x:auto;line-height:normal;font-family:Menlo,'DejaVu Sans Mono',consolas,'Courier New',monospace\"><span style=\"font-weight: bold\">Model: \"sequential_23\"</span>\n",
       "</pre>\n"
      ],
      "text/plain": [
       "\u001b[1mModel: \"sequential_23\"\u001b[0m\n"
      ]
     },
     "metadata": {},
     "output_type": "display_data"
    },
    {
     "data": {
      "text/html": [
       "<pre style=\"white-space:pre;overflow-x:auto;line-height:normal;font-family:Menlo,'DejaVu Sans Mono',consolas,'Courier New',monospace\">┏━━━━━━━━━━━━━━━━━━━━━━━━━━━━━━━━━━━━━━┳━━━━━━━━━━━━━━━━━━━━━━━━━━━━━┳━━━━━━━━━━━━━━━━━┓\n",
       "┃<span style=\"font-weight: bold\"> Layer (type)                         </span>┃<span style=\"font-weight: bold\"> Output Shape                </span>┃<span style=\"font-weight: bold\">         Param # </span>┃\n",
       "┡━━━━━━━━━━━━━━━━━━━━━━━━━━━━━━━━━━━━━━╇━━━━━━━━━━━━━━━━━━━━━━━━━━━━━╇━━━━━━━━━━━━━━━━━┩\n",
       "│ simple_rnn_13 (<span style=\"color: #0087ff; text-decoration-color: #0087ff\">SimpleRNN</span>)            │ (<span style=\"color: #00d7ff; text-decoration-color: #00d7ff\">None</span>, <span style=\"color: #00af00; text-decoration-color: #00af00\">1</span>, <span style=\"color: #00af00; text-decoration-color: #00af00\">10</span>)               │             <span style=\"color: #00af00; text-decoration-color: #00af00\">160</span> │\n",
       "├──────────────────────────────────────┼─────────────────────────────┼─────────────────┤\n",
       "│ dense_26 (<span style=\"color: #0087ff; text-decoration-color: #0087ff\">Dense</span>)                     │ (<span style=\"color: #00d7ff; text-decoration-color: #00d7ff\">None</span>, <span style=\"color: #00af00; text-decoration-color: #00af00\">1</span>, <span style=\"color: #00af00; text-decoration-color: #00af00\">1</span>)                │              <span style=\"color: #00af00; text-decoration-color: #00af00\">11</span> │\n",
       "└──────────────────────────────────────┴─────────────────────────────┴─────────────────┘\n",
       "</pre>\n"
      ],
      "text/plain": [
       "┏━━━━━━━━━━━━━━━━━━━━━━━━━━━━━━━━━━━━━━┳━━━━━━━━━━━━━━━━━━━━━━━━━━━━━┳━━━━━━━━━━━━━━━━━┓\n",
       "┃\u001b[1m \u001b[0m\u001b[1mLayer (type)                        \u001b[0m\u001b[1m \u001b[0m┃\u001b[1m \u001b[0m\u001b[1mOutput Shape               \u001b[0m\u001b[1m \u001b[0m┃\u001b[1m \u001b[0m\u001b[1m        Param #\u001b[0m\u001b[1m \u001b[0m┃\n",
       "┡━━━━━━━━━━━━━━━━━━━━━━━━━━━━━━━━━━━━━━╇━━━━━━━━━━━━━━━━━━━━━━━━━━━━━╇━━━━━━━━━━━━━━━━━┩\n",
       "│ simple_rnn_13 (\u001b[38;5;33mSimpleRNN\u001b[0m)            │ (\u001b[38;5;45mNone\u001b[0m, \u001b[38;5;34m1\u001b[0m, \u001b[38;5;34m10\u001b[0m)               │             \u001b[38;5;34m160\u001b[0m │\n",
       "├──────────────────────────────────────┼─────────────────────────────┼─────────────────┤\n",
       "│ dense_26 (\u001b[38;5;33mDense\u001b[0m)                     │ (\u001b[38;5;45mNone\u001b[0m, \u001b[38;5;34m1\u001b[0m, \u001b[38;5;34m1\u001b[0m)                │              \u001b[38;5;34m11\u001b[0m │\n",
       "└──────────────────────────────────────┴─────────────────────────────┴─────────────────┘\n"
      ]
     },
     "metadata": {},
     "output_type": "display_data"
    },
    {
     "data": {
      "text/html": [
       "<pre style=\"white-space:pre;overflow-x:auto;line-height:normal;font-family:Menlo,'DejaVu Sans Mono',consolas,'Courier New',monospace\"><span style=\"font-weight: bold\"> Total params: </span><span style=\"color: #00af00; text-decoration-color: #00af00\">171</span> (684.00 B)\n",
       "</pre>\n"
      ],
      "text/plain": [
       "\u001b[1m Total params: \u001b[0m\u001b[38;5;34m171\u001b[0m (684.00 B)\n"
      ]
     },
     "metadata": {},
     "output_type": "display_data"
    },
    {
     "data": {
      "text/html": [
       "<pre style=\"white-space:pre;overflow-x:auto;line-height:normal;font-family:Menlo,'DejaVu Sans Mono',consolas,'Courier New',monospace\"><span style=\"font-weight: bold\"> Trainable params: </span><span style=\"color: #00af00; text-decoration-color: #00af00\">171</span> (684.00 B)\n",
       "</pre>\n"
      ],
      "text/plain": [
       "\u001b[1m Trainable params: \u001b[0m\u001b[38;5;34m171\u001b[0m (684.00 B)\n"
      ]
     },
     "metadata": {},
     "output_type": "display_data"
    },
    {
     "data": {
      "text/html": [
       "<pre style=\"white-space:pre;overflow-x:auto;line-height:normal;font-family:Menlo,'DejaVu Sans Mono',consolas,'Courier New',monospace\"><span style=\"font-weight: bold\"> Non-trainable params: </span><span style=\"color: #00af00; text-decoration-color: #00af00\">0</span> (0.00 B)\n",
       "</pre>\n"
      ],
      "text/plain": [
       "\u001b[1m Non-trainable params: \u001b[0m\u001b[38;5;34m0\u001b[0m (0.00 B)\n"
      ]
     },
     "metadata": {},
     "output_type": "display_data"
    }
   ],
   "source": [
    "modelo = Sequential()\n",
    "# modelo.add( Input((5,)) )\n",
    "modelo.add( SimpleRNN( 10, input_shape=(1, 5), activation=\"tanh\", return_sequences=True ) )\n",
    "modelo.add( Dense( 1, activation=\"sigmoid\" ) ) \n",
    "modelo.summary()"
   ]
  },
  {
   "cell_type": "code",
   "execution_count": 160,
   "id": "20bbe239-a021-43d2-991c-34cf0cf6c9a1",
   "metadata": {},
   "outputs": [],
   "source": [
    "adam = Adam(learning_rate=0.01)\n",
    "modelo.compile(optimizer=adam, loss=\"binary_crossentropy\", metrics=[\"Accuracy\"])"
   ]
  },
  {
   "cell_type": "code",
   "execution_count": 161,
   "id": "ae3b847f-c512-4840-be28-ecc456fbcee2",
   "metadata": {},
   "outputs": [
    {
     "name": "stdout",
     "output_type": "stream",
     "text": [
      "Epoch 1/50\n",
      "\u001b[1m8/8\u001b[0m \u001b[32m━━━━━━━━━━━━━━━━━━━━\u001b[0m\u001b[37m\u001b[0m \u001b[1m3s\u001b[0m 4ms/step - Accuracy: 0.4590 - loss: 0.7080\n",
      "Epoch 2/50\n",
      "\u001b[1m8/8\u001b[0m \u001b[32m━━━━━━━━━━━━━━━━━━━━\u001b[0m\u001b[37m\u001b[0m \u001b[1m0s\u001b[0m 4ms/step - Accuracy: 0.5820 - loss: 0.6905\n",
      "Epoch 3/50\n",
      "\u001b[1m8/8\u001b[0m \u001b[32m━━━━━━━━━━━━━━━━━━━━\u001b[0m\u001b[37m\u001b[0m \u001b[1m0s\u001b[0m 4ms/step - Accuracy: 0.5165 - loss: 0.6972\n",
      "Epoch 4/50\n",
      "\u001b[1m8/8\u001b[0m \u001b[32m━━━━━━━━━━━━━━━━━━━━\u001b[0m\u001b[37m\u001b[0m \u001b[1m0s\u001b[0m 3ms/step - Accuracy: 0.5791 - loss: 0.6800\n",
      "Epoch 5/50\n",
      "\u001b[1m8/8\u001b[0m \u001b[32m━━━━━━━━━━━━━━━━━━━━\u001b[0m\u001b[37m\u001b[0m \u001b[1m0s\u001b[0m 3ms/step - Accuracy: 0.4967 - loss: 0.6991\n",
      "Epoch 6/50\n",
      "\u001b[1m8/8\u001b[0m \u001b[32m━━━━━━━━━━━━━━━━━━━━\u001b[0m\u001b[37m\u001b[0m \u001b[1m0s\u001b[0m 4ms/step - Accuracy: 0.5861 - loss: 0.6890\n",
      "Epoch 7/50\n",
      "\u001b[1m8/8\u001b[0m \u001b[32m━━━━━━━━━━━━━━━━━━━━\u001b[0m\u001b[37m\u001b[0m \u001b[1m0s\u001b[0m 4ms/step - Accuracy: 0.5510 - loss: 0.6867\n",
      "Epoch 8/50\n",
      "\u001b[1m8/8\u001b[0m \u001b[32m━━━━━━━━━━━━━━━━━━━━\u001b[0m\u001b[37m\u001b[0m \u001b[1m0s\u001b[0m 3ms/step - Accuracy: 0.5195 - loss: 0.6930\n",
      "Epoch 9/50\n",
      "\u001b[1m8/8\u001b[0m \u001b[32m━━━━━━━━━━━━━━━━━━━━\u001b[0m\u001b[37m\u001b[0m \u001b[1m0s\u001b[0m 4ms/step - Accuracy: 0.5589 - loss: 0.6866\n",
      "Epoch 10/50\n",
      "\u001b[1m8/8\u001b[0m \u001b[32m━━━━━━━━━━━━━━━━━━━━\u001b[0m\u001b[37m\u001b[0m \u001b[1m0s\u001b[0m 3ms/step - Accuracy: 0.5423 - loss: 0.6881\n",
      "Epoch 11/50\n",
      "\u001b[1m8/8\u001b[0m \u001b[32m━━━━━━━━━━━━━━━━━━━━\u001b[0m\u001b[37m\u001b[0m \u001b[1m0s\u001b[0m 4ms/step - Accuracy: 0.5670 - loss: 0.6841\n",
      "Epoch 12/50\n",
      "\u001b[1m8/8\u001b[0m \u001b[32m━━━━━━━━━━━━━━━━━━━━\u001b[0m\u001b[37m\u001b[0m \u001b[1m0s\u001b[0m 4ms/step - Accuracy: 0.5644 - loss: 0.6837\n",
      "Epoch 13/50\n",
      "\u001b[1m8/8\u001b[0m \u001b[32m━━━━━━━━━━━━━━━━━━━━\u001b[0m\u001b[37m\u001b[0m \u001b[1m0s\u001b[0m 4ms/step - Accuracy: 0.5485 - loss: 0.6869\n",
      "Epoch 14/50\n",
      "\u001b[1m8/8\u001b[0m \u001b[32m━━━━━━━━━━━━━━━━━━━━\u001b[0m\u001b[37m\u001b[0m \u001b[1m0s\u001b[0m 4ms/step - Accuracy: 0.5835 - loss: 0.6843\n",
      "Epoch 15/50\n",
      "\u001b[1m8/8\u001b[0m \u001b[32m━━━━━━━━━━━━━━━━━━━━\u001b[0m\u001b[37m\u001b[0m \u001b[1m0s\u001b[0m 3ms/step - Accuracy: 0.5153 - loss: 0.6935\n",
      "Epoch 16/50\n",
      "\u001b[1m8/8\u001b[0m \u001b[32m━━━━━━━━━━━━━━━━━━━━\u001b[0m\u001b[37m\u001b[0m \u001b[1m0s\u001b[0m 3ms/step - Accuracy: 0.5270 - loss: 0.6896\n",
      "Epoch 17/50\n",
      "\u001b[1m8/8\u001b[0m \u001b[32m━━━━━━━━━━━━━━━━━━━━\u001b[0m\u001b[37m\u001b[0m \u001b[1m0s\u001b[0m 4ms/step - Accuracy: 0.5229 - loss: 0.6924\n",
      "Epoch 18/50\n",
      "\u001b[1m8/8\u001b[0m \u001b[32m━━━━━━━━━━━━━━━━━━━━\u001b[0m\u001b[37m\u001b[0m \u001b[1m0s\u001b[0m 3ms/step - Accuracy: 0.5368 - loss: 0.6892\n",
      "Epoch 19/50\n",
      "\u001b[1m8/8\u001b[0m \u001b[32m━━━━━━━━━━━━━━━━━━━━\u001b[0m\u001b[37m\u001b[0m \u001b[1m0s\u001b[0m 3ms/step - Accuracy: 0.5334 - loss: 0.6898\n",
      "Epoch 20/50\n",
      "\u001b[1m8/8\u001b[0m \u001b[32m━━━━━━━━━━━━━━━━━━━━\u001b[0m\u001b[37m\u001b[0m \u001b[1m0s\u001b[0m 3ms/step - Accuracy: 0.5496 - loss: 0.6870\n",
      "Epoch 21/50\n",
      "\u001b[1m8/8\u001b[0m \u001b[32m━━━━━━━━━━━━━━━━━━━━\u001b[0m\u001b[37m\u001b[0m \u001b[1m0s\u001b[0m 3ms/step - Accuracy: 0.5257 - loss: 0.6908\n",
      "Epoch 22/50\n",
      "\u001b[1m8/8\u001b[0m \u001b[32m━━━━━━━━━━━━━━━━━━━━\u001b[0m\u001b[37m\u001b[0m \u001b[1m0s\u001b[0m 4ms/step - Accuracy: 0.5141 - loss: 0.6915\n",
      "Epoch 23/50\n",
      "\u001b[1m8/8\u001b[0m \u001b[32m━━━━━━━━━━━━━━━━━━━━\u001b[0m\u001b[37m\u001b[0m \u001b[1m0s\u001b[0m 3ms/step - Accuracy: 0.5347 - loss: 0.6882\n",
      "Epoch 24/50\n",
      "\u001b[1m8/8\u001b[0m \u001b[32m━━━━━━━━━━━━━━━━━━━━\u001b[0m\u001b[37m\u001b[0m \u001b[1m0s\u001b[0m 4ms/step - Accuracy: 0.5022 - loss: 0.6970\n",
      "Epoch 25/50\n",
      "\u001b[1m8/8\u001b[0m \u001b[32m━━━━━━━━━━━━━━━━━━━━\u001b[0m\u001b[37m\u001b[0m \u001b[1m0s\u001b[0m 4ms/step - Accuracy: 0.5200 - loss: 0.6907\n",
      "Epoch 26/50\n",
      "\u001b[1m8/8\u001b[0m \u001b[32m━━━━━━━━━━━━━━━━━━━━\u001b[0m\u001b[37m\u001b[0m \u001b[1m0s\u001b[0m 3ms/step - Accuracy: 0.5425 - loss: 0.6878\n",
      "Epoch 27/50\n",
      "\u001b[1m8/8\u001b[0m \u001b[32m━━━━━━━━━━━━━━━━━━━━\u001b[0m\u001b[37m\u001b[0m \u001b[1m0s\u001b[0m 4ms/step - Accuracy: 0.5639 - loss: 0.6824\n",
      "Epoch 28/50\n",
      "\u001b[1m8/8\u001b[0m \u001b[32m━━━━━━━━━━━━━━━━━━━━\u001b[0m\u001b[37m\u001b[0m \u001b[1m0s\u001b[0m 4ms/step - Accuracy: 0.5665 - loss: 0.6822\n",
      "Epoch 29/50\n",
      "\u001b[1m8/8\u001b[0m \u001b[32m━━━━━━━━━━━━━━━━━━━━\u001b[0m\u001b[37m\u001b[0m \u001b[1m0s\u001b[0m 4ms/step - Accuracy: 0.5316 - loss: 0.6886\n",
      "Epoch 30/50\n",
      "\u001b[1m8/8\u001b[0m \u001b[32m━━━━━━━━━━━━━━━━━━━━\u001b[0m\u001b[37m\u001b[0m \u001b[1m0s\u001b[0m 3ms/step - Accuracy: 0.5380 - loss: 0.6874\n",
      "Epoch 31/50\n",
      "\u001b[1m8/8\u001b[0m \u001b[32m━━━━━━━━━━━━━━━━━━━━\u001b[0m\u001b[37m\u001b[0m \u001b[1m0s\u001b[0m 5ms/step - Accuracy: 0.5841 - loss: 0.6788\n",
      "Epoch 32/50\n",
      "\u001b[1m8/8\u001b[0m \u001b[32m━━━━━━━━━━━━━━━━━━━━\u001b[0m\u001b[37m\u001b[0m \u001b[1m0s\u001b[0m 4ms/step - Accuracy: 0.5652 - loss: 0.6821\n",
      "Epoch 33/50\n",
      "\u001b[1m8/8\u001b[0m \u001b[32m━━━━━━━━━━━━━━━━━━━━\u001b[0m\u001b[37m\u001b[0m \u001b[1m0s\u001b[0m 5ms/step - Accuracy: 0.5681 - loss: 0.6895\n",
      "Epoch 34/50\n",
      "\u001b[1m8/8\u001b[0m \u001b[32m━━━━━━━━━━━━━━━━━━━━\u001b[0m\u001b[37m\u001b[0m \u001b[1m0s\u001b[0m 5ms/step - Accuracy: 0.5705 - loss: 0.6868\n",
      "Epoch 35/50\n",
      "\u001b[1m8/8\u001b[0m \u001b[32m━━━━━━━━━━━━━━━━━━━━\u001b[0m\u001b[37m\u001b[0m \u001b[1m0s\u001b[0m 5ms/step - Accuracy: 0.5475 - loss: 0.6859\n",
      "Epoch 36/50\n",
      "\u001b[1m8/8\u001b[0m \u001b[32m━━━━━━━━━━━━━━━━━━━━\u001b[0m\u001b[37m\u001b[0m \u001b[1m0s\u001b[0m 5ms/step - Accuracy: 0.5592 - loss: 0.6840\n",
      "Epoch 37/50\n",
      "\u001b[1m8/8\u001b[0m \u001b[32m━━━━━━━━━━━━━━━━━━━━\u001b[0m\u001b[37m\u001b[0m \u001b[1m0s\u001b[0m 5ms/step - Accuracy: 0.5361 - loss: 0.6873\n",
      "Epoch 38/50\n",
      "\u001b[1m8/8\u001b[0m \u001b[32m━━━━━━━━━━━━━━━━━━━━\u001b[0m\u001b[37m\u001b[0m \u001b[1m0s\u001b[0m 6ms/step - Accuracy: 0.5318 - loss: 0.6872\n",
      "Epoch 39/50\n",
      "\u001b[1m8/8\u001b[0m \u001b[32m━━━━━━━━━━━━━━━━━━━━\u001b[0m\u001b[37m\u001b[0m \u001b[1m0s\u001b[0m 4ms/step - Accuracy: 0.5546 - loss: 0.6844\n",
      "Epoch 40/50\n",
      "\u001b[1m8/8\u001b[0m \u001b[32m━━━━━━━━━━━━━━━━━━━━\u001b[0m\u001b[37m\u001b[0m \u001b[1m0s\u001b[0m 5ms/step - Accuracy: 0.4792 - loss: 0.6981\n",
      "Epoch 41/50\n",
      "\u001b[1m8/8\u001b[0m \u001b[32m━━━━━━━━━━━━━━━━━━━━\u001b[0m\u001b[37m\u001b[0m \u001b[1m0s\u001b[0m 4ms/step - Accuracy: 0.5639 - loss: 0.6875 \n",
      "Epoch 42/50\n",
      "\u001b[1m8/8\u001b[0m \u001b[32m━━━━━━━━━━━━━━━━━━━━\u001b[0m\u001b[37m\u001b[0m \u001b[1m0s\u001b[0m 7ms/step - Accuracy: 0.5334 - loss: 0.6896\n",
      "Epoch 43/50\n",
      "\u001b[1m8/8\u001b[0m \u001b[32m━━━━━━━━━━━━━━━━━━━━\u001b[0m\u001b[37m\u001b[0m \u001b[1m0s\u001b[0m 4ms/step - Accuracy: 0.5712 - loss: 0.6795\n",
      "Epoch 44/50\n",
      "\u001b[1m8/8\u001b[0m \u001b[32m━━━━━━━━━━━━━━━━━━━━\u001b[0m\u001b[37m\u001b[0m \u001b[1m0s\u001b[0m 5ms/step - Accuracy: 0.5412 - loss: 0.6875\n",
      "Epoch 45/50\n",
      "\u001b[1m8/8\u001b[0m \u001b[32m━━━━━━━━━━━━━━━━━━━━\u001b[0m\u001b[37m\u001b[0m \u001b[1m0s\u001b[0m 4ms/step - Accuracy: 0.5698 - loss: 0.6831\n",
      "Epoch 46/50\n",
      "\u001b[1m8/8\u001b[0m \u001b[32m━━━━━━━━━━━━━━━━━━━━\u001b[0m\u001b[37m\u001b[0m \u001b[1m0s\u001b[0m 5ms/step - Accuracy: 0.5689 - loss: 0.6785\n",
      "Epoch 47/50\n",
      "\u001b[1m8/8\u001b[0m \u001b[32m━━━━━━━━━━━━━━━━━━━━\u001b[0m\u001b[37m\u001b[0m \u001b[1m0s\u001b[0m 5ms/step - Accuracy: 0.5443 - loss: 0.6874\n",
      "Epoch 48/50\n",
      "\u001b[1m8/8\u001b[0m \u001b[32m━━━━━━━━━━━━━━━━━━━━\u001b[0m\u001b[37m\u001b[0m \u001b[1m0s\u001b[0m 4ms/step - Accuracy: 0.5098 - loss: 0.6895\n",
      "Epoch 49/50\n",
      "\u001b[1m8/8\u001b[0m \u001b[32m━━━━━━━━━━━━━━━━━━━━\u001b[0m\u001b[37m\u001b[0m \u001b[1m0s\u001b[0m 6ms/step - Accuracy: 0.5205 - loss: 0.6898\n",
      "Epoch 50/50\n",
      "\u001b[1m8/8\u001b[0m \u001b[32m━━━━━━━━━━━━━━━━━━━━\u001b[0m\u001b[37m\u001b[0m \u001b[1m0s\u001b[0m 6ms/step - Accuracy: 0.5670 - loss: 0.6821\n"
     ]
    }
   ],
   "source": [
    "hist = modelo.fit(X, Y_real, epochs=50)"
   ]
  },
  {
   "cell_type": "code",
   "execution_count": 162,
   "id": "e5783e73-b722-41f4-b203-496ba038574f",
   "metadata": {},
   "outputs": [
    {
     "data": {
      "text/plain": [
       "{'Accuracy': [0.4342629611492157,\n",
       "  0.5577689409255981,\n",
       "  0.541832685470581,\n",
       "  0.541832685470581,\n",
       "  0.5498008131980896,\n",
       "  0.541832685470581,\n",
       "  0.541832685470581,\n",
       "  0.541832685470581,\n",
       "  0.541832685470581,\n",
       "  0.541832685470581,\n",
       "  0.541832685470581,\n",
       "  0.541832685470581,\n",
       "  0.541832685470581,\n",
       "  0.541832685470581,\n",
       "  0.541832685470581,\n",
       "  0.541832685470581,\n",
       "  0.541832685470581,\n",
       "  0.541832685470581,\n",
       "  0.541832685470581,\n",
       "  0.541832685470581,\n",
       "  0.541832685470581,\n",
       "  0.541832685470581,\n",
       "  0.541832685470581,\n",
       "  0.541832685470581,\n",
       "  0.541832685470581,\n",
       "  0.541832685470581,\n",
       "  0.541832685470581,\n",
       "  0.541832685470581,\n",
       "  0.541832685470581,\n",
       "  0.541832685470581,\n",
       "  0.541832685470581,\n",
       "  0.541832685470581,\n",
       "  0.6015936136245728,\n",
       "  0.541832685470581,\n",
       "  0.541832685470581,\n",
       "  0.541832685470581,\n",
       "  0.541832685470581,\n",
       "  0.541832685470581,\n",
       "  0.541832685470581,\n",
       "  0.4780876636505127,\n",
       "  0.5537848472595215,\n",
       "  0.541832685470581,\n",
       "  0.541832685470581,\n",
       "  0.5458167195320129,\n",
       "  0.541832685470581,\n",
       "  0.541832685470581,\n",
       "  0.5577689409255981,\n",
       "  0.541832685470581,\n",
       "  0.541832685470581,\n",
       "  0.541832685470581],\n",
       " 'loss': [0.7032091617584229,\n",
       "  0.6885133981704712,\n",
       "  0.6902163624763489,\n",
       "  0.6888604760169983,\n",
       "  0.6934887170791626,\n",
       "  0.6927043795585632,\n",
       "  0.6885201930999756,\n",
       "  0.689001202583313,\n",
       "  0.6892661452293396,\n",
       "  0.6879765391349792,\n",
       "  0.6885024309158325,\n",
       "  0.6875823736190796,\n",
       "  0.6878865361213684,\n",
       "  0.6909214854240417,\n",
       "  0.69161057472229,\n",
       "  0.6874365210533142,\n",
       "  0.6885771751403809,\n",
       "  0.6889101266860962,\n",
       "  0.6882641315460205,\n",
       "  0.6882760524749756,\n",
       "  0.6881142258644104,\n",
       "  0.6881669759750366,\n",
       "  0.6869979500770569,\n",
       "  0.6898038983345032,\n",
       "  0.6871374249458313,\n",
       "  0.6878113150596619,\n",
       "  0.6870895028114319,\n",
       "  0.687107264995575,\n",
       "  0.6883772611618042,\n",
       "  0.687089741230011,\n",
       "  0.6911438703536987,\n",
       "  0.685678243637085,\n",
       "  0.6887370347976685,\n",
       "  0.6906619668006897,\n",
       "  0.6871393322944641,\n",
       "  0.6865923404693604,\n",
       "  0.6886686682701111,\n",
       "  0.6859128475189209,\n",
       "  0.6878136992454529,\n",
       "  0.694312572479248,\n",
       "  0.6876254677772522,\n",
       "  0.6876697540283203,\n",
       "  0.6858005523681641,\n",
       "  0.6870852708816528,\n",
       "  0.6881034970283508,\n",
       "  0.685870885848999,\n",
       "  0.6866437792778015,\n",
       "  0.6857491731643677,\n",
       "  0.6855946779251099,\n",
       "  0.6879906058311462]}"
      ]
     },
     "execution_count": 162,
     "metadata": {},
     "output_type": "execute_result"
    }
   ],
   "source": [
    "hist.history"
   ]
  },
  {
   "cell_type": "code",
   "execution_count": null,
   "id": "32af3e84-6acf-4f1c-83a6-a773ed643197",
   "metadata": {},
   "outputs": [],
   "source": []
  }
 ],
 "metadata": {
  "kernelspec": {
   "display_name": "Python 3 (ipykernel)",
   "language": "python",
   "name": "python3"
  },
  "language_info": {
   "codemirror_mode": {
    "name": "ipython",
    "version": 3
   },
   "file_extension": ".py",
   "mimetype": "text/x-python",
   "name": "python",
   "nbconvert_exporter": "python",
   "pygments_lexer": "ipython3",
   "version": "3.12.4"
  }
 },
 "nbformat": 4,
 "nbformat_minor": 5
}
