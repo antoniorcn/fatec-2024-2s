{
 "cells": [
  {
   "cell_type": "code",
   "execution_count": 1,
   "id": "30272882-ba46-45f4-9940-f7304cb9c42d",
   "metadata": {},
   "outputs": [],
   "source": [
    "import numpy as np"
   ]
  },
  {
   "cell_type": "code",
   "execution_count": 2,
   "id": "53ace14f-deb8-4f99-8a41-081d3c93f700",
   "metadata": {},
   "outputs": [],
   "source": [
    "import pandas as pd"
   ]
  },
  {
   "cell_type": "code",
   "execution_count": 3,
   "id": "0f13333b-5a15-49bd-b845-bcbe14818047",
   "metadata": {},
   "outputs": [],
   "source": [
    "import tensorflow as tf"
   ]
  },
  {
   "cell_type": "code",
   "execution_count": 75,
   "id": "71a8a88e-f2ae-40c5-9875-01474389d718",
   "metadata": {},
   "outputs": [],
   "source": [
    "from tensorflow.keras.models import Sequential, Model\n",
    "from tensorflow.keras.optimizers import RMSprop\n",
    "from tensorflow.keras.layers import Input, Dense, LSTM, Embedding, GlobalAveragePooling1D"
   ]
  },
  {
   "cell_type": "code",
   "execution_count": 69,
   "id": "4e518eb8-c21b-42c5-8458-6c1dcc43b60f",
   "metadata": {},
   "outputs": [],
   "source": [
    "from tensorflow.keras.preprocessing.text import Tokenizer\n",
    "from tensorflow.keras.utils import pad_sequences, to_categorical"
   ]
  },
  {
   "cell_type": "code",
   "execution_count": 9,
   "id": "ff667868-237f-4c14-89fd-4657f05347bf",
   "metadata": {},
   "outputs": [],
   "source": [
    "df = pd.read_csv(\"./dialogs.txt\", sep='\\t', header=None, names=[\"pergunta\", \"resposta\"])"
   ]
  },
  {
   "cell_type": "code",
   "execution_count": 10,
   "id": "f0ed1281-60f2-4c8d-b40f-00e2de978701",
   "metadata": {},
   "outputs": [
    {
     "data": {
      "text/html": [
       "<div>\n",
       "<style scoped>\n",
       "    .dataframe tbody tr th:only-of-type {\n",
       "        vertical-align: middle;\n",
       "    }\n",
       "\n",
       "    .dataframe tbody tr th {\n",
       "        vertical-align: top;\n",
       "    }\n",
       "\n",
       "    .dataframe thead th {\n",
       "        text-align: right;\n",
       "    }\n",
       "</style>\n",
       "<table border=\"1\" class=\"dataframe\">\n",
       "  <thead>\n",
       "    <tr style=\"text-align: right;\">\n",
       "      <th></th>\n",
       "      <th>pergunta</th>\n",
       "      <th>resposta</th>\n",
       "    </tr>\n",
       "  </thead>\n",
       "  <tbody>\n",
       "    <tr>\n",
       "      <th>0</th>\n",
       "      <td>hi, how are you doing?</td>\n",
       "      <td>i'm fine. how about yourself?</td>\n",
       "    </tr>\n",
       "    <tr>\n",
       "      <th>1</th>\n",
       "      <td>i'm fine. how about yourself?</td>\n",
       "      <td>i'm pretty good. thanks for asking.</td>\n",
       "    </tr>\n",
       "    <tr>\n",
       "      <th>2</th>\n",
       "      <td>i'm pretty good. thanks for asking.</td>\n",
       "      <td>no problem. so how have you been?</td>\n",
       "    </tr>\n",
       "    <tr>\n",
       "      <th>3</th>\n",
       "      <td>no problem. so how have you been?</td>\n",
       "      <td>i've been great. what about you?</td>\n",
       "    </tr>\n",
       "    <tr>\n",
       "      <th>4</th>\n",
       "      <td>i've been great. what about you?</td>\n",
       "      <td>i've been good. i'm in school right now.</td>\n",
       "    </tr>\n",
       "    <tr>\n",
       "      <th>...</th>\n",
       "      <td>...</td>\n",
       "      <td>...</td>\n",
       "    </tr>\n",
       "    <tr>\n",
       "      <th>3720</th>\n",
       "      <td>that's a good question. maybe it's not old age.</td>\n",
       "      <td>are you right-handed?</td>\n",
       "    </tr>\n",
       "    <tr>\n",
       "      <th>3721</th>\n",
       "      <td>are you right-handed?</td>\n",
       "      <td>yes. all my life.</td>\n",
       "    </tr>\n",
       "    <tr>\n",
       "      <th>3722</th>\n",
       "      <td>yes. all my life.</td>\n",
       "      <td>you're wearing out your right hand. stop using...</td>\n",
       "    </tr>\n",
       "    <tr>\n",
       "      <th>3723</th>\n",
       "      <td>you're wearing out your right hand. stop using...</td>\n",
       "      <td>but i do all my writing with my right hand.</td>\n",
       "    </tr>\n",
       "    <tr>\n",
       "      <th>3724</th>\n",
       "      <td>but i do all my writing with my right hand.</td>\n",
       "      <td>start typing instead. that way your left hand ...</td>\n",
       "    </tr>\n",
       "  </tbody>\n",
       "</table>\n",
       "<p>3725 rows × 2 columns</p>\n",
       "</div>"
      ],
      "text/plain": [
       "                                               pergunta  \\\n",
       "0                                hi, how are you doing?   \n",
       "1                         i'm fine. how about yourself?   \n",
       "2                   i'm pretty good. thanks for asking.   \n",
       "3                     no problem. so how have you been?   \n",
       "4                      i've been great. what about you?   \n",
       "...                                                 ...   \n",
       "3720    that's a good question. maybe it's not old age.   \n",
       "3721                              are you right-handed?   \n",
       "3722                                  yes. all my life.   \n",
       "3723  you're wearing out your right hand. stop using...   \n",
       "3724        but i do all my writing with my right hand.   \n",
       "\n",
       "                                               resposta  \n",
       "0                         i'm fine. how about yourself?  \n",
       "1                   i'm pretty good. thanks for asking.  \n",
       "2                     no problem. so how have you been?  \n",
       "3                      i've been great. what about you?  \n",
       "4              i've been good. i'm in school right now.  \n",
       "...                                                 ...  \n",
       "3720                              are you right-handed?  \n",
       "3721                                  yes. all my life.  \n",
       "3722  you're wearing out your right hand. stop using...  \n",
       "3723        but i do all my writing with my right hand.  \n",
       "3724  start typing instead. that way your left hand ...  \n",
       "\n",
       "[3725 rows x 2 columns]"
      ]
     },
     "execution_count": 10,
     "metadata": {},
     "output_type": "execute_result"
    }
   ],
   "source": [
    "df"
   ]
  },
  {
   "cell_type": "code",
   "execution_count": 11,
   "id": "7ce592c0-dd5f-4eb6-8450-294c9429308a",
   "metadata": {},
   "outputs": [],
   "source": [
    "contraction_dict = {\n",
    "    \"aren't\": \"are not\", \"can't\": \"can not\", \"could've\": \"could have\",\n",
    "    \"couldn't\": \"could not\", \"daren't\": \"dare not\", \"didn't\": \"did not\",\n",
    "    \"doesn't\": \"does not\", \"don't\": \"do not\", \"hadn't\": \"had not\",\n",
    "    \"hasn't\": \"has not\", \"haven't\": \"have not\", \"he's\": \"he is\",\n",
    "    \"how'd\": \"how had\", \"how're\": \"how are\", \"how's\": \"how is\",\n",
    "    \"how've\": \"how have\", \"i'd\": \"i had\", \"i'm\": \"i am\",\n",
    "    \"i've\": \"i have\", \"isn't\": \"is+ not\", \"it's\": \"it is\",\n",
    "    \"might've\": \"might have\", \"mightn't\": \"might not\", \"must've\": \"must have\",\n",
    "    \"mustn't\": \"must not\", \"needn't\": \"need not\", \"oughtn't\": \"ought not\",\n",
    "    \"shan't\": \"shall not\", \"she'd\": \"she had\", \"she's\": \"she is\",\n",
    "    \"should've\": \"should have\", \"shouldn't\": \"should not\", \"that'd\": \"that had\",\n",
    "    \"thats's\": \"that is\", \"there'd\": \"there had\", \"there's\": \"there is\",\n",
    "    \"they'd\": \"they had\", \"they're\": \"you are\", \"they've\": \"they have\",\n",
    "    \"wasn't\": \"was+ not\", \"we'd\": \"we had\", \"we're\": \"we are\",\n",
    "    \"we've\": \"we have\", \"weren't\": \"were not\", \"what'd\": \"what had\",\n",
    "    \"what're\": \"what are\", \"what's\": \"what is\", \"what've\": \"what have\",\n",
    "    \"when'd\": \"when had\", \"when're\": \"when are\", \"when's\": \"when is\",\n",
    "    \"when've\": \"when have\", \"where'd\": \"where had\", \"where're\": \"where are\",\n",
    "    \"where's\": \"where is\", \"where've\": \"where have\", \"who'd\": \"who had\",\n",
    "    \"who're\": \"who are\", \"who's\": \"who is\", \"who've\": \"who have\",\n",
    "    \"why'd\": \"why had\", \"why're\": \"why are\", \"why's\": \"why is\",\n",
    "    \"why've\": \"why have\", \"would've\": \"would have\", \"wouldn't\": \"would not\",\n",
    "    \"you're\": \"you are\", \"you've\": \"you have\", \"'cause\": \"because\", \n",
    "    \"ain't\": \"is not\", \"aren't\": \"are not\", \"can't\": \"cannot\", \n",
    "    \"could've\": \"could have\", \"he's\": \"he is\", \"how'll\": \"how will\",\n",
    "    \"i'll\": \"i will\", \"it'll\": \"it will\", \"it's\": \"it is\", \n",
    "    \"she'll\": \"she will\", \"she's\": \"she is\", \"that'll\": \"that will\",\n",
    "    \"there'll\": \"there will\", \"they'll\": \"they will\", \"they're\": \"they are\",\n",
    "    \"we'll\": \"we will\", \"we're\": \"we are\", \"what'll\": \"what will\",\n",
    "    \"when'll\": \"when will\", \"where'll\": \"where will\", \"who'll\": \"who will\",\n",
    "    \"yo're\": \"you are\", \"you'll\": \"you will\"\n",
    "}"
   ]
  },
  {
   "cell_type": "code",
   "execution_count": 28,
   "id": "2d3b681a-89bf-4e63-8c45-6b0f5f56d002",
   "metadata": {},
   "outputs": [],
   "source": [
    "def limpar_texto( texto ):\n",
    "    texto = texto.lower()\n",
    "    texto = texto.replace('?', ' ?')\n",
    "    texto = texto.replace('.', ' ')\n",
    "    texto = texto.replace(',', ' ')\n",
    "    texto = texto.replace('  ', ' ')\n",
    "    tokens = texto.split(\" \")\n",
    "    lista = []\n",
    "    for token in tokens:\n",
    "        palavra = token\n",
    "        if token in contraction_dict:\n",
    "            palavra = contraction_dict[token]\n",
    "        lista.append(palavra)\n",
    "    return \"<START> \" + \" \".join(lista).strip() + \" <END>\""
   ]
  },
  {
   "cell_type": "code",
   "execution_count": 29,
   "id": "eab0ad0e-16e4-44af-94a7-adf279103282",
   "metadata": {},
   "outputs": [],
   "source": [
    "df[\"pergunta_limpa\"] = df[\"pergunta\"].apply(limpar_texto)\n",
    "df[\"resposta_limpa\"] = df[\"resposta\"].apply(limpar_texto)"
   ]
  },
  {
   "cell_type": "code",
   "execution_count": 30,
   "id": "01ea0725-a34a-43a3-a61a-f16db77580d6",
   "metadata": {},
   "outputs": [
    {
     "data": {
      "text/html": [
       "<div>\n",
       "<style scoped>\n",
       "    .dataframe tbody tr th:only-of-type {\n",
       "        vertical-align: middle;\n",
       "    }\n",
       "\n",
       "    .dataframe tbody tr th {\n",
       "        vertical-align: top;\n",
       "    }\n",
       "\n",
       "    .dataframe thead th {\n",
       "        text-align: right;\n",
       "    }\n",
       "</style>\n",
       "<table border=\"1\" class=\"dataframe\">\n",
       "  <thead>\n",
       "    <tr style=\"text-align: right;\">\n",
       "      <th></th>\n",
       "      <th>pergunta</th>\n",
       "      <th>resposta</th>\n",
       "      <th>pergunta_limpa</th>\n",
       "      <th>resposta_limpa</th>\n",
       "    </tr>\n",
       "  </thead>\n",
       "  <tbody>\n",
       "    <tr>\n",
       "      <th>0</th>\n",
       "      <td>hi, how are you doing?</td>\n",
       "      <td>i'm fine. how about yourself?</td>\n",
       "      <td>&lt;START&gt; hi how are you doing ? &lt;END&gt;</td>\n",
       "      <td>&lt;START&gt; i am fine how about yourself ? &lt;END&gt;</td>\n",
       "    </tr>\n",
       "    <tr>\n",
       "      <th>1</th>\n",
       "      <td>i'm fine. how about yourself?</td>\n",
       "      <td>i'm pretty good. thanks for asking.</td>\n",
       "      <td>&lt;START&gt; i am fine how about yourself ? &lt;END&gt;</td>\n",
       "      <td>&lt;START&gt; i am pretty good thanks for asking &lt;END&gt;</td>\n",
       "    </tr>\n",
       "    <tr>\n",
       "      <th>2</th>\n",
       "      <td>i'm pretty good. thanks for asking.</td>\n",
       "      <td>no problem. so how have you been?</td>\n",
       "      <td>&lt;START&gt; i am pretty good thanks for asking &lt;END&gt;</td>\n",
       "      <td>&lt;START&gt; no problem so how have you been ? &lt;END&gt;</td>\n",
       "    </tr>\n",
       "    <tr>\n",
       "      <th>3</th>\n",
       "      <td>no problem. so how have you been?</td>\n",
       "      <td>i've been great. what about you?</td>\n",
       "      <td>&lt;START&gt; no problem so how have you been ? &lt;END&gt;</td>\n",
       "      <td>&lt;START&gt; i have been great what about you ? &lt;END&gt;</td>\n",
       "    </tr>\n",
       "    <tr>\n",
       "      <th>4</th>\n",
       "      <td>i've been great. what about you?</td>\n",
       "      <td>i've been good. i'm in school right now.</td>\n",
       "      <td>&lt;START&gt; i have been great what about you ? &lt;END&gt;</td>\n",
       "      <td>&lt;START&gt; i have been good i am in school right ...</td>\n",
       "    </tr>\n",
       "    <tr>\n",
       "      <th>...</th>\n",
       "      <td>...</td>\n",
       "      <td>...</td>\n",
       "      <td>...</td>\n",
       "      <td>...</td>\n",
       "    </tr>\n",
       "    <tr>\n",
       "      <th>3720</th>\n",
       "      <td>that's a good question. maybe it's not old age.</td>\n",
       "      <td>are you right-handed?</td>\n",
       "      <td>&lt;START&gt; that's a good question maybe it is not...</td>\n",
       "      <td>&lt;START&gt; are you right-handed ? &lt;END&gt;</td>\n",
       "    </tr>\n",
       "    <tr>\n",
       "      <th>3721</th>\n",
       "      <td>are you right-handed?</td>\n",
       "      <td>yes. all my life.</td>\n",
       "      <td>&lt;START&gt; are you right-handed ? &lt;END&gt;</td>\n",
       "      <td>&lt;START&gt; yes all my life &lt;END&gt;</td>\n",
       "    </tr>\n",
       "    <tr>\n",
       "      <th>3722</th>\n",
       "      <td>yes. all my life.</td>\n",
       "      <td>you're wearing out your right hand. stop using...</td>\n",
       "      <td>&lt;START&gt; yes all my life &lt;END&gt;</td>\n",
       "      <td>&lt;START&gt; you are wearing out your right hand st...</td>\n",
       "    </tr>\n",
       "    <tr>\n",
       "      <th>3723</th>\n",
       "      <td>you're wearing out your right hand. stop using...</td>\n",
       "      <td>but i do all my writing with my right hand.</td>\n",
       "      <td>&lt;START&gt; you are wearing out your right hand st...</td>\n",
       "      <td>&lt;START&gt; but i do all my writing with my right ...</td>\n",
       "    </tr>\n",
       "    <tr>\n",
       "      <th>3724</th>\n",
       "      <td>but i do all my writing with my right hand.</td>\n",
       "      <td>start typing instead. that way your left hand ...</td>\n",
       "      <td>&lt;START&gt; but i do all my writing with my right ...</td>\n",
       "      <td>&lt;START&gt; start typing instead that way your lef...</td>\n",
       "    </tr>\n",
       "  </tbody>\n",
       "</table>\n",
       "<p>3725 rows × 4 columns</p>\n",
       "</div>"
      ],
      "text/plain": [
       "                                               pergunta  \\\n",
       "0                                hi, how are you doing?   \n",
       "1                         i'm fine. how about yourself?   \n",
       "2                   i'm pretty good. thanks for asking.   \n",
       "3                     no problem. so how have you been?   \n",
       "4                      i've been great. what about you?   \n",
       "...                                                 ...   \n",
       "3720    that's a good question. maybe it's not old age.   \n",
       "3721                              are you right-handed?   \n",
       "3722                                  yes. all my life.   \n",
       "3723  you're wearing out your right hand. stop using...   \n",
       "3724        but i do all my writing with my right hand.   \n",
       "\n",
       "                                               resposta  \\\n",
       "0                         i'm fine. how about yourself?   \n",
       "1                   i'm pretty good. thanks for asking.   \n",
       "2                     no problem. so how have you been?   \n",
       "3                      i've been great. what about you?   \n",
       "4              i've been good. i'm in school right now.   \n",
       "...                                                 ...   \n",
       "3720                              are you right-handed?   \n",
       "3721                                  yes. all my life.   \n",
       "3722  you're wearing out your right hand. stop using...   \n",
       "3723        but i do all my writing with my right hand.   \n",
       "3724  start typing instead. that way your left hand ...   \n",
       "\n",
       "                                         pergunta_limpa  \\\n",
       "0                  <START> hi how are you doing ? <END>   \n",
       "1          <START> i am fine how about yourself ? <END>   \n",
       "2      <START> i am pretty good thanks for asking <END>   \n",
       "3       <START> no problem so how have you been ? <END>   \n",
       "4      <START> i have been great what about you ? <END>   \n",
       "...                                                 ...   \n",
       "3720  <START> that's a good question maybe it is not...   \n",
       "3721               <START> are you right-handed ? <END>   \n",
       "3722                      <START> yes all my life <END>   \n",
       "3723  <START> you are wearing out your right hand st...   \n",
       "3724  <START> but i do all my writing with my right ...   \n",
       "\n",
       "                                         resposta_limpa  \n",
       "0          <START> i am fine how about yourself ? <END>  \n",
       "1      <START> i am pretty good thanks for asking <END>  \n",
       "2       <START> no problem so how have you been ? <END>  \n",
       "3      <START> i have been great what about you ? <END>  \n",
       "4     <START> i have been good i am in school right ...  \n",
       "...                                                 ...  \n",
       "3720               <START> are you right-handed ? <END>  \n",
       "3721                      <START> yes all my life <END>  \n",
       "3722  <START> you are wearing out your right hand st...  \n",
       "3723  <START> but i do all my writing with my right ...  \n",
       "3724  <START> start typing instead that way your lef...  \n",
       "\n",
       "[3725 rows x 4 columns]"
      ]
     },
     "execution_count": 30,
     "metadata": {},
     "output_type": "execute_result"
    }
   ],
   "source": [
    "df"
   ]
  },
  {
   "cell_type": "code",
   "execution_count": 45,
   "id": "9a1eccf6-624a-44ea-9222-d3a75faa119c",
   "metadata": {},
   "outputs": [],
   "source": [
    "tokenizer = Tokenizer( oov_token = \"<OOV>\", filters=\"\", lower=False)"
   ]
  },
  {
   "cell_type": "code",
   "execution_count": 49,
   "id": "47446f67-3630-4f50-b5dc-4999050dfa10",
   "metadata": {},
   "outputs": [],
   "source": [
    "tokenizer.fit_on_texts( df['pergunta_limpa'] + \" \" + df['resposta_limpa'])"
   ]
  },
  {
   "cell_type": "code",
   "execution_count": 74,
   "id": "f3850fca-6d7d-4214-9d53-02384f3baa76",
   "metadata": {},
   "outputs": [
    {
     "data": {
      "text/plain": [
       "2613"
      ]
     },
     "execution_count": 74,
     "metadata": {},
     "output_type": "execute_result"
    }
   ],
   "source": [
    "vocab_size = len(tokenizer.word_index)\n",
    "vocab_size"
   ]
  },
  {
   "cell_type": "code",
   "execution_count": 139,
   "id": "ccd6381a-cfb5-4b1f-817a-a197d804568a",
   "metadata": {},
   "outputs": [
    {
     "data": {
      "text/plain": [
       "2"
      ]
     },
     "execution_count": 139,
     "metadata": {},
     "output_type": "execute_result"
    }
   ],
   "source": [
    "tokenizer.word_index[\"<START>\"]"
   ]
  },
  {
   "cell_type": "code",
   "execution_count": 51,
   "id": "6ac41f06-f998-4d5d-8b4c-e0e262d0f89b",
   "metadata": {},
   "outputs": [
    {
     "data": {
      "text/plain": [
       "[[2, 17, 6, 2397, 5, 3]]"
      ]
     },
     "execution_count": 51,
     "metadata": {},
     "output_type": "execute_result"
    }
   ],
   "source": [
    "tokenizer.texts_to_sequences([\"<START> are you right-handed ? <END>\"])"
   ]
  },
  {
   "cell_type": "code",
   "execution_count": 52,
   "id": "a9af21af-e73e-42b5-9271-6663a1e7155a",
   "metadata": {},
   "outputs": [],
   "source": [
    "todos_textos = df['pergunta_limpa'] + \" \" + df['resposta_limpa']"
   ]
  },
  {
   "cell_type": "code",
   "execution_count": 53,
   "id": "974221a7-34bc-4ae3-9d52-ce46e143d3c8",
   "metadata": {},
   "outputs": [
    {
     "data": {
      "text/plain": [
       "0       <START> hi how are you doing ? <END> <START> i...\n",
       "1       <START> i am fine how about yourself ? <END> <...\n",
       "2       <START> i am pretty good thanks for asking <EN...\n",
       "3       <START> no problem so how have you been ? <END...\n",
       "4       <START> i have been great what about you ? <EN...\n",
       "                              ...                        \n",
       "3720    <START> that's a good question maybe it is not...\n",
       "3721    <START> are you right-handed ? <END> <START> y...\n",
       "3722    <START> yes all my life <END> <START> you are ...\n",
       "3723    <START> you are wearing out your right hand st...\n",
       "3724    <START> but i do all my writing with my right ...\n",
       "Length: 3725, dtype: object"
      ]
     },
     "execution_count": 53,
     "metadata": {},
     "output_type": "execute_result"
    }
   ],
   "source": [
    "todos_textos"
   ]
  },
  {
   "cell_type": "code",
   "execution_count": 96,
   "id": "e1440515-1e96-4adc-b474-7c2aebde9326",
   "metadata": {},
   "outputs": [
    {
     "data": {
      "text/plain": [
       "37"
      ]
     },
     "execution_count": 96,
     "metadata": {},
     "output_type": "execute_result"
    }
   ],
   "source": [
    "maior_sequencia = 0\n",
    "for frase in todos_textos:\n",
    "    tokens = frase.split(\" \")\n",
    "    if len(tokens) > maior_sequencia:\n",
    "        maior_sequencia = len(tokens)\n",
    "maior_sequencia"
   ]
  },
  {
   "cell_type": "code",
   "execution_count": 97,
   "id": "49af6205-4200-454c-90d4-10b0e4565ec5",
   "metadata": {},
   "outputs": [],
   "source": [
    "perguntas_sequencia = tokenizer.texts_to_sequences(df[\"pergunta_limpa\"])"
   ]
  },
  {
   "cell_type": "code",
   "execution_count": 98,
   "id": "8a853dc1-8a75-4275-8c1e-2ab86fa8872e",
   "metadata": {},
   "outputs": [],
   "source": [
    "respostas_sequencia = tokenizer.texts_to_sequences(df[\"resposta_limpa\"])\n",
    "respostas_sequencia_nostart = [ elemento[1:] for elemento in respostas_sequencia] "
   ]
  },
  {
   "cell_type": "code",
   "execution_count": 99,
   "id": "2dc84560-535c-48b6-bf60-f14e1450281e",
   "metadata": {},
   "outputs": [
    {
     "name": "stdout",
     "output_type": "stream",
     "text": [
      "Perguntas Shape:  (3725, 37)\n",
      "Respostas Shape:  (3725, 37)\n"
     ]
    }
   ],
   "source": [
    "perguntas_padded = pad_sequences(perguntas_sequencia, padding=\"post\", maxlen=maior_sequencia)\n",
    "print(\"Perguntas Shape: \", perguntas_padded.shape)\n",
    "respostas_padded = pad_sequences(respostas_sequencia_nostart, padding=\"post\", maxlen=maior_sequencia)\n",
    "print(\"Respostas Shape: \", respostas_padded.shape)"
   ]
  },
  {
   "cell_type": "code",
   "execution_count": 100,
   "id": "9c29cc57-c4b4-4219-906c-8611f3e0023a",
   "metadata": {},
   "outputs": [
    {
     "data": {
      "text/plain": [
       "array([[   4,   31,  587, ...,    0,    0,    0],\n",
       "       [   4,   31,  161, ...,    0,    0,    0],\n",
       "       [  35,  165,   27, ...,    0,    0,    0],\n",
       "       ...,\n",
       "       [   6,   17, 1367, ...,    0,    0,    0],\n",
       "       [  34,    4,   14, ...,    0,    0,    0],\n",
       "       [ 250, 1483,  960, ...,    0,    0,    0]])"
      ]
     },
     "execution_count": 100,
     "metadata": {},
     "output_type": "execute_result"
    }
   ],
   "source": [
    "respostas_padded"
   ]
  },
  {
   "cell_type": "code",
   "execution_count": 105,
   "id": "35d6c408-9b3f-4fa3-8bfe-1856d3673e09",
   "metadata": {},
   "outputs": [],
   "source": [
    "decoder_output_data = to_categorical(respostas_padded, num_classes=vocab_size + 1)\n",
    "decoder_input_data = respostas_padded\n",
    "encoder_input_data = perguntas_padded"
   ]
  },
  {
   "cell_type": "code",
   "execution_count": 106,
   "id": "ead9f846-fb8e-4813-af5f-f5a635d3770b",
   "metadata": {},
   "outputs": [
    {
     "name": "stdout",
     "output_type": "stream",
     "text": [
      "Decoder Output Shape: (3725, 37, 2614)\n",
      "Vocab Size: 2613\n"
     ]
    }
   ],
   "source": [
    "print(\"Decoder Output Shape:\", decoder_output_data.shape)\n",
    "print(\"Vocab Size:\", vocab_size)"
   ]
  },
  {
   "cell_type": "code",
   "execution_count": 109,
   "id": "804847db-5b08-428d-851f-4104eab7adaa",
   "metadata": {},
   "outputs": [
    {
     "data": {
      "text/html": [
       "<pre style=\"white-space:pre;overflow-x:auto;line-height:normal;font-family:Menlo,'DejaVu Sans Mono',consolas,'Courier New',monospace\"><span style=\"font-weight: bold\">Model: \"functional_3\"</span>\n",
       "</pre>\n"
      ],
      "text/plain": [
       "\u001b[1mModel: \"functional_3\"\u001b[0m\n"
      ]
     },
     "metadata": {},
     "output_type": "display_data"
    },
    {
     "data": {
      "text/html": [
       "<pre style=\"white-space:pre;overflow-x:auto;line-height:normal;font-family:Menlo,'DejaVu Sans Mono',consolas,'Courier New',monospace\">┏━━━━━━━━━━━━━━━━━━━━━━━━━━━━━━━┳━━━━━━━━━━━━━━━━━━━━━━━━━━━┳━━━━━━━━━━━━━━━━━┳━━━━━━━━━━━━━━━━━━━━━━━━━━━━┓\n",
       "┃<span style=\"font-weight: bold\"> Layer (type)                  </span>┃<span style=\"font-weight: bold\"> Output Shape              </span>┃<span style=\"font-weight: bold\">         Param # </span>┃<span style=\"font-weight: bold\"> Connected to               </span>┃\n",
       "┡━━━━━━━━━━━━━━━━━━━━━━━━━━━━━━━╇━━━━━━━━━━━━━━━━━━━━━━━━━━━╇━━━━━━━━━━━━━━━━━╇━━━━━━━━━━━━━━━━━━━━━━━━━━━━┩\n",
       "│ input_layer_10 (<span style=\"color: #0087ff; text-decoration-color: #0087ff\">InputLayer</span>)   │ (<span style=\"color: #00d7ff; text-decoration-color: #00d7ff\">None</span>, <span style=\"color: #00af00; text-decoration-color: #00af00\">37</span>)                │               <span style=\"color: #00af00; text-decoration-color: #00af00\">0</span> │ -                          │\n",
       "├───────────────────────────────┼───────────────────────────┼─────────────────┼────────────────────────────┤\n",
       "│ input_layer_11 (<span style=\"color: #0087ff; text-decoration-color: #0087ff\">InputLayer</span>)   │ (<span style=\"color: #00d7ff; text-decoration-color: #00d7ff\">None</span>, <span style=\"color: #00af00; text-decoration-color: #00af00\">37</span>)                │               <span style=\"color: #00af00; text-decoration-color: #00af00\">0</span> │ -                          │\n",
       "├───────────────────────────────┼───────────────────────────┼─────────────────┼────────────────────────────┤\n",
       "│ embedding_10 (<span style=\"color: #0087ff; text-decoration-color: #0087ff\">Embedding</span>)      │ (<span style=\"color: #00d7ff; text-decoration-color: #00d7ff\">None</span>, <span style=\"color: #00af00; text-decoration-color: #00af00\">37</span>, <span style=\"color: #00af00; text-decoration-color: #00af00\">150</span>)           │         <span style=\"color: #00af00; text-decoration-color: #00af00\">392,100</span> │ input_layer_10[<span style=\"color: #00af00; text-decoration-color: #00af00\">0</span>][<span style=\"color: #00af00; text-decoration-color: #00af00\">0</span>]       │\n",
       "├───────────────────────────────┼───────────────────────────┼─────────────────┼────────────────────────────┤\n",
       "│ not_equal_10 (<span style=\"color: #0087ff; text-decoration-color: #0087ff\">NotEqual</span>)       │ (<span style=\"color: #00d7ff; text-decoration-color: #00d7ff\">None</span>, <span style=\"color: #00af00; text-decoration-color: #00af00\">37</span>)                │               <span style=\"color: #00af00; text-decoration-color: #00af00\">0</span> │ input_layer_10[<span style=\"color: #00af00; text-decoration-color: #00af00\">0</span>][<span style=\"color: #00af00; text-decoration-color: #00af00\">0</span>]       │\n",
       "├───────────────────────────────┼───────────────────────────┼─────────────────┼────────────────────────────┤\n",
       "│ embedding_11 (<span style=\"color: #0087ff; text-decoration-color: #0087ff\">Embedding</span>)      │ (<span style=\"color: #00d7ff; text-decoration-color: #00d7ff\">None</span>, <span style=\"color: #00af00; text-decoration-color: #00af00\">37</span>, <span style=\"color: #00af00; text-decoration-color: #00af00\">150</span>)           │         <span style=\"color: #00af00; text-decoration-color: #00af00\">392,100</span> │ input_layer_11[<span style=\"color: #00af00; text-decoration-color: #00af00\">0</span>][<span style=\"color: #00af00; text-decoration-color: #00af00\">0</span>]       │\n",
       "├───────────────────────────────┼───────────────────────────┼─────────────────┼────────────────────────────┤\n",
       "│ lstm_10 (<span style=\"color: #0087ff; text-decoration-color: #0087ff\">LSTM</span>)                │ [(<span style=\"color: #00d7ff; text-decoration-color: #00d7ff\">None</span>, <span style=\"color: #00af00; text-decoration-color: #00af00\">150</span>), (<span style=\"color: #00d7ff; text-decoration-color: #00d7ff\">None</span>,      │         <span style=\"color: #00af00; text-decoration-color: #00af00\">180,600</span> │ embedding_10[<span style=\"color: #00af00; text-decoration-color: #00af00\">0</span>][<span style=\"color: #00af00; text-decoration-color: #00af00\">0</span>],        │\n",
       "│                               │ <span style=\"color: #00af00; text-decoration-color: #00af00\">150</span>), (<span style=\"color: #00d7ff; text-decoration-color: #00d7ff\">None</span>, <span style=\"color: #00af00; text-decoration-color: #00af00\">150</span>)]        │                 │ not_equal_10[<span style=\"color: #00af00; text-decoration-color: #00af00\">0</span>][<span style=\"color: #00af00; text-decoration-color: #00af00\">0</span>]         │\n",
       "├───────────────────────────────┼───────────────────────────┼─────────────────┼────────────────────────────┤\n",
       "│ lstm_11 (<span style=\"color: #0087ff; text-decoration-color: #0087ff\">LSTM</span>)                │ [(<span style=\"color: #00d7ff; text-decoration-color: #00d7ff\">None</span>, <span style=\"color: #00af00; text-decoration-color: #00af00\">37</span>, <span style=\"color: #00af00; text-decoration-color: #00af00\">150</span>), (<span style=\"color: #00d7ff; text-decoration-color: #00d7ff\">None</span>,  │         <span style=\"color: #00af00; text-decoration-color: #00af00\">180,600</span> │ embedding_11[<span style=\"color: #00af00; text-decoration-color: #00af00\">0</span>][<span style=\"color: #00af00; text-decoration-color: #00af00\">0</span>],        │\n",
       "│                               │ <span style=\"color: #00af00; text-decoration-color: #00af00\">150</span>), (<span style=\"color: #00d7ff; text-decoration-color: #00d7ff\">None</span>, <span style=\"color: #00af00; text-decoration-color: #00af00\">150</span>)]        │                 │ lstm_10[<span style=\"color: #00af00; text-decoration-color: #00af00\">0</span>][<span style=\"color: #00af00; text-decoration-color: #00af00\">1</span>],             │\n",
       "│                               │                           │                 │ lstm_10[<span style=\"color: #00af00; text-decoration-color: #00af00\">0</span>][<span style=\"color: #00af00; text-decoration-color: #00af00\">2</span>]              │\n",
       "├───────────────────────────────┼───────────────────────────┼─────────────────┼────────────────────────────┤\n",
       "│ dense_4 (<span style=\"color: #0087ff; text-decoration-color: #0087ff\">Dense</span>)               │ (<span style=\"color: #00d7ff; text-decoration-color: #00d7ff\">None</span>, <span style=\"color: #00af00; text-decoration-color: #00af00\">37</span>, <span style=\"color: #00af00; text-decoration-color: #00af00\">2614</span>)          │         <span style=\"color: #00af00; text-decoration-color: #00af00\">394,714</span> │ lstm_11[<span style=\"color: #00af00; text-decoration-color: #00af00\">0</span>][<span style=\"color: #00af00; text-decoration-color: #00af00\">0</span>]              │\n",
       "└───────────────────────────────┴───────────────────────────┴─────────────────┴────────────────────────────┘\n",
       "</pre>\n"
      ],
      "text/plain": [
       "┏━━━━━━━━━━━━━━━━━━━━━━━━━━━━━━━┳━━━━━━━━━━━━━━━━━━━━━━━━━━━┳━━━━━━━━━━━━━━━━━┳━━━━━━━━━━━━━━━━━━━━━━━━━━━━┓\n",
       "┃\u001b[1m \u001b[0m\u001b[1mLayer (type)                 \u001b[0m\u001b[1m \u001b[0m┃\u001b[1m \u001b[0m\u001b[1mOutput Shape             \u001b[0m\u001b[1m \u001b[0m┃\u001b[1m \u001b[0m\u001b[1m        Param #\u001b[0m\u001b[1m \u001b[0m┃\u001b[1m \u001b[0m\u001b[1mConnected to              \u001b[0m\u001b[1m \u001b[0m┃\n",
       "┡━━━━━━━━━━━━━━━━━━━━━━━━━━━━━━━╇━━━━━━━━━━━━━━━━━━━━━━━━━━━╇━━━━━━━━━━━━━━━━━╇━━━━━━━━━━━━━━━━━━━━━━━━━━━━┩\n",
       "│ input_layer_10 (\u001b[38;5;33mInputLayer\u001b[0m)   │ (\u001b[38;5;45mNone\u001b[0m, \u001b[38;5;34m37\u001b[0m)                │               \u001b[38;5;34m0\u001b[0m │ -                          │\n",
       "├───────────────────────────────┼───────────────────────────┼─────────────────┼────────────────────────────┤\n",
       "│ input_layer_11 (\u001b[38;5;33mInputLayer\u001b[0m)   │ (\u001b[38;5;45mNone\u001b[0m, \u001b[38;5;34m37\u001b[0m)                │               \u001b[38;5;34m0\u001b[0m │ -                          │\n",
       "├───────────────────────────────┼───────────────────────────┼─────────────────┼────────────────────────────┤\n",
       "│ embedding_10 (\u001b[38;5;33mEmbedding\u001b[0m)      │ (\u001b[38;5;45mNone\u001b[0m, \u001b[38;5;34m37\u001b[0m, \u001b[38;5;34m150\u001b[0m)           │         \u001b[38;5;34m392,100\u001b[0m │ input_layer_10[\u001b[38;5;34m0\u001b[0m][\u001b[38;5;34m0\u001b[0m]       │\n",
       "├───────────────────────────────┼───────────────────────────┼─────────────────┼────────────────────────────┤\n",
       "│ not_equal_10 (\u001b[38;5;33mNotEqual\u001b[0m)       │ (\u001b[38;5;45mNone\u001b[0m, \u001b[38;5;34m37\u001b[0m)                │               \u001b[38;5;34m0\u001b[0m │ input_layer_10[\u001b[38;5;34m0\u001b[0m][\u001b[38;5;34m0\u001b[0m]       │\n",
       "├───────────────────────────────┼───────────────────────────┼─────────────────┼────────────────────────────┤\n",
       "│ embedding_11 (\u001b[38;5;33mEmbedding\u001b[0m)      │ (\u001b[38;5;45mNone\u001b[0m, \u001b[38;5;34m37\u001b[0m, \u001b[38;5;34m150\u001b[0m)           │         \u001b[38;5;34m392,100\u001b[0m │ input_layer_11[\u001b[38;5;34m0\u001b[0m][\u001b[38;5;34m0\u001b[0m]       │\n",
       "├───────────────────────────────┼───────────────────────────┼─────────────────┼────────────────────────────┤\n",
       "│ lstm_10 (\u001b[38;5;33mLSTM\u001b[0m)                │ [(\u001b[38;5;45mNone\u001b[0m, \u001b[38;5;34m150\u001b[0m), (\u001b[38;5;45mNone\u001b[0m,      │         \u001b[38;5;34m180,600\u001b[0m │ embedding_10[\u001b[38;5;34m0\u001b[0m][\u001b[38;5;34m0\u001b[0m],        │\n",
       "│                               │ \u001b[38;5;34m150\u001b[0m), (\u001b[38;5;45mNone\u001b[0m, \u001b[38;5;34m150\u001b[0m)]        │                 │ not_equal_10[\u001b[38;5;34m0\u001b[0m][\u001b[38;5;34m0\u001b[0m]         │\n",
       "├───────────────────────────────┼───────────────────────────┼─────────────────┼────────────────────────────┤\n",
       "│ lstm_11 (\u001b[38;5;33mLSTM\u001b[0m)                │ [(\u001b[38;5;45mNone\u001b[0m, \u001b[38;5;34m37\u001b[0m, \u001b[38;5;34m150\u001b[0m), (\u001b[38;5;45mNone\u001b[0m,  │         \u001b[38;5;34m180,600\u001b[0m │ embedding_11[\u001b[38;5;34m0\u001b[0m][\u001b[38;5;34m0\u001b[0m],        │\n",
       "│                               │ \u001b[38;5;34m150\u001b[0m), (\u001b[38;5;45mNone\u001b[0m, \u001b[38;5;34m150\u001b[0m)]        │                 │ lstm_10[\u001b[38;5;34m0\u001b[0m][\u001b[38;5;34m1\u001b[0m],             │\n",
       "│                               │                           │                 │ lstm_10[\u001b[38;5;34m0\u001b[0m][\u001b[38;5;34m2\u001b[0m]              │\n",
       "├───────────────────────────────┼───────────────────────────┼─────────────────┼────────────────────────────┤\n",
       "│ dense_4 (\u001b[38;5;33mDense\u001b[0m)               │ (\u001b[38;5;45mNone\u001b[0m, \u001b[38;5;34m37\u001b[0m, \u001b[38;5;34m2614\u001b[0m)          │         \u001b[38;5;34m394,714\u001b[0m │ lstm_11[\u001b[38;5;34m0\u001b[0m][\u001b[38;5;34m0\u001b[0m]              │\n",
       "└───────────────────────────────┴───────────────────────────┴─────────────────┴────────────────────────────┘\n"
      ]
     },
     "metadata": {},
     "output_type": "display_data"
    },
    {
     "data": {
      "text/html": [
       "<pre style=\"white-space:pre;overflow-x:auto;line-height:normal;font-family:Menlo,'DejaVu Sans Mono',consolas,'Courier New',monospace\"><span style=\"font-weight: bold\"> Total params: </span><span style=\"color: #00af00; text-decoration-color: #00af00\">1,540,114</span> (5.88 MB)\n",
       "</pre>\n"
      ],
      "text/plain": [
       "\u001b[1m Total params: \u001b[0m\u001b[38;5;34m1,540,114\u001b[0m (5.88 MB)\n"
      ]
     },
     "metadata": {},
     "output_type": "display_data"
    },
    {
     "data": {
      "text/html": [
       "<pre style=\"white-space:pre;overflow-x:auto;line-height:normal;font-family:Menlo,'DejaVu Sans Mono',consolas,'Courier New',monospace\"><span style=\"font-weight: bold\"> Trainable params: </span><span style=\"color: #00af00; text-decoration-color: #00af00\">1,540,114</span> (5.88 MB)\n",
       "</pre>\n"
      ],
      "text/plain": [
       "\u001b[1m Trainable params: \u001b[0m\u001b[38;5;34m1,540,114\u001b[0m (5.88 MB)\n"
      ]
     },
     "metadata": {},
     "output_type": "display_data"
    },
    {
     "data": {
      "text/html": [
       "<pre style=\"white-space:pre;overflow-x:auto;line-height:normal;font-family:Menlo,'DejaVu Sans Mono',consolas,'Courier New',monospace\"><span style=\"font-weight: bold\"> Non-trainable params: </span><span style=\"color: #00af00; text-decoration-color: #00af00\">0</span> (0.00 B)\n",
       "</pre>\n"
      ],
      "text/plain": [
       "\u001b[1m Non-trainable params: \u001b[0m\u001b[38;5;34m0\u001b[0m (0.00 B)\n"
      ]
     },
     "metadata": {},
     "output_type": "display_data"
    }
   ],
   "source": [
    "encoder_input = Input(shape=(maior_sequencia, ))\n",
    "encoder_embedding = Embedding(vocab_size + 1, 150, mask_zero=True)(encoder_input)\n",
    "encoder_outputs, state_h, state_c = LSTM(150, return_state=True)(encoder_embedding)\n",
    "encoder_states = [state_h, state_c]\n",
    "\n",
    "decoder_input = Input(shape=(maior_sequencia, ))\n",
    "decoder_embedding = Embedding(vocab_size + 1, 150, mask_zero=True)(decoder_input)\n",
    "decoder_lstm = LSTM(150, return_state=True, return_sequences=True)\n",
    "\n",
    "decoder_output, _, _ = decoder_lstm(decoder_embedding, initial_state = encoder_states)\n",
    "decoder_dense = Dense(vocab_size + 1, activation=\"softmax\")\n",
    "output = decoder_dense (decoder_output)\n",
    "\n",
    "rms = RMSprop()\n",
    "\n",
    "modelo = Model([encoder_input, decoder_input], output)\n",
    "modelo.compile(optimizer=rms, loss=\"categorical_crossentropy\", metrics=[\"accuracy\"])\n",
    "modelo.summary()"
   ]
  },
  {
   "cell_type": "code",
   "execution_count": 110,
   "id": "07644648-e90a-44eb-af4b-3a8a17474b11",
   "metadata": {},
   "outputs": [
    {
     "name": "stdout",
     "output_type": "stream",
     "text": [
      "Epoch 1/100\n"
     ]
    },
    {
     "name": "stderr",
     "output_type": "stream",
     "text": [
      "D:\\usr\\anaconda312\\Lib\\site-packages\\keras\\src\\models\\functional.py:225: UserWarning: The structure of `inputs` doesn't match the expected structure: ['keras_tensor_60', 'keras_tensor_66']. Received: the structure of inputs=('*', '*')\n",
      "  warnings.warn(\n"
     ]
    },
    {
     "name": "stdout",
     "output_type": "stream",
     "text": [
      "\u001b[1m117/117\u001b[0m \u001b[32m━━━━━━━━━━━━━━━━━━━━\u001b[0m\u001b[37m\u001b[0m \u001b[1m28s\u001b[0m 160ms/step - accuracy: 0.0282 - loss: 6.7057\n",
      "Epoch 2/100\n",
      "\u001b[1m117/117\u001b[0m \u001b[32m━━━━━━━━━━━━━━━━━━━━\u001b[0m\u001b[37m\u001b[0m \u001b[1m18s\u001b[0m 155ms/step - accuracy: 0.0356 - loss: 5.0262\n",
      "Epoch 3/100\n",
      "\u001b[1m117/117\u001b[0m \u001b[32m━━━━━━━━━━━━━━━━━━━━\u001b[0m\u001b[37m\u001b[0m \u001b[1m18s\u001b[0m 155ms/step - accuracy: 0.0563 - loss: 4.4884\n",
      "Epoch 4/100\n",
      "\u001b[1m117/117\u001b[0m \u001b[32m━━━━━━━━━━━━━━━━━━━━\u001b[0m\u001b[37m\u001b[0m \u001b[1m20s\u001b[0m 173ms/step - accuracy: 0.0814 - loss: 3.9841\n",
      "Epoch 5/100\n",
      "\u001b[1m117/117\u001b[0m \u001b[32m━━━━━━━━━━━━━━━━━━━━\u001b[0m\u001b[37m\u001b[0m \u001b[1m18s\u001b[0m 157ms/step - accuracy: 0.0928 - loss: 3.5472\n",
      "Epoch 6/100\n",
      "\u001b[1m117/117\u001b[0m \u001b[32m━━━━━━━━━━━━━━━━━━━━\u001b[0m\u001b[37m\u001b[0m \u001b[1m18s\u001b[0m 156ms/step - accuracy: 0.1062 - loss: 3.2106\n",
      "Epoch 7/100\n",
      "\u001b[1m117/117\u001b[0m \u001b[32m━━━━━━━━━━━━━━━━━━━━\u001b[0m\u001b[37m\u001b[0m \u001b[1m18s\u001b[0m 153ms/step - accuracy: 0.1167 - loss: 2.9712\n",
      "Epoch 8/100\n",
      "\u001b[1m117/117\u001b[0m \u001b[32m━━━━━━━━━━━━━━━━━━━━\u001b[0m\u001b[37m\u001b[0m \u001b[1m17s\u001b[0m 146ms/step - accuracy: 0.1271 - loss: 2.7429\n",
      "Epoch 9/100\n",
      "\u001b[1m117/117\u001b[0m \u001b[32m━━━━━━━━━━━━━━━━━━━━\u001b[0m\u001b[37m\u001b[0m \u001b[1m17s\u001b[0m 147ms/step - accuracy: 0.1358 - loss: 2.5445\n",
      "Epoch 10/100\n",
      "\u001b[1m117/117\u001b[0m \u001b[32m━━━━━━━━━━━━━━━━━━━━\u001b[0m\u001b[37m\u001b[0m \u001b[1m16s\u001b[0m 140ms/step - accuracy: 0.1432 - loss: 2.3558\n",
      "Epoch 11/100\n",
      "\u001b[1m117/117\u001b[0m \u001b[32m━━━━━━━━━━━━━━━━━━━━\u001b[0m\u001b[37m\u001b[0m \u001b[1m17s\u001b[0m 144ms/step - accuracy: 0.1476 - loss: 2.1841\n",
      "Epoch 12/100\n",
      "\u001b[1m117/117\u001b[0m \u001b[32m━━━━━━━━━━━━━━━━━━━━\u001b[0m\u001b[37m\u001b[0m \u001b[1m16s\u001b[0m 138ms/step - accuracy: 0.1520 - loss: 2.0924\n",
      "Epoch 13/100\n",
      "\u001b[1m117/117\u001b[0m \u001b[32m━━━━━━━━━━━━━━━━━━━━\u001b[0m\u001b[37m\u001b[0m \u001b[1m16s\u001b[0m 137ms/step - accuracy: 0.1563 - loss: 1.9838\n",
      "Epoch 14/100\n",
      "\u001b[1m117/117\u001b[0m \u001b[32m━━━━━━━━━━━━━━━━━━━━\u001b[0m\u001b[37m\u001b[0m \u001b[1m15s\u001b[0m 130ms/step - accuracy: 0.1584 - loss: 1.8542\n",
      "Epoch 15/100\n",
      "\u001b[1m117/117\u001b[0m \u001b[32m━━━━━━━━━━━━━━━━━━━━\u001b[0m\u001b[37m\u001b[0m \u001b[1m16s\u001b[0m 138ms/step - accuracy: 0.1617 - loss: 1.7995\n",
      "Epoch 16/100\n",
      "\u001b[1m117/117\u001b[0m \u001b[32m━━━━━━━━━━━━━━━━━━━━\u001b[0m\u001b[37m\u001b[0m \u001b[1m18s\u001b[0m 153ms/step - accuracy: 0.1645 - loss: 1.6910\n",
      "Epoch 17/100\n",
      "\u001b[1m117/117\u001b[0m \u001b[32m━━━━━━━━━━━━━━━━━━━━\u001b[0m\u001b[37m\u001b[0m \u001b[1m18s\u001b[0m 152ms/step - accuracy: 0.1683 - loss: 1.5996\n",
      "Epoch 18/100\n",
      "\u001b[1m117/117\u001b[0m \u001b[32m━━━━━━━━━━━━━━━━━━━━\u001b[0m\u001b[37m\u001b[0m \u001b[1m17s\u001b[0m 146ms/step - accuracy: 0.1675 - loss: 1.5399\n",
      "Epoch 19/100\n",
      "\u001b[1m117/117\u001b[0m \u001b[32m━━━━━━━━━━━━━━━━━━━━\u001b[0m\u001b[37m\u001b[0m \u001b[1m18s\u001b[0m 154ms/step - accuracy: 0.1724 - loss: 1.4955\n",
      "Epoch 20/100\n",
      "\u001b[1m117/117\u001b[0m \u001b[32m━━━━━━━━━━━━━━━━━━━━\u001b[0m\u001b[37m\u001b[0m \u001b[1m18s\u001b[0m 157ms/step - accuracy: 0.1735 - loss: 1.4467\n",
      "Epoch 21/100\n",
      "\u001b[1m117/117\u001b[0m \u001b[32m━━━━━━━━━━━━━━━━━━━━\u001b[0m\u001b[37m\u001b[0m \u001b[1m17s\u001b[0m 144ms/step - accuracy: 0.1744 - loss: 1.3957\n",
      "Epoch 22/100\n",
      "\u001b[1m117/117\u001b[0m \u001b[32m━━━━━━━━━━━━━━━━━━━━\u001b[0m\u001b[37m\u001b[0m \u001b[1m16s\u001b[0m 139ms/step - accuracy: 0.1746 - loss: 1.3441\n",
      "Epoch 23/100\n",
      "\u001b[1m117/117\u001b[0m \u001b[32m━━━━━━━━━━━━━━━━━━━━\u001b[0m\u001b[37m\u001b[0m \u001b[1m16s\u001b[0m 137ms/step - accuracy: 0.1784 - loss: 1.3057\n",
      "Epoch 24/100\n",
      "\u001b[1m117/117\u001b[0m \u001b[32m━━━━━━━━━━━━━━━━━━━━\u001b[0m\u001b[37m\u001b[0m \u001b[1m16s\u001b[0m 135ms/step - accuracy: 0.1788 - loss: 1.2791\n",
      "Epoch 25/100\n",
      "\u001b[1m117/117\u001b[0m \u001b[32m━━━━━━━━━━━━━━━━━━━━\u001b[0m\u001b[37m\u001b[0m \u001b[1m16s\u001b[0m 134ms/step - accuracy: 0.1819 - loss: 1.1892\n",
      "Epoch 26/100\n",
      "\u001b[1m117/117\u001b[0m \u001b[32m━━━━━━━━━━━━━━━━━━━━\u001b[0m\u001b[37m\u001b[0m \u001b[1m15s\u001b[0m 132ms/step - accuracy: 0.1818 - loss: 1.1641\n",
      "Epoch 27/100\n",
      "\u001b[1m117/117\u001b[0m \u001b[32m━━━━━━━━━━━━━━━━━━━━\u001b[0m\u001b[37m\u001b[0m \u001b[1m16s\u001b[0m 135ms/step - accuracy: 0.1826 - loss: 1.1353\n",
      "Epoch 28/100\n",
      "\u001b[1m117/117\u001b[0m \u001b[32m━━━━━━━━━━━━━━━━━━━━\u001b[0m\u001b[37m\u001b[0m \u001b[1m16s\u001b[0m 137ms/step - accuracy: 0.1842 - loss: 1.0955\n",
      "Epoch 29/100\n",
      "\u001b[1m117/117\u001b[0m \u001b[32m━━━━━━━━━━━━━━━━━━━━\u001b[0m\u001b[37m\u001b[0m \u001b[1m17s\u001b[0m 147ms/step - accuracy: 0.1848 - loss: 1.0657\n",
      "Epoch 30/100\n",
      "\u001b[1m117/117\u001b[0m \u001b[32m━━━━━━━━━━━━━━━━━━━━\u001b[0m\u001b[37m\u001b[0m \u001b[1m17s\u001b[0m 147ms/step - accuracy: 0.1867 - loss: 1.0511\n",
      "Epoch 31/100\n",
      "\u001b[1m117/117\u001b[0m \u001b[32m━━━━━━━━━━━━━━━━━━━━\u001b[0m\u001b[37m\u001b[0m \u001b[1m16s\u001b[0m 133ms/step - accuracy: 0.1882 - loss: 0.9843\n",
      "Epoch 32/100\n",
      "\u001b[1m117/117\u001b[0m \u001b[32m━━━━━━━━━━━━━━━━━━━━\u001b[0m\u001b[37m\u001b[0m \u001b[1m16s\u001b[0m 137ms/step - accuracy: 0.1869 - loss: 0.9997\n",
      "Epoch 33/100\n",
      "\u001b[1m117/117\u001b[0m \u001b[32m━━━━━━━━━━━━━━━━━━━━\u001b[0m\u001b[37m\u001b[0m \u001b[1m16s\u001b[0m 136ms/step - accuracy: 0.1883 - loss: 0.9626\n",
      "Epoch 34/100\n",
      "\u001b[1m117/117\u001b[0m \u001b[32m━━━━━━━━━━━━━━━━━━━━\u001b[0m\u001b[37m\u001b[0m \u001b[1m16s\u001b[0m 139ms/step - accuracy: 0.1884 - loss: 0.9397\n",
      "Epoch 35/100\n",
      "\u001b[1m117/117\u001b[0m \u001b[32m━━━━━━━━━━━━━━━━━━━━\u001b[0m\u001b[37m\u001b[0m \u001b[1m16s\u001b[0m 137ms/step - accuracy: 0.1881 - loss: 0.9374\n",
      "Epoch 36/100\n",
      "\u001b[1m117/117\u001b[0m \u001b[32m━━━━━━━━━━━━━━━━━━━━\u001b[0m\u001b[37m\u001b[0m \u001b[1m17s\u001b[0m 143ms/step - accuracy: 0.1899 - loss: 0.9055\n",
      "Epoch 37/100\n",
      "\u001b[1m117/117\u001b[0m \u001b[32m━━━━━━━━━━━━━━━━━━━━\u001b[0m\u001b[37m\u001b[0m \u001b[1m17s\u001b[0m 143ms/step - accuracy: 0.1907 - loss: 0.8827\n",
      "Epoch 38/100\n",
      "\u001b[1m117/117\u001b[0m \u001b[32m━━━━━━━━━━━━━━━━━━━━\u001b[0m\u001b[37m\u001b[0m \u001b[1m17s\u001b[0m 142ms/step - accuracy: 0.1915 - loss: 0.8637\n",
      "Epoch 39/100\n",
      "\u001b[1m117/117\u001b[0m \u001b[32m━━━━━━━━━━━━━━━━━━━━\u001b[0m\u001b[37m\u001b[0m \u001b[1m16s\u001b[0m 138ms/step - accuracy: 0.1904 - loss: 0.8405\n",
      "Epoch 40/100\n",
      "\u001b[1m117/117\u001b[0m \u001b[32m━━━━━━━━━━━━━━━━━━━━\u001b[0m\u001b[37m\u001b[0m \u001b[1m17s\u001b[0m 144ms/step - accuracy: 0.1911 - loss: 0.8252\n",
      "Epoch 41/100\n",
      "\u001b[1m117/117\u001b[0m \u001b[32m━━━━━━━━━━━━━━━━━━━━\u001b[0m\u001b[37m\u001b[0m \u001b[1m16s\u001b[0m 140ms/step - accuracy: 0.1932 - loss: 0.7800\n",
      "Epoch 42/100\n",
      "\u001b[1m117/117\u001b[0m \u001b[32m━━━━━━━━━━━━━━━━━━━━\u001b[0m\u001b[37m\u001b[0m \u001b[1m16s\u001b[0m 137ms/step - accuracy: 0.1930 - loss: 0.7923\n",
      "Epoch 43/100\n",
      "\u001b[1m117/117\u001b[0m \u001b[32m━━━━━━━━━━━━━━━━━━━━\u001b[0m\u001b[37m\u001b[0m \u001b[1m16s\u001b[0m 137ms/step - accuracy: 0.1936 - loss: 0.7531\n",
      "Epoch 44/100\n",
      "\u001b[1m117/117\u001b[0m \u001b[32m━━━━━━━━━━━━━━━━━━━━\u001b[0m\u001b[37m\u001b[0m \u001b[1m17s\u001b[0m 144ms/step - accuracy: 0.1947 - loss: 0.7456\n",
      "Epoch 45/100\n",
      "\u001b[1m117/117\u001b[0m \u001b[32m━━━━━━━━━━━━━━━━━━━━\u001b[0m\u001b[37m\u001b[0m \u001b[1m19s\u001b[0m 159ms/step - accuracy: 0.1969 - loss: 0.7257\n",
      "Epoch 46/100\n",
      "\u001b[1m117/117\u001b[0m \u001b[32m━━━━━━━━━━━━━━━━━━━━\u001b[0m\u001b[37m\u001b[0m \u001b[1m24s\u001b[0m 201ms/step - accuracy: 0.1959 - loss: 0.7058\n",
      "Epoch 47/100\n",
      "\u001b[1m117/117\u001b[0m \u001b[32m━━━━━━━━━━━━━━━━━━━━\u001b[0m\u001b[37m\u001b[0m \u001b[1m21s\u001b[0m 178ms/step - accuracy: 0.1971 - loss: 0.7004\n",
      "Epoch 48/100\n",
      "\u001b[1m117/117\u001b[0m \u001b[32m━━━━━━━━━━━━━━━━━━━━\u001b[0m\u001b[37m\u001b[0m \u001b[1m22s\u001b[0m 192ms/step - accuracy: 0.1966 - loss: 0.6870\n",
      "Epoch 49/100\n",
      "\u001b[1m117/117\u001b[0m \u001b[32m━━━━━━━━━━━━━━━━━━━━\u001b[0m\u001b[37m\u001b[0m \u001b[1m25s\u001b[0m 211ms/step - accuracy: 0.1982 - loss: 0.6515\n",
      "Epoch 50/100\n",
      "\u001b[1m117/117\u001b[0m \u001b[32m━━━━━━━━━━━━━━━━━━━━\u001b[0m\u001b[37m\u001b[0m \u001b[1m23s\u001b[0m 197ms/step - accuracy: 0.1968 - loss: 0.6677\n",
      "Epoch 51/100\n",
      "\u001b[1m117/117\u001b[0m \u001b[32m━━━━━━━━━━━━━━━━━━━━\u001b[0m\u001b[37m\u001b[0m \u001b[1m22s\u001b[0m 186ms/step - accuracy: 0.1972 - loss: 0.6284\n",
      "Epoch 52/100\n",
      "\u001b[1m117/117\u001b[0m \u001b[32m━━━━━━━━━━━━━━━━━━━━\u001b[0m\u001b[37m\u001b[0m \u001b[1m38s\u001b[0m 156ms/step - accuracy: 0.1973 - loss: 0.6303\n",
      "Epoch 53/100\n",
      "\u001b[1m117/117\u001b[0m \u001b[32m━━━━━━━━━━━━━━━━━━━━\u001b[0m\u001b[37m\u001b[0m \u001b[1m19s\u001b[0m 164ms/step - accuracy: 0.1994 - loss: 0.6232\n",
      "Epoch 54/100\n",
      "\u001b[1m117/117\u001b[0m \u001b[32m━━━━━━━━━━━━━━━━━━━━\u001b[0m\u001b[37m\u001b[0m \u001b[1m23s\u001b[0m 192ms/step - accuracy: 0.1996 - loss: 0.6204\n",
      "Epoch 55/100\n",
      "\u001b[1m117/117\u001b[0m \u001b[32m━━━━━━━━━━━━━━━━━━━━\u001b[0m\u001b[37m\u001b[0m \u001b[1m24s\u001b[0m 207ms/step - accuracy: 0.1988 - loss: 0.6114\n",
      "Epoch 56/100\n",
      "\u001b[1m117/117\u001b[0m \u001b[32m━━━━━━━━━━━━━━━━━━━━\u001b[0m\u001b[37m\u001b[0m \u001b[1m19s\u001b[0m 165ms/step - accuracy: 0.1989 - loss: 0.5944\n",
      "Epoch 57/100\n",
      "\u001b[1m117/117\u001b[0m \u001b[32m━━━━━━━━━━━━━━━━━━━━\u001b[0m\u001b[37m\u001b[0m \u001b[1m19s\u001b[0m 166ms/step - accuracy: 0.2006 - loss: 0.5598\n",
      "Epoch 58/100\n",
      "\u001b[1m117/117\u001b[0m \u001b[32m━━━━━━━━━━━━━━━━━━━━\u001b[0m\u001b[37m\u001b[0m \u001b[1m20s\u001b[0m 168ms/step - accuracy: 0.1980 - loss: 0.5722\n",
      "Epoch 59/100\n",
      "\u001b[1m117/117\u001b[0m \u001b[32m━━━━━━━━━━━━━━━━━━━━\u001b[0m\u001b[37m\u001b[0m \u001b[1m19s\u001b[0m 164ms/step - accuracy: 0.2006 - loss: 0.5719\n",
      "Epoch 60/100\n",
      "\u001b[1m117/117\u001b[0m \u001b[32m━━━━━━━━━━━━━━━━━━━━\u001b[0m\u001b[37m\u001b[0m \u001b[1m19s\u001b[0m 165ms/step - accuracy: 0.2014 - loss: 0.5553\n",
      "Epoch 61/100\n",
      "\u001b[1m117/117\u001b[0m \u001b[32m━━━━━━━━━━━━━━━━━━━━\u001b[0m\u001b[37m\u001b[0m \u001b[1m22s\u001b[0m 184ms/step - accuracy: 0.2006 - loss: 0.5486\n",
      "Epoch 62/100\n",
      "\u001b[1m117/117\u001b[0m \u001b[32m━━━━━━━━━━━━━━━━━━━━\u001b[0m\u001b[37m\u001b[0m \u001b[1m21s\u001b[0m 175ms/step - accuracy: 0.2023 - loss: 0.5380\n",
      "Epoch 63/100\n",
      "\u001b[1m117/117\u001b[0m \u001b[32m━━━━━━━━━━━━━━━━━━━━\u001b[0m\u001b[37m\u001b[0m \u001b[1m22s\u001b[0m 190ms/step - accuracy: 0.2008 - loss: 0.5228\n",
      "Epoch 64/100\n",
      "\u001b[1m117/117\u001b[0m \u001b[32m━━━━━━━━━━━━━━━━━━━━\u001b[0m\u001b[37m\u001b[0m \u001b[1m32s\u001b[0m 270ms/step - accuracy: 0.2014 - loss: 0.5132\n",
      "Epoch 65/100\n",
      "\u001b[1m117/117\u001b[0m \u001b[32m━━━━━━━━━━━━━━━━━━━━\u001b[0m\u001b[37m\u001b[0m \u001b[1m27s\u001b[0m 234ms/step - accuracy: 0.2039 - loss: 0.4975\n",
      "Epoch 66/100\n",
      "\u001b[1m117/117\u001b[0m \u001b[32m━━━━━━━━━━━━━━━━━━━━\u001b[0m\u001b[37m\u001b[0m \u001b[1m24s\u001b[0m 206ms/step - accuracy: 0.2039 - loss: 0.4892\n",
      "Epoch 67/100\n",
      "\u001b[1m117/117\u001b[0m \u001b[32m━━━━━━━━━━━━━━━━━━━━\u001b[0m\u001b[37m\u001b[0m \u001b[1m26s\u001b[0m 222ms/step - accuracy: 0.2031 - loss: 0.4850\n",
      "Epoch 68/100\n",
      "\u001b[1m117/117\u001b[0m \u001b[32m━━━━━━━━━━━━━━━━━━━━\u001b[0m\u001b[37m\u001b[0m \u001b[1m24s\u001b[0m 207ms/step - accuracy: 0.2032 - loss: 0.4906\n",
      "Epoch 69/100\n",
      "\u001b[1m117/117\u001b[0m \u001b[32m━━━━━━━━━━━━━━━━━━━━\u001b[0m\u001b[37m\u001b[0m \u001b[1m24s\u001b[0m 205ms/step - accuracy: 0.2058 - loss: 0.4772\n",
      "Epoch 70/100\n",
      "\u001b[1m117/117\u001b[0m \u001b[32m━━━━━━━━━━━━━━━━━━━━\u001b[0m\u001b[37m\u001b[0m \u001b[1m24s\u001b[0m 207ms/step - accuracy: 0.2055 - loss: 0.4662\n",
      "Epoch 71/100\n",
      "\u001b[1m117/117\u001b[0m \u001b[32m━━━━━━━━━━━━━━━━━━━━\u001b[0m\u001b[37m\u001b[0m \u001b[1m44s\u001b[0m 232ms/step - accuracy: 0.2034 - loss: 0.4526\n",
      "Epoch 72/100\n",
      "\u001b[1m117/117\u001b[0m \u001b[32m━━━━━━━━━━━━━━━━━━━━\u001b[0m\u001b[37m\u001b[0m \u001b[1m23s\u001b[0m 198ms/step - accuracy: 0.2047 - loss: 0.4448\n",
      "Epoch 73/100\n",
      "\u001b[1m117/117\u001b[0m \u001b[32m━━━━━━━━━━━━━━━━━━━━\u001b[0m\u001b[37m\u001b[0m \u001b[1m22s\u001b[0m 190ms/step - accuracy: 0.2047 - loss: 0.4408\n",
      "Epoch 74/100\n",
      "\u001b[1m117/117\u001b[0m \u001b[32m━━━━━━━━━━━━━━━━━━━━\u001b[0m\u001b[37m\u001b[0m \u001b[1m42s\u001b[0m 198ms/step - accuracy: 0.2062 - loss: 0.4215\n",
      "Epoch 75/100\n",
      "\u001b[1m117/117\u001b[0m \u001b[32m━━━━━━━━━━━━━━━━━━━━\u001b[0m\u001b[37m\u001b[0m \u001b[1m23s\u001b[0m 196ms/step - accuracy: 0.2051 - loss: 0.4342\n",
      "Epoch 76/100\n",
      "\u001b[1m117/117\u001b[0m \u001b[32m━━━━━━━━━━━━━━━━━━━━\u001b[0m\u001b[37m\u001b[0m \u001b[1m23s\u001b[0m 199ms/step - accuracy: 0.2076 - loss: 0.4147\n",
      "Epoch 77/100\n",
      "\u001b[1m117/117\u001b[0m \u001b[32m━━━━━━━━━━━━━━━━━━━━\u001b[0m\u001b[37m\u001b[0m \u001b[1m23s\u001b[0m 199ms/step - accuracy: 0.2052 - loss: 0.4285\n",
      "Epoch 78/100\n",
      "\u001b[1m117/117\u001b[0m \u001b[32m━━━━━━━━━━━━━━━━━━━━\u001b[0m\u001b[37m\u001b[0m \u001b[1m22s\u001b[0m 192ms/step - accuracy: 0.2067 - loss: 0.4137\n",
      "Epoch 79/100\n",
      "\u001b[1m117/117\u001b[0m \u001b[32m━━━━━━━━━━━━━━━━━━━━\u001b[0m\u001b[37m\u001b[0m \u001b[1m23s\u001b[0m 198ms/step - accuracy: 0.2083 - loss: 0.4030\n",
      "Epoch 80/100\n",
      "\u001b[1m117/117\u001b[0m \u001b[32m━━━━━━━━━━━━━━━━━━━━\u001b[0m\u001b[37m\u001b[0m \u001b[1m24s\u001b[0m 201ms/step - accuracy: 0.2060 - loss: 0.3879\n",
      "Epoch 81/100\n",
      "\u001b[1m117/117\u001b[0m \u001b[32m━━━━━━━━━━━━━━━━━━━━\u001b[0m\u001b[37m\u001b[0m \u001b[1m22s\u001b[0m 191ms/step - accuracy: 0.2057 - loss: 0.3779\n",
      "Epoch 82/100\n",
      "\u001b[1m117/117\u001b[0m \u001b[32m━━━━━━━━━━━━━━━━━━━━\u001b[0m\u001b[37m\u001b[0m \u001b[1m22s\u001b[0m 183ms/step - accuracy: 0.2060 - loss: 0.3800\n",
      "Epoch 83/100\n",
      "\u001b[1m117/117\u001b[0m \u001b[32m━━━━━━━━━━━━━━━━━━━━\u001b[0m\u001b[37m\u001b[0m \u001b[1m22s\u001b[0m 190ms/step - accuracy: 0.2059 - loss: 0.3725\n",
      "Epoch 84/100\n",
      "\u001b[1m117/117\u001b[0m \u001b[32m━━━━━━━━━━━━━━━━━━━━\u001b[0m\u001b[37m\u001b[0m \u001b[1m21s\u001b[0m 183ms/step - accuracy: 0.2089 - loss: 0.3685\n",
      "Epoch 85/100\n",
      "\u001b[1m117/117\u001b[0m \u001b[32m━━━━━━━━━━━━━━━━━━━━\u001b[0m\u001b[37m\u001b[0m \u001b[1m22s\u001b[0m 190ms/step - accuracy: 0.2091 - loss: 0.3618\n",
      "Epoch 86/100\n",
      "\u001b[1m117/117\u001b[0m \u001b[32m━━━━━━━━━━━━━━━━━━━━\u001b[0m\u001b[37m\u001b[0m \u001b[1m22s\u001b[0m 184ms/step - accuracy: 0.2074 - loss: 0.3638\n",
      "Epoch 87/100\n",
      "\u001b[1m117/117\u001b[0m \u001b[32m━━━━━━━━━━━━━━━━━━━━\u001b[0m\u001b[37m\u001b[0m \u001b[1m21s\u001b[0m 182ms/step - accuracy: 0.2074 - loss: 0.3540\n",
      "Epoch 88/100\n",
      "\u001b[1m117/117\u001b[0m \u001b[32m━━━━━━━━━━━━━━━━━━━━\u001b[0m\u001b[37m\u001b[0m \u001b[1m23s\u001b[0m 198ms/step - accuracy: 0.2083 - loss: 0.3419\n",
      "Epoch 89/100\n",
      "\u001b[1m117/117\u001b[0m \u001b[32m━━━━━━━━━━━━━━━━━━━━\u001b[0m\u001b[37m\u001b[0m \u001b[1m24s\u001b[0m 203ms/step - accuracy: 0.2084 - loss: 0.3354\n",
      "Epoch 90/100\n",
      "\u001b[1m117/117\u001b[0m \u001b[32m━━━━━━━━━━━━━━━━━━━━\u001b[0m\u001b[37m\u001b[0m \u001b[1m25s\u001b[0m 213ms/step - accuracy: 0.2096 - loss: 0.3312\n",
      "Epoch 91/100\n",
      "\u001b[1m117/117\u001b[0m \u001b[32m━━━━━━━━━━━━━━━━━━━━\u001b[0m\u001b[37m\u001b[0m \u001b[1m24s\u001b[0m 205ms/step - accuracy: 0.2099 - loss: 0.3272\n",
      "Epoch 92/100\n",
      "\u001b[1m117/117\u001b[0m \u001b[32m━━━━━━━━━━━━━━━━━━━━\u001b[0m\u001b[37m\u001b[0m \u001b[1m25s\u001b[0m 210ms/step - accuracy: 0.2099 - loss: 0.3252\n",
      "Epoch 93/100\n",
      "\u001b[1m117/117\u001b[0m \u001b[32m━━━━━━━━━━━━━━━━━━━━\u001b[0m\u001b[37m\u001b[0m \u001b[1m25s\u001b[0m 215ms/step - accuracy: 0.2088 - loss: 0.3175\n",
      "Epoch 94/100\n",
      "\u001b[1m117/117\u001b[0m \u001b[32m━━━━━━━━━━━━━━━━━━━━\u001b[0m\u001b[37m\u001b[0m \u001b[1m24s\u001b[0m 208ms/step - accuracy: 0.2089 - loss: 0.3260\n",
      "Epoch 95/100\n",
      "\u001b[1m117/117\u001b[0m \u001b[32m━━━━━━━━━━━━━━━━━━━━\u001b[0m\u001b[37m\u001b[0m \u001b[1m26s\u001b[0m 220ms/step - accuracy: 0.2103 - loss: 0.3098\n",
      "Epoch 96/100\n",
      "\u001b[1m117/117\u001b[0m \u001b[32m━━━━━━━━━━━━━━━━━━━━\u001b[0m\u001b[37m\u001b[0m \u001b[1m24s\u001b[0m 205ms/step - accuracy: 0.2089 - loss: 0.3110\n",
      "Epoch 97/100\n",
      "\u001b[1m117/117\u001b[0m \u001b[32m━━━━━━━━━━━━━━━━━━━━\u001b[0m\u001b[37m\u001b[0m \u001b[1m24s\u001b[0m 203ms/step - accuracy: 0.2101 - loss: 0.3076\n",
      "Epoch 98/100\n",
      "\u001b[1m117/117\u001b[0m \u001b[32m━━━━━━━━━━━━━━━━━━━━\u001b[0m\u001b[37m\u001b[0m \u001b[1m26s\u001b[0m 219ms/step - accuracy: 0.2119 - loss: 0.2888\n",
      "Epoch 99/100\n",
      "\u001b[1m117/117\u001b[0m \u001b[32m━━━━━━━━━━━━━━━━━━━━\u001b[0m\u001b[37m\u001b[0m \u001b[1m27s\u001b[0m 229ms/step - accuracy: 0.2108 - loss: 0.2911\n",
      "Epoch 100/100\n",
      "\u001b[1m117/117\u001b[0m \u001b[32m━━━━━━━━━━━━━━━━━━━━\u001b[0m\u001b[37m\u001b[0m \u001b[1m23s\u001b[0m 200ms/step - accuracy: 0.2107 - loss: 0.2896\n"
     ]
    }
   ],
   "source": [
    "history = modelo.fit([encoder_input_data, decoder_input_data], decoder_output_data, batch_size=32, epochs=100)"
   ]
  },
  {
   "cell_type": "code",
   "execution_count": null,
   "id": "43bb187b-5ef0-47ea-a280-c77a75897b5c",
   "metadata": {},
   "outputs": [],
   "source": [
    "## Modelo da Conversa"
   ]
  },
  {
   "cell_type": "code",
   "execution_count": 112,
   "id": "70f180ca-61fb-4214-a8bd-a6c5895753c0",
   "metadata": {},
   "outputs": [
    {
     "data": {
      "text/html": [
       "<pre style=\"white-space:pre;overflow-x:auto;line-height:normal;font-family:Menlo,'DejaVu Sans Mono',consolas,'Courier New',monospace\"><span style=\"font-weight: bold\">Model: \"functional_5\"</span>\n",
       "</pre>\n"
      ],
      "text/plain": [
       "\u001b[1mModel: \"functional_5\"\u001b[0m\n"
      ]
     },
     "metadata": {},
     "output_type": "display_data"
    },
    {
     "data": {
      "text/html": [
       "<pre style=\"white-space:pre;overflow-x:auto;line-height:normal;font-family:Menlo,'DejaVu Sans Mono',consolas,'Courier New',monospace\">┏━━━━━━━━━━━━━━━━━━━━━━━━━━━━━━━┳━━━━━━━━━━━━━━━━━━━━━━━━━━━┳━━━━━━━━━━━━━━━━━┳━━━━━━━━━━━━━━━━━━━━━━━━━━━━┓\n",
       "┃<span style=\"font-weight: bold\"> Layer (type)                  </span>┃<span style=\"font-weight: bold\"> Output Shape              </span>┃<span style=\"font-weight: bold\">         Param # </span>┃<span style=\"font-weight: bold\"> Connected to               </span>┃\n",
       "┡━━━━━━━━━━━━━━━━━━━━━━━━━━━━━━━╇━━━━━━━━━━━━━━━━━━━━━━━━━━━╇━━━━━━━━━━━━━━━━━╇━━━━━━━━━━━━━━━━━━━━━━━━━━━━┩\n",
       "│ input_layer_11 (<span style=\"color: #0087ff; text-decoration-color: #0087ff\">InputLayer</span>)   │ (<span style=\"color: #00d7ff; text-decoration-color: #00d7ff\">None</span>, <span style=\"color: #00af00; text-decoration-color: #00af00\">37</span>)                │               <span style=\"color: #00af00; text-decoration-color: #00af00\">0</span> │ -                          │\n",
       "├───────────────────────────────┼───────────────────────────┼─────────────────┼────────────────────────────┤\n",
       "│ embedding_11 (<span style=\"color: #0087ff; text-decoration-color: #0087ff\">Embedding</span>)      │ (<span style=\"color: #00d7ff; text-decoration-color: #00d7ff\">None</span>, <span style=\"color: #00af00; text-decoration-color: #00af00\">37</span>, <span style=\"color: #00af00; text-decoration-color: #00af00\">150</span>)           │         <span style=\"color: #00af00; text-decoration-color: #00af00\">392,100</span> │ input_layer_11[<span style=\"color: #00af00; text-decoration-color: #00af00\">0</span>][<span style=\"color: #00af00; text-decoration-color: #00af00\">0</span>]       │\n",
       "├───────────────────────────────┼───────────────────────────┼─────────────────┼────────────────────────────┤\n",
       "│ input_layer_12 (<span style=\"color: #0087ff; text-decoration-color: #0087ff\">InputLayer</span>)   │ (<span style=\"color: #00d7ff; text-decoration-color: #00d7ff\">None</span>, <span style=\"color: #00af00; text-decoration-color: #00af00\">150</span>)               │               <span style=\"color: #00af00; text-decoration-color: #00af00\">0</span> │ -                          │\n",
       "├───────────────────────────────┼───────────────────────────┼─────────────────┼────────────────────────────┤\n",
       "│ input_layer_13 (<span style=\"color: #0087ff; text-decoration-color: #0087ff\">InputLayer</span>)   │ (<span style=\"color: #00d7ff; text-decoration-color: #00d7ff\">None</span>, <span style=\"color: #00af00; text-decoration-color: #00af00\">150</span>)               │               <span style=\"color: #00af00; text-decoration-color: #00af00\">0</span> │ -                          │\n",
       "├───────────────────────────────┼───────────────────────────┼─────────────────┼────────────────────────────┤\n",
       "│ lstm_11 (<span style=\"color: #0087ff; text-decoration-color: #0087ff\">LSTM</span>)                │ [(<span style=\"color: #00d7ff; text-decoration-color: #00d7ff\">None</span>, <span style=\"color: #00af00; text-decoration-color: #00af00\">37</span>, <span style=\"color: #00af00; text-decoration-color: #00af00\">150</span>), (<span style=\"color: #00d7ff; text-decoration-color: #00d7ff\">None</span>,  │         <span style=\"color: #00af00; text-decoration-color: #00af00\">180,600</span> │ embedding_11[<span style=\"color: #00af00; text-decoration-color: #00af00\">0</span>][<span style=\"color: #00af00; text-decoration-color: #00af00\">0</span>],        │\n",
       "│                               │ <span style=\"color: #00af00; text-decoration-color: #00af00\">150</span>), (<span style=\"color: #00d7ff; text-decoration-color: #00d7ff\">None</span>, <span style=\"color: #00af00; text-decoration-color: #00af00\">150</span>)]        │                 │ input_layer_12[<span style=\"color: #00af00; text-decoration-color: #00af00\">0</span>][<span style=\"color: #00af00; text-decoration-color: #00af00\">0</span>],      │\n",
       "│                               │                           │                 │ input_layer_13[<span style=\"color: #00af00; text-decoration-color: #00af00\">0</span>][<span style=\"color: #00af00; text-decoration-color: #00af00\">0</span>]       │\n",
       "├───────────────────────────────┼───────────────────────────┼─────────────────┼────────────────────────────┤\n",
       "│ dense_4 (<span style=\"color: #0087ff; text-decoration-color: #0087ff\">Dense</span>)               │ (<span style=\"color: #00d7ff; text-decoration-color: #00d7ff\">None</span>, <span style=\"color: #00af00; text-decoration-color: #00af00\">37</span>, <span style=\"color: #00af00; text-decoration-color: #00af00\">2614</span>)          │         <span style=\"color: #00af00; text-decoration-color: #00af00\">394,714</span> │ lstm_11[<span style=\"color: #00af00; text-decoration-color: #00af00\">1</span>][<span style=\"color: #00af00; text-decoration-color: #00af00\">0</span>]              │\n",
       "└───────────────────────────────┴───────────────────────────┴─────────────────┴────────────────────────────┘\n",
       "</pre>\n"
      ],
      "text/plain": [
       "┏━━━━━━━━━━━━━━━━━━━━━━━━━━━━━━━┳━━━━━━━━━━━━━━━━━━━━━━━━━━━┳━━━━━━━━━━━━━━━━━┳━━━━━━━━━━━━━━━━━━━━━━━━━━━━┓\n",
       "┃\u001b[1m \u001b[0m\u001b[1mLayer (type)                 \u001b[0m\u001b[1m \u001b[0m┃\u001b[1m \u001b[0m\u001b[1mOutput Shape             \u001b[0m\u001b[1m \u001b[0m┃\u001b[1m \u001b[0m\u001b[1m        Param #\u001b[0m\u001b[1m \u001b[0m┃\u001b[1m \u001b[0m\u001b[1mConnected to              \u001b[0m\u001b[1m \u001b[0m┃\n",
       "┡━━━━━━━━━━━━━━━━━━━━━━━━━━━━━━━╇━━━━━━━━━━━━━━━━━━━━━━━━━━━╇━━━━━━━━━━━━━━━━━╇━━━━━━━━━━━━━━━━━━━━━━━━━━━━┩\n",
       "│ input_layer_11 (\u001b[38;5;33mInputLayer\u001b[0m)   │ (\u001b[38;5;45mNone\u001b[0m, \u001b[38;5;34m37\u001b[0m)                │               \u001b[38;5;34m0\u001b[0m │ -                          │\n",
       "├───────────────────────────────┼───────────────────────────┼─────────────────┼────────────────────────────┤\n",
       "│ embedding_11 (\u001b[38;5;33mEmbedding\u001b[0m)      │ (\u001b[38;5;45mNone\u001b[0m, \u001b[38;5;34m37\u001b[0m, \u001b[38;5;34m150\u001b[0m)           │         \u001b[38;5;34m392,100\u001b[0m │ input_layer_11[\u001b[38;5;34m0\u001b[0m][\u001b[38;5;34m0\u001b[0m]       │\n",
       "├───────────────────────────────┼───────────────────────────┼─────────────────┼────────────────────────────┤\n",
       "│ input_layer_12 (\u001b[38;5;33mInputLayer\u001b[0m)   │ (\u001b[38;5;45mNone\u001b[0m, \u001b[38;5;34m150\u001b[0m)               │               \u001b[38;5;34m0\u001b[0m │ -                          │\n",
       "├───────────────────────────────┼───────────────────────────┼─────────────────┼────────────────────────────┤\n",
       "│ input_layer_13 (\u001b[38;5;33mInputLayer\u001b[0m)   │ (\u001b[38;5;45mNone\u001b[0m, \u001b[38;5;34m150\u001b[0m)               │               \u001b[38;5;34m0\u001b[0m │ -                          │\n",
       "├───────────────────────────────┼───────────────────────────┼─────────────────┼────────────────────────────┤\n",
       "│ lstm_11 (\u001b[38;5;33mLSTM\u001b[0m)                │ [(\u001b[38;5;45mNone\u001b[0m, \u001b[38;5;34m37\u001b[0m, \u001b[38;5;34m150\u001b[0m), (\u001b[38;5;45mNone\u001b[0m,  │         \u001b[38;5;34m180,600\u001b[0m │ embedding_11[\u001b[38;5;34m0\u001b[0m][\u001b[38;5;34m0\u001b[0m],        │\n",
       "│                               │ \u001b[38;5;34m150\u001b[0m), (\u001b[38;5;45mNone\u001b[0m, \u001b[38;5;34m150\u001b[0m)]        │                 │ input_layer_12[\u001b[38;5;34m0\u001b[0m][\u001b[38;5;34m0\u001b[0m],      │\n",
       "│                               │                           │                 │ input_layer_13[\u001b[38;5;34m0\u001b[0m][\u001b[38;5;34m0\u001b[0m]       │\n",
       "├───────────────────────────────┼───────────────────────────┼─────────────────┼────────────────────────────┤\n",
       "│ dense_4 (\u001b[38;5;33mDense\u001b[0m)               │ (\u001b[38;5;45mNone\u001b[0m, \u001b[38;5;34m37\u001b[0m, \u001b[38;5;34m2614\u001b[0m)          │         \u001b[38;5;34m394,714\u001b[0m │ lstm_11[\u001b[38;5;34m1\u001b[0m][\u001b[38;5;34m0\u001b[0m]              │\n",
       "└───────────────────────────────┴───────────────────────────┴─────────────────┴────────────────────────────┘\n"
      ]
     },
     "metadata": {},
     "output_type": "display_data"
    },
    {
     "data": {
      "text/html": [
       "<pre style=\"white-space:pre;overflow-x:auto;line-height:normal;font-family:Menlo,'DejaVu Sans Mono',consolas,'Courier New',monospace\"><span style=\"font-weight: bold\"> Total params: </span><span style=\"color: #00af00; text-decoration-color: #00af00\">967,414</span> (3.69 MB)\n",
       "</pre>\n"
      ],
      "text/plain": [
       "\u001b[1m Total params: \u001b[0m\u001b[38;5;34m967,414\u001b[0m (3.69 MB)\n"
      ]
     },
     "metadata": {},
     "output_type": "display_data"
    },
    {
     "data": {
      "text/html": [
       "<pre style=\"white-space:pre;overflow-x:auto;line-height:normal;font-family:Menlo,'DejaVu Sans Mono',consolas,'Courier New',monospace\"><span style=\"font-weight: bold\"> Trainable params: </span><span style=\"color: #00af00; text-decoration-color: #00af00\">967,414</span> (3.69 MB)\n",
       "</pre>\n"
      ],
      "text/plain": [
       "\u001b[1m Trainable params: \u001b[0m\u001b[38;5;34m967,414\u001b[0m (3.69 MB)\n"
      ]
     },
     "metadata": {},
     "output_type": "display_data"
    },
    {
     "data": {
      "text/html": [
       "<pre style=\"white-space:pre;overflow-x:auto;line-height:normal;font-family:Menlo,'DejaVu Sans Mono',consolas,'Courier New',monospace\"><span style=\"font-weight: bold\"> Non-trainable params: </span><span style=\"color: #00af00; text-decoration-color: #00af00\">0</span> (0.00 B)\n",
       "</pre>\n"
      ],
      "text/plain": [
       "\u001b[1m Non-trainable params: \u001b[0m\u001b[38;5;34m0\u001b[0m (0.00 B)\n"
      ]
     },
     "metadata": {},
     "output_type": "display_data"
    }
   ],
   "source": [
    "encoder_model = Model( encoder_input, encoder_states )\n",
    "decoder_state_input_h = Input( shape=(150, ) )\n",
    "decoder_state_input_c = Input( shape=(150, ) )\n",
    "decoder_state_inputs = [decoder_state_input_h, decoder_state_input_c]\n",
    "\n",
    "decoder_outputs, state_h, state_c = decoder_lstm(decoder_embedding, initial_state=decoder_state_inputs)\n",
    "decoder_states = [state_h, state_c]\n",
    "decoder_outputs = decoder_dense( decoder_outputs )\n",
    "\n",
    "decoder_model = Model([decoder_input] + decoder_state_inputs, [decoder_outputs] + decoder_states)\n",
    "decoder_model.summary()\n"
   ]
  },
  {
   "cell_type": "code",
   "execution_count": 113,
   "id": "a5f512ae-69da-4d97-9375-7d750e667978",
   "metadata": {},
   "outputs": [],
   "source": [
    "textos = [\"how old are you ?\"]"
   ]
  },
  {
   "cell_type": "code",
   "execution_count": 114,
   "id": "4d5a1986-8914-4050-a126-008eaa34db37",
   "metadata": {},
   "outputs": [],
   "source": [
    "textos_sequence = tokenizer.texts_to_sequences( textos )"
   ]
  },
  {
   "cell_type": "code",
   "execution_count": 173,
   "id": "38fbeb9d-101e-4ce4-8c89-fc175098fd46",
   "metadata": {},
   "outputs": [
    {
     "name": "stdout",
     "output_type": "stream",
     "text": [
      "Textos padded:  [[ 41 129  17   6   5   0   0   0   0   0   0   0   0   0   0   0   0   0\n",
      "    0   0   0   0   0   0   0   0   0   0   0   0   0   0   0   0   0   0\n",
      "    0]]\n"
     ]
    }
   ],
   "source": [
    "textos_padded = pad_sequences( textos_sequence, padding=\"post\", maxlen=maior_sequencia)\n",
    "print(\"Textos padded: \", textos_padded)"
   ]
  },
  {
   "cell_type": "code",
   "execution_count": 166,
   "id": "ea917084-2120-4a38-945c-3861eb498b7a",
   "metadata": {},
   "outputs": [
    {
     "name": "stdout",
     "output_type": "stream",
     "text": [
      "\u001b[1m1/1\u001b[0m \u001b[32m━━━━━━━━━━━━━━━━━━━━\u001b[0m\u001b[37m\u001b[0m \u001b[1m0s\u001b[0m 45ms/step\n"
     ]
    },
    {
     "data": {
      "text/plain": [
       "[array([[ 0.7849532 , -0.77993596,  0.8672302 ,  0.7723921 ,  0.5113992 ,\n",
       "          0.8420526 , -0.79338735, -0.11028779,  0.15819143,  0.74755865,\n",
       "         -0.80887014, -0.7023595 , -0.7978558 , -0.7730283 ,  0.88394374,\n",
       "         -0.7954734 , -0.76091594,  0.09402741,  0.07860922, -0.2980494 ,\n",
       "          0.77486414, -0.12477224, -0.76243615,  0.16120282, -0.13264218,\n",
       "         -0.20013037, -0.7767896 ,  0.78776175, -0.82587266,  0.7263624 ,\n",
       "         -0.7652562 ,  0.32067248,  0.8141385 , -0.61756337, -0.3109777 ,\n",
       "          0.82958746,  0.8184098 ,  0.8038691 , -0.2926454 ,  0.8490753 ,\n",
       "         -0.8458056 , -0.14114027, -0.6743366 , -0.190706  ,  0.18335436,\n",
       "         -0.42096162,  0.724474  , -0.82721424, -0.2448557 , -0.5828115 ,\n",
       "         -0.78700894, -0.7945573 ,  0.4396975 , -0.21725936, -0.10707984,\n",
       "          0.8606872 ,  0.3367273 , -0.19556235, -0.2107387 , -0.81171614,\n",
       "         -0.8081907 ,  0.81810504, -0.6649142 , -0.81113535, -0.7903413 ,\n",
       "          0.5719911 ,  0.28884146, -0.82683384, -0.7959043 , -0.07614567,\n",
       "          0.19583379, -0.7717102 , -0.5295059 ,  0.7397646 , -0.7859697 ,\n",
       "         -0.76172656,  0.08857344,  0.08706968,  0.6489737 ,  0.778957  ,\n",
       "          0.08685174, -0.838557  , -0.09403408, -0.7854771 , -0.75755006,\n",
       "         -0.77748615,  0.83778155,  0.8508942 ,  0.8527848 , -0.8320579 ,\n",
       "         -0.8029079 ,  0.6770006 , -0.76569206,  0.76766604, -0.2079968 ,\n",
       "          0.7614933 ,  0.6638044 , -0.5418951 , -0.7703886 , -0.7602205 ,\n",
       "         -0.09778558,  0.86317587,  0.09131014, -0.6713318 , -0.161739  ,\n",
       "         -0.7829526 ,  0.8445155 , -0.819101  ,  0.3779042 , -0.77154744,\n",
       "         -0.59023076, -0.7615699 ,  0.4378644 ,  0.77532566,  0.7458249 ,\n",
       "          0.08412827, -0.5897132 , -0.7868956 , -0.75971395,  0.7416204 ,\n",
       "         -0.7111009 ,  0.7914951 , -0.7970502 , -0.80833936,  0.71976733,\n",
       "         -0.73674375, -0.3435671 , -0.15627913, -0.73276633,  0.12421867,\n",
       "          0.78754556, -0.7428354 ,  0.15837696,  0.152723  , -0.11171278,\n",
       "         -0.7729485 , -0.78209007, -0.08248118,  0.8851101 , -0.520849  ,\n",
       "         -0.7999646 ,  0.18930164, -0.7392282 , -0.73801094,  0.7994628 ,\n",
       "         -0.07486131, -0.81367505,  0.07791378,  0.81031406, -0.80525887]],\n",
       "       dtype=float32),\n",
       " array([[ 1.5208538 , -1.4720267 ,  1.8248925 ,  1.4770076 ,  1.450345  ,\n",
       "          1.6486936 , -1.5702903 , -1.3469005 ,  1.2651999 ,  1.4376509 ,\n",
       "         -1.4475386 , -1.5316534 , -1.5565096 , -1.411696  ,  2.3061442 ,\n",
       "         -1.5016932 , -1.4127729 ,  1.3926165 ,  1.3927605 , -1.2820398 ,\n",
       "          1.5061907 , -1.1452233 , -1.4819894 ,  1.3194616 , -0.16348107,\n",
       "         -0.3427412 , -1.4712758 ,  1.4526477 , -1.5229944 ,  1.4536858 ,\n",
       "         -1.5179996 ,  1.2667685 ,  1.5931041 , -3.1699798 , -1.5069091 ,\n",
       "          1.6205847 ,  1.596499  ,  1.5292759 , -1.0890404 ,  1.5680888 ,\n",
       "         -1.7185299 , -1.3279774 , -1.8536301 , -1.0453801 ,  1.5714936 ,\n",
       "         -0.6029322 ,  1.5270646 , -1.5586914 , -1.5041199 , -1.4998531 ,\n",
       "         -1.4759647 , -1.5639216 ,  1.3323603 , -0.31070444, -1.4430624 ,\n",
       "          1.6634378 ,  0.95429635, -1.4581096 , -3.029257  , -1.5018301 ,\n",
       "         -1.5904012 ,  1.906909  , -1.5227551 , -1.5251598 , -1.6022046 ,\n",
       "          1.331891  ,  1.4002349 , -1.5018175 , -1.5709622 , -1.0611725 ,\n",
       "          1.7693214 , -1.4495642 , -1.3912659 ,  2.1072817 , -1.4704862 ,\n",
       "         -1.5236808 ,  1.3513927 ,  1.4816113 ,  1.5060647 ,  1.4487019 ,\n",
       "          1.5286896 , -1.5932813 , -1.3162369 , -1.5115362 , -1.564228  ,\n",
       "         -1.5453119 ,  1.4855151 ,  1.6669737 ,  1.6928802 , -1.5352031 ,\n",
       "         -1.5710856 ,  1.5045006 , -1.4913602 ,  1.5075214 , -1.4382322 ,\n",
       "          1.5401442 ,  1.5262023 , -1.5565056 , -1.4188764 , -1.6303537 ,\n",
       "         -1.3765475 ,  2.1400037 ,  1.29114   , -1.4176457 , -1.5112869 ,\n",
       "         -1.5306664 ,  2.9039092 , -1.6370971 ,  1.4634039 , -1.5708902 ,\n",
       "         -1.4845297 , -1.576391  ,  1.336349  ,  1.3209813 ,  2.871437  ,\n",
       "          1.3694677 , -1.522336  , -1.5194263 , -1.5347323 ,  1.5922861 ,\n",
       "         -1.4100251 ,  1.5401361 , -1.5565443 , -1.519832  ,  1.540663  ,\n",
       "         -1.4233596 , -1.4349061 , -1.4548875 , -1.4376523 ,  2.2079394 ,\n",
       "          1.5501096 , -1.563513  ,  1.3348182 ,  1.1902909 , -1.4017982 ,\n",
       "         -1.4657602 , -1.4896818 , -1.4021204 ,  1.7951913 , -1.4631333 ,\n",
       "         -1.4887755 ,  0.23784828, -1.397838  , -1.5527427 ,  1.5940877 ,\n",
       "         -1.0261246 , -1.5304419 ,  1.1228871 ,  1.4899569 , -1.5815341 ]],\n",
       "       dtype=float32)]"
      ]
     },
     "execution_count": 166,
     "metadata": {},
     "output_type": "execute_result"
    }
   ],
   "source": [
    "state_values = encoder_model.predict( textos_padded )\n",
    "state_values"
   ]
  },
  {
   "cell_type": "code",
   "execution_count": 172,
   "id": "4cb5f375-28e5-4eee-9b42-0cdb8d8b271e",
   "metadata": {},
   "outputs": [
    {
     "name": "stdout",
     "output_type": "stream",
     "text": [
      "Target Sequence:  [[2.]]\n",
      "\u001b[1m1/1\u001b[0m \u001b[32m━━━━━━━━━━━━━━━━━━━━\u001b[0m\u001b[37m\u001b[0m \u001b[1m0s\u001b[0m 43ms/step\n",
      "Dec Output:  [0.00028054 0.00026104 0.00025004 ... 0.00102669 0.00050422 0.00097924]\n"
     ]
    },
    {
     "data": {
      "text/plain": [
       "['showers']"
      ]
     },
     "execution_count": 172,
     "metadata": {},
     "output_type": "execute_result"
    }
   ],
   "source": [
    "target_sequence = np.zeros((1, 1))\n",
    "target_sequence[0, 0] = tokenizer.word_index[\"<START>\"]\n",
    "print(\"Target Sequence: \", target_sequence)\n",
    "dec_output, saida_state_h, saida_state_c = decoder_model.predict( [target_sequence] + state_values )\n",
    "state_values = [saida_state_h, saida_state_c]\n",
    "print(\"Dec Output: \", dec_output[0, 0])\n",
    "numero_palavra = np.argmax(dec_output[0, 0])\n",
    "palavra = tokenizer.sequences_to_texts( [[ numero_palavra ]] )\n",
    "palavra"
   ]
  },
  {
   "cell_type": "code",
   "execution_count": 135,
   "id": "fea20b23-b85e-4d6c-bb17-c92fe85ad4f9",
   "metadata": {},
   "outputs": [
    {
     "data": {
      "text/plain": [
       "899"
      ]
     },
     "execution_count": 135,
     "metadata": {},
     "output_type": "execute_result"
    }
   ],
   "source": [
    "np.argmax(dec_output[0, -1])"
   ]
  },
  {
   "cell_type": "code",
   "execution_count": 136,
   "id": "7c307816-96a5-4eb2-8c30-01a5321130aa",
   "metadata": {},
   "outputs": [
    {
     "data": {
      "text/plain": [
       "['spit']"
      ]
     },
     "execution_count": 136,
     "metadata": {},
     "output_type": "execute_result"
    }
   ],
   "source": [
    "numero_palavra = np.argmax(dec_output[0, 0])\n",
    "palavra = tokenizer.sequences_to_texts( [[ 899 ]] )\n",
    "palavra"
   ]
  },
  {
   "cell_type": "code",
   "execution_count": 131,
   "id": "918d9df1-cd65-40c3-9597-9f51e68baf12",
   "metadata": {},
   "outputs": [
    {
     "data": {
      "text/plain": [
       "array([[10461.]])"
      ]
     },
     "execution_count": 131,
     "metadata": {},
     "output_type": "execute_result"
    }
   ],
   "source": []
  },
  {
   "cell_type": "code",
   "execution_count": 186,
   "id": "9fe7a805-7033-48f7-ba30-7489b817b5c2",
   "metadata": {},
   "outputs": [],
   "source": [
    "def gerar_texto( texto_entrada ): \n",
    "    textos_sequence = tokenizer.texts_to_sequences( [texto_entrada] )\n",
    "    textos_padded = pad_sequences( textos_sequence, padding=\"post\", maxlen=maior_sequencia)\n",
    "    print(\"Textos padded: \", textos_padded)\n",
    "    state_values = encoder_model.predict( textos_padded )\n",
    "    palavra_start = tokenizer.word_index[\"<START>\"]\n",
    "    palavra_end = tokenizer.word_index[\"<END>\"]\n",
    "    index_palavra = palavra_start\n",
    "    texto_saida = \"\"\n",
    "    max_palavras = 10\n",
    "    for i in range(max_palavras):\n",
    "        target_sequence = np.zeros((1, 1))\n",
    "        target_sequence[0, 0] = index_palavra\n",
    "        print(\"Target Sequence: \", target_sequence)\n",
    "        dec_output, saida_state_h, saida_state_c = decoder_model.predict( [target_sequence] + state_values )\n",
    "        state_values = [saida_state_h, saida_state_c]\n",
    "        index_palavra = np.argmax(dec_output[0, 0])\n",
    "        print(\"Numero Palavra: \", index_palavra)\n",
    "        if index_palavra == palavra_end:\n",
    "            break\n",
    "        print(\"Palavra: \", palavra)\n",
    "        palavra_saida = tokenizer.sequences_to_texts([[ index_palavra ]])[0]\n",
    "        texto_saida = texto_saida + \" \" + palavra_saida\n",
    "    return texto_saida\n",
    "        \n",
    "\n",
    "    "
   ]
  },
  {
   "cell_type": "code",
   "execution_count": 187,
   "id": "f0a3ff14-80de-466d-b007-f699dbeff058",
   "metadata": {},
   "outputs": [
    {
     "name": "stdout",
     "output_type": "stream",
     "text": [
      "Textos padded:  [[ 41 129  17   6   5   0   0   0   0   0   0   0   0   0   0   0   0]]\n",
      "\u001b[1m1/1\u001b[0m \u001b[32m━━━━━━━━━━━━━━━━━━━━\u001b[0m\u001b[37m\u001b[0m \u001b[1m0s\u001b[0m 23ms/step\n",
      "Target Sequence:  [[2.]]\n",
      "\u001b[1m1/1\u001b[0m \u001b[32m━━━━━━━━━━━━━━━━━━━━\u001b[0m\u001b[37m\u001b[0m \u001b[1m0s\u001b[0m 18ms/step\n",
      "Numero Palavra:  1361\n",
      "Palavra:  ['showers']\n",
      "Target Sequence:  [[1361.]]\n",
      "\u001b[1m1/1\u001b[0m \u001b[32m━━━━━━━━━━━━━━━━━━━━\u001b[0m\u001b[37m\u001b[0m \u001b[1m0s\u001b[0m 27ms/step\n",
      "Numero Palavra:  1361\n",
      "Palavra:  ['showers']\n",
      "Target Sequence:  [[1361.]]\n",
      "\u001b[1m1/1\u001b[0m \u001b[32m━━━━━━━━━━━━━━━━━━━━\u001b[0m\u001b[37m\u001b[0m \u001b[1m0s\u001b[0m 30ms/step\n",
      "Numero Palavra:  534\n",
      "Palavra:  ['showers']\n",
      "Target Sequence:  [[534.]]\n",
      "\u001b[1m1/1\u001b[0m \u001b[32m━━━━━━━━━━━━━━━━━━━━\u001b[0m\u001b[37m\u001b[0m \u001b[1m0s\u001b[0m 42ms/step\n",
      "Numero Palavra:  534\n",
      "Palavra:  ['showers']\n",
      "Target Sequence:  [[534.]]\n",
      "\u001b[1m1/1\u001b[0m \u001b[32m━━━━━━━━━━━━━━━━━━━━\u001b[0m\u001b[37m\u001b[0m \u001b[1m0s\u001b[0m 43ms/step\n",
      "Numero Palavra:  534\n",
      "Palavra:  ['showers']\n",
      "Target Sequence:  [[534.]]\n",
      "\u001b[1m1/1\u001b[0m \u001b[32m━━━━━━━━━━━━━━━━━━━━\u001b[0m\u001b[37m\u001b[0m \u001b[1m0s\u001b[0m 31ms/step\n",
      "Numero Palavra:  534\n",
      "Palavra:  ['showers']\n",
      "Target Sequence:  [[534.]]\n",
      "\u001b[1m1/1\u001b[0m \u001b[32m━━━━━━━━━━━━━━━━━━━━\u001b[0m\u001b[37m\u001b[0m \u001b[1m0s\u001b[0m 37ms/step\n",
      "Numero Palavra:  534\n",
      "Palavra:  ['showers']\n",
      "Target Sequence:  [[534.]]\n",
      "\u001b[1m1/1\u001b[0m \u001b[32m━━━━━━━━━━━━━━━━━━━━\u001b[0m\u001b[37m\u001b[0m \u001b[1m0s\u001b[0m 17ms/step\n",
      "Numero Palavra:  534\n",
      "Palavra:  ['showers']\n",
      "Target Sequence:  [[534.]]\n",
      "\u001b[1m1/1\u001b[0m \u001b[32m━━━━━━━━━━━━━━━━━━━━\u001b[0m\u001b[37m\u001b[0m \u001b[1m0s\u001b[0m 12ms/step\n",
      "Numero Palavra:  534\n",
      "Palavra:  ['showers']\n",
      "Target Sequence:  [[534.]]\n",
      "\u001b[1m1/1\u001b[0m \u001b[32m━━━━━━━━━━━━━━━━━━━━\u001b[0m\u001b[37m\u001b[0m \u001b[1m0s\u001b[0m 24ms/step\n",
      "Numero Palavra:  534\n",
      "Palavra:  ['showers']\n"
     ]
    },
    {
     "data": {
      "text/plain": [
       "' hopefully hopefully crime crime crime crime crime crime crime crime'"
      ]
     },
     "execution_count": 187,
     "metadata": {},
     "output_type": "execute_result"
    }
   ],
   "source": [
    "gerar_texto(\"how old are you ?\")"
   ]
  },
  {
   "cell_type": "code",
   "execution_count": null,
   "id": "b2ad803e-a9d8-432c-84e1-d1071005f776",
   "metadata": {},
   "outputs": [],
   "source": []
  }
 ],
 "metadata": {
  "kernelspec": {
   "display_name": "Python 3 (ipykernel)",
   "language": "python",
   "name": "python3"
  },
  "language_info": {
   "codemirror_mode": {
    "name": "ipython",
    "version": 3
   },
   "file_extension": ".py",
   "mimetype": "text/x-python",
   "name": "python",
   "nbconvert_exporter": "python",
   "pygments_lexer": "ipython3",
   "version": "3.12.4"
  }
 },
 "nbformat": 4,
 "nbformat_minor": 5
}
