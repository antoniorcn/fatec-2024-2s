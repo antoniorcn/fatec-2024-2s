{
 "cells": [
  {
   "cell_type": "code",
   "execution_count": null,
   "id": "8b25b3f0",
   "metadata": {
    "scrolled": true
   },
   "outputs": [],
   "source": [
    "!pip uninstall numpy"
   ]
  },
  {
   "cell_type": "code",
   "execution_count": null,
   "id": "824aa99a",
   "metadata": {},
   "outputs": [],
   "source": [
    "!pip install numpy=1.24"
   ]
  },
  {
   "cell_type": "code",
   "execution_count": null,
   "id": "56710738",
   "metadata": {},
   "outputs": [],
   "source": [
    "!pip install FuzzyTM=0.4.0"
   ]
  },
  {
   "cell_type": "code",
   "execution_count": null,
   "id": "6de10b97",
   "metadata": {},
   "outputs": [],
   "source": [
    "!pip install tensorflow"
   ]
  },
  {
   "cell_type": "code",
   "execution_count": null,
   "id": "8f27c3d7",
   "metadata": {},
   "outputs": [],
   "source": [
    "import numpy as np"
   ]
  },
  {
   "cell_type": "code",
   "execution_count": null,
   "id": "21c6c540",
   "metadata": {},
   "outputs": [],
   "source": [
    "import pandas as pd"
   ]
  },
  {
   "cell_type": "code",
   "execution_count": null,
   "id": "16544904",
   "metadata": {},
   "outputs": [],
   "source": [
    "import tensorflow as tf"
   ]
  },
  {
   "cell_type": "code",
   "execution_count": null,
   "id": "72cb5cb3",
   "metadata": {},
   "outputs": [],
   "source": [
    "from tensorflow.keras.optimizer import Adam\n",
    "from tensorflow.keras.model import Sequential\n",
    "from tensorflow.keras.layers import Input, Dense"
   ]
  },
  {
   "cell_type": "code",
   "execution_count": null,
   "id": "49e01ec0",
   "metadata": {},
   "outputs": [],
   "source": [
    "from sklearn.model_selection import train_test_split"
   ]
  },
  {
   "cell_type": "code",
   "execution_count": null,
   "id": "5ef6a9de",
   "metadata": {},
   "outputs": [],
   "source": [
    "df = pd.read_csv(\"./PETR4-SA.csv\")"
   ]
  },
  {
   "cell_type": "code",
   "execution_count": null,
   "id": "c6f27571",
   "metadata": {},
   "outputs": [],
   "source": [
    "X = df[[\"Open\", \"High\", \"Low\"]]"
   ]
  },
  {
   "cell_type": "code",
   "execution_count": null,
   "id": "758c9ea2",
   "metadata": {},
   "outputs": [],
   "source": [
    "Y = df[\"Close\"]"
   ]
  },
  {
   "cell_type": "code",
   "execution_count": null,
   "id": "8acb63b4",
   "metadata": {},
   "outputs": [],
   "source": [
    "model = Sequential()\n",
    "model.add( Input( (3, ) ) )\n",
    "model.add( Dense( 32, activation=\"relu\") )\n",
    "model.add( Dense( 8, activation=\"relu\") )\n",
    "model.add( Dense( 1 ) )\n",
    "model.summary()"
   ]
  },
  {
   "cell_type": "code",
   "execution_count": null,
   "id": "c9be41d5",
   "metadata": {},
   "outputs": [],
   "source": [
    "hist = model.fit(X, Y, epochs=10)"
   ]
  },
  {
   "cell_type": "code",
   "execution_count": null,
   "id": "a19aa542",
   "metadata": {},
   "outputs": [],
   "source": []
  }
 ],
 "metadata": {
  "kernelspec": {
   "display_name": "Python 3 (ipykernel)",
   "language": "python",
   "name": "python3"
  },
  "language_info": {
   "codemirror_mode": {
    "name": "ipython",
    "version": 3
   },
   "file_extension": ".py",
   "mimetype": "text/x-python",
   "name": "python",
   "nbconvert_exporter": "python",
   "pygments_lexer": "ipython3",
   "version": "3.10.9"
  }
 },
 "nbformat": 4,
 "nbformat_minor": 5
}
