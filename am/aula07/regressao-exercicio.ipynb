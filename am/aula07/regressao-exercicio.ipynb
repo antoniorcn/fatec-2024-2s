{
 "cells": [
  {
   "cell_type": "markdown",
   "id": "36c1465f",
   "metadata": {},
   "source": [
    "# Exercicio, encontrar o melhor valor de W e B em 10 tentativas"
   ]
  },
  {
   "cell_type": "code",
   "execution_count": 1,
   "id": "6ef3022e",
   "metadata": {},
   "outputs": [],
   "source": [
    "import numpy as np"
   ]
  },
  {
   "cell_type": "code",
   "execution_count": 2,
   "id": "f417c036",
   "metadata": {},
   "outputs": [],
   "source": [
    "import matplotlib.pyplot as plt"
   ]
  },
  {
   "cell_type": "code",
   "execution_count": 3,
   "id": "d23ff05a",
   "metadata": {},
   "outputs": [],
   "source": [
    "np.random.seed(50)"
   ]
  },
  {
   "cell_type": "code",
   "execution_count": 4,
   "id": "da98559a",
   "metadata": {},
   "outputs": [
    {
     "data": {
      "text/plain": [
       "array([0.04946016, 0.02280831, 0.02554739, 0.03963299, 0.03773151,\n",
       "       0.09965742, 0.04081972, 0.0771894 , 0.07605367, 0.03100093])"
      ]
     },
     "execution_count": 4,
     "metadata": {},
     "output_type": "execute_result"
    }
   ],
   "source": [
    "desvio = np.random.random(size=10) * 0.10\n",
    "desvio"
   ]
  },
  {
   "cell_type": "code",
   "execution_count": 5,
   "id": "e997bde2",
   "metadata": {},
   "outputs": [
    {
     "data": {
      "text/plain": [
       "array([ 50,  60,  70,  80,  90, 100, 110, 120, 130, 140])"
      ]
     },
     "execution_count": 5,
     "metadata": {},
     "output_type": "execute_result"
    }
   ],
   "source": [
    "mm_chuva = np.arange(50, 150, 10)\n",
    "mm_chuva"
   ]
  },
  {
   "cell_type": "code",
   "execution_count": 6,
   "id": "f8935740",
   "metadata": {},
   "outputs": [
    {
     "data": {
      "text/plain": [
       "array([2.47300823, 1.36849863, 1.78831747, 3.17063928, 3.39583588,\n",
       "       9.9657423 , 4.4901692 , 9.26272794, 9.88697694, 4.34013088])"
      ]
     },
     "execution_count": 6,
     "metadata": {},
     "output_type": "execute_result"
    }
   ],
   "source": [
    "mm_chuva = mm_chuva * desvio\n",
    "mm_chuva"
   ]
  },
  {
   "cell_type": "code",
   "execution_count": 7,
   "id": "0e0e7d71",
   "metadata": {},
   "outputs": [
    {
     "data": {
      "text/plain": [
       "array([0.14838049, 0.29650804, 0.58759002, 1.3078887 , 1.62245492,\n",
       "       5.28184342, 2.57164236, 5.63482616, 6.31245451, 2.88308694])"
      ]
     },
     "execution_count": 7,
     "metadata": {},
     "output_type": "execute_result"
    }
   ],
   "source": [
    "colheita = np.arange(3, 103, 10)\n",
    "colheita = colheita * desvio\n",
    "colheita"
   ]
  },
  {
   "cell_type": "code",
   "execution_count": 9,
   "id": "4c393dbf",
   "metadata": {},
   "outputs": [],
   "source": [
    "x = mm_chuva"
   ]
  },
  {
   "cell_type": "code",
   "execution_count": 10,
   "id": "9cd17edc",
   "metadata": {},
   "outputs": [],
   "source": [
    "y = colheita"
   ]
  },
  {
   "cell_type": "code",
   "execution_count": 26,
   "id": "c9025af7",
   "metadata": {},
   "outputs": [],
   "source": [
    "def equacao_linear(x, w, b):\n",
    "    return (x * w) + b"
   ]
  },
  {
   "cell_type": "code",
   "execution_count": 31,
   "id": "3a6f1b91",
   "metadata": {},
   "outputs": [],
   "source": [
    "def calcular_custo(y, y_hat):\n",
    "    qtd_pontos = len(y)  # m\n",
    "    custo = (y_hat - y) ** 2 \n",
    "    return np.sum(custo) / (qtd_pontos * 2)"
   ]
  },
  {
   "cell_type": "code",
   "execution_count": 53,
   "id": "147fdd51",
   "metadata": {},
   "outputs": [
    {
     "data": {
      "text/plain": [
       "0.10952964811920651"
      ]
     },
     "execution_count": 53,
     "metadata": {},
     "output_type": "execute_result"
    }
   ],
   "source": [
    "for w n range(0, 10, 0.1):\n",
    "    b = -1\n",
    "    w = 0.7\n",
    "    y_hat = equacao_linear(x, w, b)\n",
    "    calcular_custo(y, y_hat)\n",
    "    "
   ]
  },
  {
   "cell_type": "code",
   "execution_count": 34,
   "id": "8d1ec581",
   "metadata": {},
   "outputs": [],
   "source": []
  },
  {
   "cell_type": "code",
   "execution_count": 35,
   "id": "6a7e67af",
   "metadata": {},
   "outputs": [
    {
     "data": {
      "text/plain": [
       "1529.3816851370136"
      ]
     },
     "execution_count": 35,
     "metadata": {},
     "output_type": "execute_result"
    }
   ],
   "source": []
  },
  {
   "cell_type": "code",
   "execution_count": 28,
   "id": "9a50ac47",
   "metadata": {},
   "outputs": [
    {
     "data": {
      "image/png": "[encoded data removed]",
      "text/plain": [
       "<Figure size 640x480 with 1 Axes>"
      ]
     },
     "metadata": {},
     "output_type": "display_data"
    }
   ],
   "source": [
    "plt.scatter(x, y)\n",
    "plt.plot(x, y_hat, color=\"red\")\n",
    "plt.xlabel(\"MM Chuva\")\n",
    "plt.ylabel(\"Toneladas de Colheita\")\n",
    "plt.show()"
   ]
  },
  {
   "cell_type": "code",
   "execution_count": null,
   "id": "ae0dcd46",
   "metadata": {},
   "outputs": [],
   "source": []
  }
 ],
 "metadata": {
  "kernelspec": {
   "display_name": "Python 3 (ipykernel)",
   "language": "python",
   "name": "python3"
  },
  "language_info": {
   "codemirror_mode": {
    "name": "ipython",
    "version": 3
   },
   "file_extension": ".py",
   "mimetype": "text/x-python",
   "name": "python",
   "nbconvert_exporter": "python",
   "pygments_lexer": "ipython3",
   "version": "3.10.9"
  }
 },
 "nbformat": 4,
 "nbformat_minor": 5
}
