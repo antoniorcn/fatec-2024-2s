{
 "cells": [
  {
   "cell_type": "code",
   "execution_count": 1,
   "id": "20724c8f",
   "metadata": {},
   "outputs": [],
   "source": [
    "from matplotlib import pyplot as plt"
   ]
  },
  {
   "cell_type": "code",
   "execution_count": 2,
   "id": "e1ed1402",
   "metadata": {},
   "outputs": [],
   "source": [
    "import numpy as np"
   ]
  },
  {
   "cell_type": "code",
   "execution_count": 29,
   "id": "c0843060",
   "metadata": {},
   "outputs": [
    {
     "data": {
      "text/plain": [
       "<_io.TextIOWrapper name='./SalaryPrediction.csv' mode='r' encoding='utf-8'>"
      ]
     },
     "execution_count": 29,
     "metadata": {},
     "output_type": "execute_result"
    }
   ],
   "source": [
    "arquivo = open(\"./SalaryPrediction.csv\", \"r\", encoding=\"utf-8\")\n",
    "arquivo"
   ]
  },
  {
   "cell_type": "code",
   "execution_count": 30,
   "id": "b12795d1",
   "metadata": {},
   "outputs": [],
   "source": [
    "x = []\n",
    "y = [] "
   ]
  },
  {
   "cell_type": "code",
   "execution_count": 31,
   "id": "b55b3a49",
   "metadata": {},
   "outputs": [],
   "source": [
    "texto = \" \"\n",
    "contador = 0\n",
    "while texto != '':\n",
    "    texto = arquivo.readline()\n",
    "    if contador > 0 and texto != '':\n",
    "        valores = texto.split(\",\")\n",
    "        x.append( float(valores[0]) )\n",
    "        y.append( float(valores[1]) )\n",
    "        # print(f\"Anos experiencia: {valores[0]}\\tSalario: {valores[1]}\")\n",
    "    contador += 1"
   ]
  },
  {
   "cell_type": "code",
   "execution_count": 33,
   "id": "bc49d912",
   "metadata": {},
   "outputs": [],
   "source": [
    "arquivo.close()"
   ]
  },
  {
   "cell_type": "code",
   "execution_count": 39,
   "id": "5f53336d",
   "metadata": {},
   "outputs": [],
   "source": [
    "x = np.array(x)"
   ]
  },
  {
   "cell_type": "code",
   "execution_count": 41,
   "id": "7d5803ff",
   "metadata": {},
   "outputs": [],
   "source": [
    "y = np.array(y)"
   ]
  },
  {
   "cell_type": "code",
   "execution_count": 44,
   "id": "bd2fac78",
   "metadata": {},
   "outputs": [],
   "source": [
    "def equacao_linear(x, w, b):\n",
    "    return (x * w) + b"
   ]
  },
  {
   "cell_type": "code",
   "execution_count": 61,
   "id": "ef1c546f",
   "metadata": {},
   "outputs": [],
   "source": [
    "w = 1000\n",
    "b = 2\n",
    "learn_rate = 0.01"
   ]
  },
  {
   "cell_type": "code",
   "execution_count": 52,
   "id": "bed657c1",
   "metadata": {},
   "outputs": [
    {
     "data": {
      "text/plain": [
       "array([ 1102.,  1202.,  1302.,  1502.,  2002.,  2202.,  2502.,  2902.,\n",
       "        3002.,  3202.,  3202.,  3502.,  3702.,  3802.,  3902.,  4002.,\n",
       "        4002.,  4102.,  4302.,  4502.,  4702.,  4902.,  5102.,  5302.,\n",
       "        5502.,  5902.,  6002.,  6202.,  6502.,  6802.,  7102.,  7902.,\n",
       "        8202.,  8502.,  8702.,  9002.,  9502.,  9602., 10302., 10502.])"
      ]
     },
     "execution_count": 52,
     "metadata": {},
     "output_type": "execute_result"
    }
   ],
   "source": [
    "y_hat = equacao_linear(x, w, b)\n",
    "y_hat"
   ]
  },
  {
   "cell_type": "code",
   "execution_count": 53,
   "id": "e131451f",
   "metadata": {},
   "outputs": [
    {
     "data": {
      "image/png": "[encoded data removed]",
      "text/plain": [
       "<Figure size 640x480 with 1 Axes>"
      ]
     },
     "metadata": {},
     "output_type": "display_data"
    }
   ],
   "source": [
    "plt.scatter(x, y)\n",
    "plt.plot(x, y_hat, color=\"red\")\n",
    "plt.xlabel(\"Anos experiencia\")\n",
    "plt.ylabel(\"Salario\")\n",
    "plt.show()"
   ]
  },
  {
   "cell_type": "code",
   "execution_count": 57,
   "id": "483c9dd6",
   "metadata": {},
   "outputs": [],
   "source": [
    "def calcular_custo(y_hat, y):\n",
    "    return (y_hat - y)"
   ]
  },
  {
   "cell_type": "code",
   "execution_count": 58,
   "id": "c76ed51a",
   "metadata": {},
   "outputs": [],
   "source": [
    "def funcao_custo(y_hat, y):\n",
    "    m = len(y_hat)\n",
    "    custo = calcular_custo(y_hat, y) ** 2\n",
    "    return (np.sum(custo) / (2 * m))\n",
    "    "
   ]
  },
  {
   "cell_type": "code",
   "execution_count": 59,
   "id": "9715e54b",
   "metadata": {},
   "outputs": [],
   "source": [
    "def novo_w(w, x, y_hat, y, learn_rate):\n",
    "    m = len(x)\n",
    "    custo = calcular_custo(y_hat, y) * x\n",
    "    dw = np.sum(custo) / m\n",
    "    return (w - learn_rate * dw)"
   ]
  },
  {
   "cell_type": "code",
   "execution_count": 66,
   "id": "c116b2ce",
   "metadata": {},
   "outputs": [],
   "source": [
    "def novo_b(b, x, y_hat, y, learn_rate):\n",
    "    m=len(x)\n",
    "    custo = calcular_custo(y_hat, y)\n",
    "    db = np.sum(custo) / m\n",
    "    return (b - learn_rate * db)"
   ]
  },
  {
   "cell_type": "code",
   "execution_count": 99,
   "id": "d189b8c6",
   "metadata": {},
   "outputs": [],
   "source": [
    "w = 10\n",
    "b = 20\n",
    "learn_rate = 0.05"
   ]
  },
  {
   "cell_type": "code",
   "execution_count": 104,
   "id": "9fe0338c",
   "metadata": {},
   "outputs": [],
   "source": [
    "for _ in range(90):\n",
    "    y_hat = equacao_linear(x, w, b)\n",
    "    custo = funcao_custo(y_hat, y)\n",
    "    # print(f\"W:{w}, B:{b}, Custo:{custo}\")\n",
    "    w = novo_w(w, x, y_hat, y, learn_rate)\n",
    "    b = novo_b(b, x, y_hat, y, learn_rate)\n",
    "    # print(f\"W Novo :{w}\")"
   ]
  },
  {
   "cell_type": "code",
   "execution_count": 105,
   "id": "4cd63f48",
   "metadata": {},
   "outputs": [
    {
     "name": "stdout",
     "output_type": "stream",
     "text": [
      "W:10961.753234567812, B:16388.677760568742, Custo:23573447.247282553\n"
     ]
    }
   ],
   "source": [
    "print(f\"W:{w}, B:{b}, Custo:{custo}\")"
   ]
  },
  {
   "cell_type": "code",
   "execution_count": 106,
   "id": "5013e6ed",
   "metadata": {},
   "outputs": [],
   "source": [
    "# Custo 1: 3118660839.7149997\n",
    "# Custo 2: 2687108529.4875\n",
    "# Custo 3: 1401054443.8711083\n",
    "# Custo 4:   74861300\n",
    "# Custo 5:   14480522.29893288\n",
    "# Custo 6:   14480191.826\n",
    "# Custo 7:   14480191.82"
   ]
  },
  {
   "cell_type": "code",
   "execution_count": 107,
   "id": "4fbe44eb",
   "metadata": {},
   "outputs": [
    {
     "data": {
      "image/png": "[encoded data removed]",
      "text/plain": [
       "<Figure size 640x480 with 1 Axes>"
      ]
     },
     "metadata": {},
     "output_type": "display_data"
    }
   ],
   "source": [
    "plt.scatter(x, y)\n",
    "plt.plot(x, y_hat, color=\"red\")\n",
    "plt.xlabel(\"Anos experiencia\")\n",
    "plt.ylabel(\"Salario\")\n",
    "plt.show()"
   ]
  },
  {
   "cell_type": "code",
   "execution_count": null,
   "id": "67a347d5",
   "metadata": {},
   "outputs": [],
   "source": []
  }
 ],
 "metadata": {
  "kernelspec": {
   "display_name": "Python 3 (ipykernel)",
   "language": "python",
   "name": "python3"
  },
  "language_info": {
   "codemirror_mode": {
    "name": "ipython",
    "version": 3
   },
   "file_extension": ".py",
   "mimetype": "text/x-python",
   "name": "python",
   "nbconvert_exporter": "python",
   "pygments_lexer": "ipython3",
   "version": "3.10.9"
  }
 },
 "nbformat": 4,
 "nbformat_minor": 5
}
