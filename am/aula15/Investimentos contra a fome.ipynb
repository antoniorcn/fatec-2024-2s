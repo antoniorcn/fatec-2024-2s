{
 "cells": [
  {
   "cell_type": "code",
   "execution_count": 1,
   "id": "58539cfd",
   "metadata": {},
   "outputs": [],
   "source": [
    "from matplotlib import pyplot as plt"
   ]
  },
  {
   "cell_type": "code",
   "execution_count": 2,
   "id": "39faf9a1",
   "metadata": {},
   "outputs": [],
   "source": [
    "import numpy as np"
   ]
  },
  {
   "cell_type": "code",
   "execution_count": 3,
   "id": "026a8179",
   "metadata": {},
   "outputs": [],
   "source": [
    "X = np.array([10000, 15000, 25000])"
   ]
  },
  {
   "cell_type": "code",
   "execution_count": 106,
   "id": "ecf68bb3",
   "metadata": {},
   "outputs": [],
   "source": [
    "Y = np.array([700, 1400, 2500])"
   ]
  },
  {
   "cell_type": "code",
   "execution_count": 113,
   "id": "a4a7c2cd",
   "metadata": {},
   "outputs": [],
   "source": [
    "W = 1\n",
    "B = 1"
   ]
  },
  {
   "cell_type": "code",
   "execution_count": 114,
   "id": "7fe4aa1a",
   "metadata": {},
   "outputs": [],
   "source": [
    "Y_hat = X * W + B"
   ]
  },
  {
   "cell_type": "code",
   "execution_count": 115,
   "id": "5a7265ab",
   "metadata": {},
   "outputs": [
    {
     "data": {
      "text/plain": [
       "array([10001, 15001, 25001])"
      ]
     },
     "execution_count": 115,
     "metadata": {},
     "output_type": "execute_result"
    }
   ],
   "source": [
    "Y_hat"
   ]
  },
  {
   "cell_type": "code",
   "execution_count": 116,
   "id": "0f7618ce",
   "metadata": {},
   "outputs": [
    {
     "data": {
      "text/plain": [
       "259263601.0"
      ]
     },
     "execution_count": 116,
     "metadata": {},
     "output_type": "execute_result"
    }
   ],
   "source": [
    "# Calcular o Custo\n",
    "custo = np.mean( (Y_hat - Y) ** 2 )\n",
    "custo"
   ]
  },
  {
   "cell_type": "code",
   "execution_count": 146,
   "id": "9e8bf6cd",
   "metadata": {},
   "outputs": [],
   "source": [
    "def descida_estocastica( x, y, w, b, alpha = 0.00000001, quantidade = 100 ): \n",
    "    m = len(x)\n",
    "    for i in range(quantidade): \n",
    "        y_hat = (x * w) + b\n",
    "        custo = np.sum((y_hat - y) ** 2) / (2 * m)\n",
    "        print(f\"W: {round(w)},  B: {round(b)}  => Custo: {round(custo)}\")\n",
    "        novo_w = w - (alpha * np.sum((y_hat - y) * x ) / m)\n",
    "        novo_b = b - (alpha * np.sum((y_hat - y)) / m)\n",
    "\n",
    "        w = novo_w\n",
    "        b = novo_b\n",
    "    return w, b\n",
    "    "
   ]
  },
  {
   "cell_type": "code",
   "execution_count": 165,
   "id": "eab14b79",
   "metadata": {},
   "outputs": [],
   "source": [
    "# Ws = [0.01, 0.02, 0.03, 0.04, 0.05, 0.065, 0.07, 0.08, 0.09] \n",
    "# for W in Ws:\n",
    "#     print(\"W: {}   Custo: {}\".format(W, calcular_custo( X, Y, W, B )))"
   ]
  },
  {
   "cell_type": "code",
   "execution_count": 173,
   "id": "ad1948d0",
   "metadata": {},
   "outputs": [
    {
     "name": "stdout",
     "output_type": "stream",
     "text": [
      "W: 23000,  B: 1700  => Custo: 44740771\n",
      "W: 23000,  B: 1700  => Custo: 83754659431885520\n",
      "W: 15716,  B: 1699  => Custo: 39108772817798440\n",
      "W: 10739,  B: 1699  => Custo: 18261624149576736\n",
      "W: 7339,  B: 1699  => Custo: 8527163921435417\n",
      "W: 5015,  B: 1699  => Custo: 3981711809909392\n",
      "W: 3427,  B: 1699  => Custo: 1859238204393272\n",
      "W: 2342,  B: 1699  => Custo: 868160948362037\n",
      "W: 1600,  B: 1698  => Custo: 405382930831141\n",
      "W: 1093,  B: 1698  => Custo: 189291307088868\n",
      "W: 747,  B: 1698  => Custo: 88388524150491\n",
      "W: 511,  B: 1698  => Custo: 41272530349398\n",
      "W: 349,  B: 1698  => Custo: 19271978855983\n",
      "W: 238,  B: 1698  => Custo: 8998943587793\n",
      "W: 163,  B: 1698  => Custo: 4202006854046\n",
      "W: 111,  B: 1698  => Custo: 1962103901622\n",
      "W: 76,  B: 1698  => Custo: 916193664578\n",
      "W: 52,  B: 1698  => Custo: 427811691257\n",
      "W: 36,  B: 1698  => Custo: 199764442633\n",
      "W: 24,  B: 1698  => Custo: 93279047091\n",
      "W: 17,  B: 1698  => Custo: 43556283356\n",
      "W: 11,  B: 1698  => Custo: 20338515127\n",
      "W: 8,  B: 1698  => Custo: 9497107267\n",
      "W: 5,  B: 1698  => Custo: 4434772111\n",
      "W: 4,  B: 1698  => Custo: 2070942839\n",
      "W: 2,  B: 1698  => Custo: 967165896\n",
      "W: 2,  B: 1698  => Custo: 451763386\n",
      "W: 1,  B: 1698  => Custo: 211099048\n",
      "W: 1,  B: 1698  => Custo: 98722173\n",
      "W: 1,  B: 1698  => Custo: 46248415\n",
      "W: 0,  B: 1698  => Custo: 21746086\n",
      "W: 0,  B: 1698  => Custo: 10304859\n",
      "W: 0,  B: 1698  => Custo: 4962442\n",
      "W: 0,  B: 1698  => Custo: 2467830\n",
      "W: 0,  B: 1698  => Custo: 1302985\n",
      "W: 0,  B: 1698  => Custo: 759067\n",
      "W: 0,  B: 1698  => Custo: 505087\n",
      "W: 0,  B: 1698  => Custo: 386493\n",
      "W: 0,  B: 1698  => Custo: 331116\n",
      "W: 0,  B: 1698  => Custo: 305258\n",
      "W: 0,  B: 1698  => Custo: 293184\n",
      "W: 0,  B: 1698  => Custo: 287546\n",
      "W: 0,  B: 1698  => Custo: 284913\n",
      "W: 0,  B: 1698  => Custo: 283684\n",
      "W: 0,  B: 1698  => Custo: 283110\n",
      "W: 0,  B: 1698  => Custo: 282842\n",
      "W: 0,  B: 1698  => Custo: 282717\n",
      "W: 0,  B: 1698  => Custo: 282658\n",
      "W: 0,  B: 1698  => Custo: 282631\n",
      "W: 0,  B: 1698  => Custo: 282618\n",
      "W: 0,  B: 1698  => Custo: 282612\n",
      "W: 0,  B: 1698  => Custo: 282609\n",
      "W: 0,  B: 1698  => Custo: 282608\n",
      "W: 0,  B: 1698  => Custo: 282608\n",
      "W: 0,  B: 1698  => Custo: 282607\n",
      "W: 0,  B: 1698  => Custo: 282607\n",
      "W: 0,  B: 1698  => Custo: 282607\n",
      "W: 0,  B: 1698  => Custo: 282607\n",
      "W: 0,  B: 1698  => Custo: 282607\n",
      "W: 0,  B: 1698  => Custo: 282607\n",
      "W: 0,  B: 1698  => Custo: 282607\n",
      "W: 0,  B: 1698  => Custo: 282607\n",
      "W: 0,  B: 1698  => Custo: 282607\n",
      "W: 0,  B: 1698  => Custo: 282607\n",
      "W: 0,  B: 1698  => Custo: 282607\n",
      "W: 0,  B: 1698  => Custo: 282607\n",
      "W: 0,  B: 1698  => Custo: 282607\n",
      "W: 0,  B: 1698  => Custo: 282607\n",
      "W: 0,  B: 1698  => Custo: 282607\n",
      "W: 0,  B: 1698  => Custo: 282607\n",
      "W: 0,  B: 1698  => Custo: 282607\n",
      "W: 0,  B: 1698  => Custo: 282607\n",
      "W: 0,  B: 1698  => Custo: 282607\n",
      "W: 0,  B: 1698  => Custo: 282607\n",
      "W: 0,  B: 1698  => Custo: 282607\n",
      "W: 0,  B: 1698  => Custo: 282607\n",
      "W: 0,  B: 1698  => Custo: 282607\n",
      "W: 0,  B: 1698  => Custo: 282607\n",
      "W: 0,  B: 1698  => Custo: 282607\n",
      "W: 0,  B: 1698  => Custo: 282607\n",
      "W: 0,  B: 1698  => Custo: 282607\n",
      "W: 0,  B: 1698  => Custo: 282607\n",
      "W: 0,  B: 1698  => Custo: 282607\n",
      "W: 0,  B: 1698  => Custo: 282607\n",
      "W: 0,  B: 1698  => Custo: 282607\n",
      "W: 0,  B: 1698  => Custo: 282607\n",
      "W: 0,  B: 1698  => Custo: 282607\n",
      "W: 0,  B: 1698  => Custo: 282607\n",
      "W: 0,  B: 1698  => Custo: 282607\n",
      "W: 0,  B: 1698  => Custo: 282607\n",
      "W: 0,  B: 1698  => Custo: 282607\n",
      "W: 0,  B: 1698  => Custo: 282607\n",
      "W: 0,  B: 1698  => Custo: 282607\n",
      "W: 0,  B: 1698  => Custo: 282607\n",
      "W: 0,  B: 1698  => Custo: 282607\n",
      "W: 0,  B: 1698  => Custo: 282607\n",
      "W: 0,  B: 1698  => Custo: 282607\n",
      "W: 0,  B: 1698  => Custo: 282607\n",
      "W: 0,  B: 1698  => Custo: 282607\n",
      "W: 0,  B: 1698  => Custo: 282607\n"
     ]
    }
   ],
   "source": [
    "W = 23000\n",
    "B = 1700\n",
    "W, B = descida_estocastica(X, Y, W, B,  alpha = 0.000000001, quantidade = 100)"
   ]
  },
  {
   "cell_type": "code",
   "execution_count": 174,
   "id": "e67ee332",
   "metadata": {},
   "outputs": [],
   "source": [
    "Y_hat = X * W + B"
   ]
  },
  {
   "cell_type": "code",
   "execution_count": 175,
   "id": "7567a1bd",
   "metadata": {
    "scrolled": true
   },
   "outputs": [
    {
     "data": {
      "image/png": "[encoded data removed]",
      "text/plain": [
       "<Figure size 640x480 with 1 Axes>"
      ]
     },
     "metadata": {},
     "output_type": "display_data"
    }
   ],
   "source": [
    "plt.plot(X, Y, label=\"Real\")\n",
    "plt.plot(X, Y_hat, label=\"Regressão Linear\")\n",
    "plt.legend()\n",
    "plt.show()"
   ]
  },
  {
   "cell_type": "code",
   "execution_count": null,
   "id": "3ab1a7f3",
   "metadata": {},
   "outputs": [],
   "source": []
  }
 ],
 "metadata": {
  "kernelspec": {
   "display_name": "Python 3 (ipykernel)",
   "language": "python",
   "name": "python3"
  },
  "language_info": {
   "codemirror_mode": {
    "name": "ipython",
    "version": 3
   },
   "file_extension": ".py",
   "mimetype": "text/x-python",
   "name": "python",
   "nbconvert_exporter": "python",
   "pygments_lexer": "ipython3",
   "version": "3.10.9"
  }
 },
 "nbformat": 4,
 "nbformat_minor": 5
}
