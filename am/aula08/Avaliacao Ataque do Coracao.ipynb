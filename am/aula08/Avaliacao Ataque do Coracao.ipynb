{
 "cells": [
  {
   "cell_type": "code",
   "execution_count": 1,
   "id": "a779667a",
   "metadata": {},
   "outputs": [],
   "source": [
    "import numpy as np"
   ]
  },
  {
   "cell_type": "code",
   "execution_count": 11,
   "id": "d5894209",
   "metadata": {},
   "outputs": [],
   "source": [
    "from sklearn.linear_model import LogisticRegression"
   ]
  },
  {
   "cell_type": "code",
   "execution_count": 42,
   "id": "0dcc5ad6",
   "metadata": {},
   "outputs": [],
   "source": [
    "from sklearn.model_selection import train_test_split"
   ]
  },
  {
   "cell_type": "code",
   "execution_count": 52,
   "id": "540ba6fd",
   "metadata": {},
   "outputs": [],
   "source": [
    "from matplotlib import pyplot as plt"
   ]
  },
  {
   "cell_type": "code",
   "execution_count": 2,
   "id": "00b53f83",
   "metadata": {},
   "outputs": [],
   "source": [
    "arquivo = open(\"./heart.csv\", \"r\")"
   ]
  },
  {
   "cell_type": "markdown",
   "id": "9ab554da",
   "metadata": {},
   "source": [
    "0-age - Age of the person      (6)\n",
    "1-sex - Gender of the person   (0)\n",
    "2-cp - Chest Pain type chest pain type   (3)\n",
    "3-trtbps - resting blood pressure (in mm Hg)  (1)\n",
    "4-chol - cholestoral in mg/dl fetched via BMI sensor   (9)\n",
    "5-fbs - (fasting blood sugar > 120 mg/dl) (1 = true; 0 = false)   (2)\n",
    "6-restecg - resting electrocardiographic results    (0)\n",
    "7-thalachh - maximum heart rate achieved  (0)\n",
    "8-exng - exercise induced angina (1 = yes; 0 = no)  (0)\n",
    "9-oldpeak - Previous peak (0)\n",
    "age,sex,cp,trtbps,chol,fbs,restecg,thalachh,exng,oldpeak,slp,caa,thall,output\n",
    "0,   1, 2, 3,     4,   5,  6,      7,       8,   9,      10, 11, 12,  13"
   ]
  },
  {
   "cell_type": "code",
   "execution_count": 3,
   "id": "a4e3af6e",
   "metadata": {},
   "outputs": [],
   "source": [
    "idades = []\n",
    "niveis_colesterol = []\n",
    "heart_attack = []"
   ]
  },
  {
   "cell_type": "code",
   "execution_count": 4,
   "id": "1a8cb950",
   "metadata": {},
   "outputs": [],
   "source": [
    "arquivo.readline()\n",
    "linha = arquivo.readline()\n",
    "while linha != \"\":\n",
    "    # trabalhar com os dados da linha\n",
    "    # print(linha)\n",
    "    dados = linha.split(\",\")\n",
    "    \n",
    "    idades.append(float(dados[0]))\n",
    "    niveis_colesterol.append(float(dados[4]))\n",
    "    heart_attack.append(int(dados[13]))\n",
    "    \n",
    "    linha = arquivo.readline()\n"
   ]
  },
  {
   "cell_type": "code",
   "execution_count": 5,
   "id": "da41872f",
   "metadata": {},
   "outputs": [],
   "source": [
    "arquivo.close()"
   ]
  },
  {
   "cell_type": "code",
   "execution_count": 14,
   "id": "c2fe6256",
   "metadata": {},
   "outputs": [
    {
     "data": {
      "text/plain": [
       "303"
      ]
     },
     "execution_count": 14,
     "metadata": {},
     "output_type": "execute_result"
    }
   ],
   "source": [
    "len(heart_attack)"
   ]
  },
  {
   "cell_type": "code",
   "execution_count": 17,
   "id": "7c28c63c",
   "metadata": {},
   "outputs": [],
   "source": [
    "features = np.array([idades, niveis_colesterol])"
   ]
  },
  {
   "cell_type": "code",
   "execution_count": 19,
   "id": "238f6836",
   "metadata": {},
   "outputs": [
    {
     "data": {
      "text/plain": [
       "array([[ 63.,  37.,  41.,  56.,  57.,  57.,  56.,  44.,  52.,  57.,  54.,\n",
       "         48.,  49.,  64.,  58.,  50.,  58.,  66.,  43.,  69.,  59.,  44.,\n",
       "         42.,  61.,  40.,  71.,  59.,  51.,  65.,  53.,  41.,  65.,  44.,\n",
       "         54.,  51.,  46.,  54.,  54.,  65.,  65.,  51.,  48.,  45.,  53.,\n",
       "         39.,  52.,  44.,  47.,  53.,  53.,  51.,  66.,  62.,  44.,  63.,\n",
       "         52.,  48.,  45.,  34.,  57.,  71.,  54.,  52.,  41.,  58.,  35.,\n",
       "         51.,  45.,  44.,  62.,  54.,  51.,  29.,  51.,  43.,  55.,  51.,\n",
       "         59.,  52.,  58.,  41.,  45.,  60.,  52.,  42.,  67.,  68.,  46.,\n",
       "         54.,  58.,  48.,  57.,  52.,  54.,  45.,  53.,  62.,  52.,  43.,\n",
       "         53.,  42.,  59.,  63.,  42.,  50.,  68.,  69.,  45.,  50.,  50.,\n",
       "         64.,  57.,  64.,  43.,  55.,  37.,  41.,  56.,  46.,  46.,  64.,\n",
       "         59.,  41.,  54.,  39.,  34.,  47.,  67.,  52.,  74.,  54.,  49.,\n",
       "         42.,  41.,  41.,  49.,  60.,  62.,  57.,  64.,  51.,  43.,  42.,\n",
       "         67.,  76.,  70.,  44.,  60.,  44.,  42.,  66.,  71.,  64.,  66.,\n",
       "         39.,  58.,  47.,  35.,  58.,  56.,  56.,  55.,  41.,  38.,  38.,\n",
       "         67.,  67.,  62.,  63.,  53.,  56.,  48.,  58.,  58.,  60.,  40.,\n",
       "         60.,  64.,  43.,  57.,  55.,  65.,  61.,  58.,  50.,  44.,  60.,\n",
       "         54.,  50.,  41.,  51.,  58.,  54.,  60.,  60.,  59.,  46.,  67.,\n",
       "         62.,  65.,  44.,  60.,  58.,  68.,  62.,  52.,  59.,  60.,  49.,\n",
       "         59.,  57.,  61.,  39.,  61.,  56.,  43.,  62.,  63.,  65.,  48.,\n",
       "         63.,  55.,  65.,  56.,  54.,  70.,  62.,  35.,  59.,  64.,  47.,\n",
       "         57.,  55.,  64.,  70.,  51.,  58.,  60.,  77.,  35.,  70.,  59.,\n",
       "         64.,  57.,  56.,  48.,  56.,  66.,  54.,  69.,  51.,  43.,  62.,\n",
       "         67.,  59.,  45.,  58.,  50.,  62.,  38.,  66.,  52.,  53.,  63.,\n",
       "         54.,  66.,  55.,  49.,  54.,  56.,  46.,  61.,  67.,  58.,  47.,\n",
       "         52.,  58.,  57.,  58.,  61.,  42.,  52.,  59.,  40.,  61.,  46.,\n",
       "         59.,  57.,  57.,  55.,  61.,  58.,  58.,  67.,  44.,  63.,  63.,\n",
       "         59.,  57.,  45.,  68.,  57.,  57.],\n",
       "       [233., 250., 204., 236., 354., 192., 294., 263., 199., 168., 239.,\n",
       "        275., 266., 211., 283., 219., 340., 226., 247., 239., 234., 233.,\n",
       "        226., 243., 199., 302., 212., 175., 417., 197., 198., 177., 219.,\n",
       "        273., 213., 177., 304., 232., 269., 360., 308., 245., 208., 264.,\n",
       "        321., 325., 235., 257., 216., 234., 256., 302., 231., 141., 252.,\n",
       "        201., 222., 260., 182., 303., 265., 309., 186., 203., 211., 183.,\n",
       "        222., 234., 220., 209., 258., 227., 204., 261., 213., 250., 245.,\n",
       "        221., 205., 240., 250., 308., 318., 298., 265., 564., 277., 197.,\n",
       "        214., 248., 255., 207., 223., 288., 160., 226., 394., 233., 315.,\n",
       "        246., 244., 270., 195., 240., 196., 211., 234., 236., 244., 254.,\n",
       "        325., 126., 313., 211., 262., 215., 214., 193., 204., 243., 303.,\n",
       "        271., 268., 267., 199., 210., 204., 277., 196., 269., 201., 271.,\n",
       "        295., 235., 306., 269., 178., 208., 201., 263., 295., 303., 209.,\n",
       "        223., 197., 245., 242., 240., 226., 180., 228., 149., 227., 278.,\n",
       "        220., 197., 253., 192., 220., 221., 240., 342., 157., 175., 175.,\n",
       "        286., 229., 268., 254., 203., 256., 229., 284., 224., 206., 167.,\n",
       "        230., 335., 177., 276., 353., 225., 330., 230., 243., 290., 253.,\n",
       "        266., 233., 172., 305., 216., 188., 282., 185., 326., 231., 254.,\n",
       "        267., 248., 197., 258., 270., 274., 164., 255., 239., 258., 188.,\n",
       "        177., 229., 260., 219., 307., 249., 341., 263., 330., 254., 256.,\n",
       "        407., 217., 282., 288., 239., 174., 281., 198., 288., 309., 243.,\n",
       "        289., 289., 246., 322., 299., 300., 293., 304., 282., 269., 249.,\n",
       "        212., 274., 184., 274., 409., 246., 283., 254., 298., 247., 294.,\n",
       "        299., 273., 309., 259., 200., 244., 231., 228., 230., 282., 269.,\n",
       "        206., 212., 327., 149., 286., 283., 249., 234., 237., 234., 275.,\n",
       "        212., 218., 261., 319., 166., 315., 204., 218., 223., 207., 311.,\n",
       "        204., 232., 335., 205., 203., 318., 225., 212., 169., 187., 197.,\n",
       "        176., 241., 264., 193., 131., 236.]])"
      ]
     },
     "execution_count": 19,
     "metadata": {},
     "output_type": "execute_result"
    }
   ],
   "source": [
    "features"
   ]
  },
  {
   "cell_type": "code",
   "execution_count": 32,
   "id": "070b7d0d",
   "metadata": {},
   "outputs": [
    {
     "data": {
      "text/plain": [
       "303"
      ]
     },
     "execution_count": 32,
     "metadata": {},
     "output_type": "execute_result"
    }
   ],
   "source": [
    "len(features.T)"
   ]
  },
  {
   "cell_type": "code",
   "execution_count": 43,
   "id": "fb5e6d85",
   "metadata": {},
   "outputs": [],
   "source": [
    "features_train, features_teste, heart_attack_train, heart_attack_teste = train_test_split(features.T, heart_attack)"
   ]
  },
  {
   "cell_type": "code",
   "execution_count": 35,
   "id": "df41a543",
   "metadata": {},
   "outputs": [
    {
     "data": {
      "text/plain": [
       "100"
      ]
     },
     "execution_count": 35,
     "metadata": {},
     "output_type": "execute_result"
    }
   ],
   "source": [
    "# features_teste = features.T[0:100]\n",
    "# len(features_teste)"
   ]
  },
  {
   "cell_type": "code",
   "execution_count": 36,
   "id": "91f1ce71",
   "metadata": {},
   "outputs": [
    {
     "data": {
      "text/plain": [
       "203"
      ]
     },
     "execution_count": 36,
     "metadata": {},
     "output_type": "execute_result"
    }
   ],
   "source": [
    "# features_train = features.T[100:]\n",
    "# len(features_train)"
   ]
  },
  {
   "cell_type": "code",
   "execution_count": 39,
   "id": "bd4bc310",
   "metadata": {},
   "outputs": [
    {
     "name": "stdout",
     "output_type": "stream",
     "text": [
      "203 100\n"
     ]
    }
   ],
   "source": [
    "# heart_attack_teste = heart_attack[0:100]\n",
    "# heart_attack_train = heart_attack[100:]\n",
    "# print(len(heart_attack_train), len(heart_attack_teste))"
   ]
  },
  {
   "cell_type": "code",
   "execution_count": 44,
   "id": "35681153",
   "metadata": {},
   "outputs": [],
   "source": [
    "model = LogisticRegression()"
   ]
  },
  {
   "cell_type": "code",
   "execution_count": 45,
   "id": "40daec95",
   "metadata": {},
   "outputs": [
    {
     "data": {
      "text/html": [
       "<style>#sk-container-id-3 {color: black;background-color: white;}#sk-container-id-3 pre{padding: 0;}#sk-container-id-3 div.sk-toggleable {background-color: white;}#sk-container-id-3 label.sk-toggleable__label {cursor: pointer;display: block;width: 100%;margin-bottom: 0;padding: 0.3em;box-sizing: border-box;text-align: center;}#sk-container-id-3 label.sk-toggleable__label-arrow:before {content: \"▸\";float: left;margin-right: 0.25em;color: #696969;}#sk-container-id-3 label.sk-toggleable__label-arrow:hover:before {color: black;}#sk-container-id-3 div.sk-estimator:hover label.sk-toggleable__label-arrow:before {color: black;}#sk-container-id-3 div.sk-toggleable__content {max-height: 0;max-width: 0;overflow: hidden;text-align: left;background-color: #f0f8ff;}#sk-container-id-3 div.sk-toggleable__content pre {margin: 0.2em;color: black;border-radius: 0.25em;background-color: #f0f8ff;}#sk-container-id-3 input.sk-toggleable__control:checked~div.sk-toggleable__content {max-height: 200px;max-width: 100%;overflow: auto;}#sk-container-id-3 input.sk-toggleable__control:checked~label.sk-toggleable__label-arrow:before {content: \"▾\";}#sk-container-id-3 div.sk-estimator input.sk-toggleable__control:checked~label.sk-toggleable__label {background-color: #d4ebff;}#sk-container-id-3 div.sk-label input.sk-toggleable__control:checked~label.sk-toggleable__label {background-color: #d4ebff;}#sk-container-id-3 input.sk-hidden--visually {border: 0;clip: rect(1px 1px 1px 1px);clip: rect(1px, 1px, 1px, 1px);height: 1px;margin: -1px;overflow: hidden;padding: 0;position: absolute;width: 1px;}#sk-container-id-3 div.sk-estimator {font-family: monospace;background-color: #f0f8ff;border: 1px dotted black;border-radius: 0.25em;box-sizing: border-box;margin-bottom: 0.5em;}#sk-container-id-3 div.sk-estimator:hover {background-color: #d4ebff;}#sk-container-id-3 div.sk-parallel-item::after {content: \"\";width: 100%;border-bottom: 1px solid gray;flex-grow: 1;}#sk-container-id-3 div.sk-label:hover label.sk-toggleable__label {background-color: #d4ebff;}#sk-container-id-3 div.sk-serial::before {content: \"\";position: absolute;border-left: 1px solid gray;box-sizing: border-box;top: 0;bottom: 0;left: 50%;z-index: 0;}#sk-container-id-3 div.sk-serial {display: flex;flex-direction: column;align-items: center;background-color: white;padding-right: 0.2em;padding-left: 0.2em;position: relative;}#sk-container-id-3 div.sk-item {position: relative;z-index: 1;}#sk-container-id-3 div.sk-parallel {display: flex;align-items: stretch;justify-content: center;background-color: white;position: relative;}#sk-container-id-3 div.sk-item::before, #sk-container-id-3 div.sk-parallel-item::before {content: \"\";position: absolute;border-left: 1px solid gray;box-sizing: border-box;top: 0;bottom: 0;left: 50%;z-index: -1;}#sk-container-id-3 div.sk-parallel-item {display: flex;flex-direction: column;z-index: 1;position: relative;background-color: white;}#sk-container-id-3 div.sk-parallel-item:first-child::after {align-self: flex-end;width: 50%;}#sk-container-id-3 div.sk-parallel-item:last-child::after {align-self: flex-start;width: 50%;}#sk-container-id-3 div.sk-parallel-item:only-child::after {width: 0;}#sk-container-id-3 div.sk-dashed-wrapped {border: 1px dashed gray;margin: 0 0.4em 0.5em 0.4em;box-sizing: border-box;padding-bottom: 0.4em;background-color: white;}#sk-container-id-3 div.sk-label label {font-family: monospace;font-weight: bold;display: inline-block;line-height: 1.2em;}#sk-container-id-3 div.sk-label-container {text-align: center;}#sk-container-id-3 div.sk-container {/* jupyter's `normalize.less` sets `[hidden] { display: none; }` but bootstrap.min.css set `[hidden] { display: none !important; }` so we also need the `!important` here to be able to override the default hidden behavior on the sphinx rendered scikit-learn.org. See: https://github.com/scikit-learn/scikit-learn/issues/21755 */display: inline-block !important;position: relative;}#sk-container-id-3 div.sk-text-repr-fallback {display: none;}</style><div id=\"sk-container-id-3\" class=\"sk-top-container\"><div class=\"sk-text-repr-fallback\"><pre>LogisticRegression()</pre><b>In a Jupyter environment, please rerun this cell to show the HTML representation or trust the notebook. <br />On GitHub, the HTML representation is unable to render, please try loading this page with nbviewer.org.</b></div><div class=\"sk-container\" hidden><div class=\"sk-item\"><div class=\"sk-estimator sk-toggleable\"><input class=\"sk-toggleable__control sk-hidden--visually\" id=\"sk-estimator-id-3\" type=\"checkbox\" checked><label for=\"sk-estimator-id-3\" class=\"sk-toggleable__label sk-toggleable__label-arrow\">LogisticRegression</label><div class=\"sk-toggleable__content\"><pre>LogisticRegression()</pre></div></div></div></div></div>"
      ],
      "text/plain": [
       "LogisticRegression()"
      ]
     },
     "execution_count": 45,
     "metadata": {},
     "output_type": "execute_result"
    }
   ],
   "source": [
    "model.fit(features_train, heart_attack_train)"
   ]
  },
  {
   "cell_type": "code",
   "execution_count": 46,
   "id": "46e045ab",
   "metadata": {},
   "outputs": [
    {
     "data": {
      "text/plain": [
       "0.6578947368421053"
      ]
     },
     "execution_count": 46,
     "metadata": {},
     "output_type": "execute_result"
    }
   ],
   "source": [
    "model.score(features_teste, heart_attack_teste)"
   ]
  },
  {
   "cell_type": "code",
   "execution_count": 31,
   "id": "bce1ee4c",
   "metadata": {},
   "outputs": [
    {
     "data": {
      "text/plain": [
       "0"
      ]
     },
     "execution_count": 31,
     "metadata": {},
     "output_type": "execute_result"
    }
   ],
   "source": [
    "resultado = model.predict( [[45.0, 190.0]] ) \n",
    "resultado[0]"
   ]
  },
  {
   "cell_type": "code",
   "execution_count": 48,
   "id": "3db4dcdb",
   "metadata": {},
   "outputs": [
    {
     "name": "stdout",
     "output_type": "stream",
     "text": [
      "Idades: [20 21 22 23 24 25 26 27 28 29 30 31 32 33 34 35 36 37 38 39 40 41 42 43\n",
      " 44 45 46 47 48 49 50 51 52 53 54 55 56 57 58 59 60 61 62 63 64 65 66 67\n",
      " 68 69 70 71 72 73 74 75 76 77 78 79 80 81 82 83 84 85 86 87 88 89 90 91\n",
      " 92 93 94 95 96 97 98]\n",
      "Temp Colesterol: [305. 305. 305. 305. 305. 305. 305. 305. 305. 305. 305. 305. 305. 305.\n",
      " 305. 305. 305. 305. 305. 305. 305. 305. 305. 305. 305. 305. 305. 305.\n",
      " 305. 305. 305. 305. 305. 305. 305. 305. 305. 305. 305. 305. 305. 305.\n",
      " 305. 305. 305. 305. 305. 305. 305. 305. 305. 305. 305. 305. 305. 305.\n",
      " 305. 305. 305. 305. 305. 305. 305. 305. 305. 305. 305. 305. 305. 305.\n",
      " 305. 305. 305. 305. 305. 305. 305. 305. 305.]\n"
     ]
    }
   ],
   "source": [
    "temp_idades = np.arange(20, 99, 1)\n",
    "print(f\"Idades: {temp_idades}\")\n",
    "temp_colesterol = np.ones( len(temp_idades) )* 305\n",
    "print(f\"Temp Colesterol: {temp_colesterol}\")"
   ]
  },
  {
   "cell_type": "code",
   "execution_count": 50,
   "id": "15393282",
   "metadata": {},
   "outputs": [
    {
     "data": {
      "text/plain": [
       "array([[ 20., 305.],\n",
       "       [ 21., 305.],\n",
       "       [ 22., 305.],\n",
       "       [ 23., 305.],\n",
       "       [ 24., 305.],\n",
       "       [ 25., 305.],\n",
       "       [ 26., 305.],\n",
       "       [ 27., 305.],\n",
       "       [ 28., 305.],\n",
       "       [ 29., 305.],\n",
       "       [ 30., 305.],\n",
       "       [ 31., 305.],\n",
       "       [ 32., 305.],\n",
       "       [ 33., 305.],\n",
       "       [ 34., 305.],\n",
       "       [ 35., 305.],\n",
       "       [ 36., 305.],\n",
       "       [ 37., 305.],\n",
       "       [ 38., 305.],\n",
       "       [ 39., 305.],\n",
       "       [ 40., 305.],\n",
       "       [ 41., 305.],\n",
       "       [ 42., 305.],\n",
       "       [ 43., 305.],\n",
       "       [ 44., 305.],\n",
       "       [ 45., 305.],\n",
       "       [ 46., 305.],\n",
       "       [ 47., 305.],\n",
       "       [ 48., 305.],\n",
       "       [ 49., 305.],\n",
       "       [ 50., 305.],\n",
       "       [ 51., 305.],\n",
       "       [ 52., 305.],\n",
       "       [ 53., 305.],\n",
       "       [ 54., 305.],\n",
       "       [ 55., 305.],\n",
       "       [ 56., 305.],\n",
       "       [ 57., 305.],\n",
       "       [ 58., 305.],\n",
       "       [ 59., 305.],\n",
       "       [ 60., 305.],\n",
       "       [ 61., 305.],\n",
       "       [ 62., 305.],\n",
       "       [ 63., 305.],\n",
       "       [ 64., 305.],\n",
       "       [ 65., 305.],\n",
       "       [ 66., 305.],\n",
       "       [ 67., 305.],\n",
       "       [ 68., 305.],\n",
       "       [ 69., 305.],\n",
       "       [ 70., 305.],\n",
       "       [ 71., 305.],\n",
       "       [ 72., 305.],\n",
       "       [ 73., 305.],\n",
       "       [ 74., 305.],\n",
       "       [ 75., 305.],\n",
       "       [ 76., 305.],\n",
       "       [ 77., 305.],\n",
       "       [ 78., 305.],\n",
       "       [ 79., 305.],\n",
       "       [ 80., 305.],\n",
       "       [ 81., 305.],\n",
       "       [ 82., 305.],\n",
       "       [ 83., 305.],\n",
       "       [ 84., 305.],\n",
       "       [ 85., 305.],\n",
       "       [ 86., 305.],\n",
       "       [ 87., 305.],\n",
       "       [ 88., 305.],\n",
       "       [ 89., 305.],\n",
       "       [ 90., 305.],\n",
       "       [ 91., 305.],\n",
       "       [ 92., 305.],\n",
       "       [ 93., 305.],\n",
       "       [ 94., 305.],\n",
       "       [ 95., 305.],\n",
       "       [ 96., 305.],\n",
       "       [ 97., 305.],\n",
       "       [ 98., 305.]])"
      ]
     },
     "execution_count": 50,
     "metadata": {},
     "output_type": "execute_result"
    }
   ],
   "source": [
    "features_predict = np.array([temp_idades, temp_colesterol]).T\n",
    "features_predict"
   ]
  },
  {
   "cell_type": "code",
   "execution_count": 53,
   "id": "bbbdf165",
   "metadata": {},
   "outputs": [],
   "source": [
    "y_hat = model.predict(features_predict)"
   ]
  },
  {
   "cell_type": "code",
   "execution_count": 54,
   "id": "4132ab9f",
   "metadata": {},
   "outputs": [
    {
     "data": {
      "image/png": "[encoded data removed]",
      "text/plain": [
       "<Figure size 640x480 with 1 Axes>"
      ]
     },
     "metadata": {},
     "output_type": "display_data"
    }
   ],
   "source": [
    "plt.scatter(temp_idades, y_hat)\n",
    "plt.show()"
   ]
  },
  {
   "cell_type": "code",
   "execution_count": null,
   "id": "2e2be08a",
   "metadata": {},
   "outputs": [],
   "source": []
  }
 ],
 "metadata": {
  "kernelspec": {
   "display_name": "Python 3 (ipykernel)",
   "language": "python",
   "name": "python3"
  },
  "language_info": {
   "codemirror_mode": {
    "name": "ipython",
    "version": 3
   },
   "file_extension": ".py",
   "mimetype": "text/x-python",
   "name": "python",
   "nbconvert_exporter": "python",
   "pygments_lexer": "ipython3",
   "version": "3.10.9"
  }
 },
 "nbformat": 4,
 "nbformat_minor": 5
}
