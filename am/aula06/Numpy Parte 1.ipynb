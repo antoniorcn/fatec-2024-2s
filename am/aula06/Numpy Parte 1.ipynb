{
 "cells": [
  {
   "cell_type": "code",
   "execution_count": 1,
   "id": "4d5c89ab",
   "metadata": {},
   "outputs": [],
   "source": [
    "#!pip install numpy"
   ]
  },
  {
   "cell_type": "code",
   "execution_count": 2,
   "id": "ca58d4aa",
   "metadata": {},
   "outputs": [],
   "source": [
    "import numpy as np"
   ]
  },
  {
   "cell_type": "code",
   "execution_count": 11,
   "id": "b80758af",
   "metadata": {},
   "outputs": [],
   "source": [
    "v1 = np.array([5, 10, 15, 20, 45, 2], dtype=np.float64)"
   ]
  },
  {
   "cell_type": "code",
   "execution_count": 12,
   "id": "100d698f",
   "metadata": {},
   "outputs": [
    {
     "data": {
      "text/plain": [
       "array([ 5., 10., 15., 20., 45.,  2.])"
      ]
     },
     "execution_count": 12,
     "metadata": {},
     "output_type": "execute_result"
    }
   ],
   "source": [
    "v1"
   ]
  },
  {
   "cell_type": "code",
   "execution_count": 17,
   "id": "51ca3d50",
   "metadata": {},
   "outputs": [
    {
     "data": {
      "text/plain": [
       "1"
      ]
     },
     "execution_count": 17,
     "metadata": {},
     "output_type": "execute_result"
    }
   ],
   "source": [
    "v1.ndim"
   ]
  },
  {
   "cell_type": "code",
   "execution_count": 18,
   "id": "09a9a577",
   "metadata": {},
   "outputs": [
    {
     "data": {
      "text/plain": [
       "(6,)"
      ]
     },
     "execution_count": 18,
     "metadata": {},
     "output_type": "execute_result"
    }
   ],
   "source": [
    "v1.shape"
   ]
  },
  {
   "cell_type": "code",
   "execution_count": 19,
   "id": "96540f3e",
   "metadata": {},
   "outputs": [
    {
     "data": {
      "text/plain": [
       "dtype('float64')"
      ]
     },
     "execution_count": 19,
     "metadata": {},
     "output_type": "execute_result"
    }
   ],
   "source": [
    "v1.dtype"
   ]
  },
  {
   "cell_type": "code",
   "execution_count": 20,
   "id": "ccb44f7e",
   "metadata": {},
   "outputs": [],
   "source": [
    "m1 = np.array(  [   [ 7, 3, 8 ], [ 14, 18, 15 ], [ 22, 35, 63 ]   ], dtype=np.uint8 )"
   ]
  },
  {
   "cell_type": "code",
   "execution_count": 23,
   "id": "28fb69d6",
   "metadata": {},
   "outputs": [
    {
     "data": {
      "text/plain": [
       "array([[ 7,  3,  8],\n",
       "       [14, 18, 15],\n",
       "       [22, 35, 63]], dtype=uint8)"
      ]
     },
     "execution_count": 23,
     "metadata": {},
     "output_type": "execute_result"
    }
   ],
   "source": [
    "m1"
   ]
  },
  {
   "cell_type": "code",
   "execution_count": 22,
   "id": "562712e9",
   "metadata": {},
   "outputs": [
    {
     "data": {
      "text/plain": [
       "2"
      ]
     },
     "execution_count": 22,
     "metadata": {},
     "output_type": "execute_result"
    }
   ],
   "source": [
    "m1.ndim"
   ]
  },
  {
   "cell_type": "code",
   "execution_count": 24,
   "id": "ffbba9c1",
   "metadata": {},
   "outputs": [
    {
     "data": {
      "text/plain": [
       "(3, 3)"
      ]
     },
     "execution_count": 24,
     "metadata": {},
     "output_type": "execute_result"
    }
   ],
   "source": [
    "m1.shape"
   ]
  },
  {
   "cell_type": "code",
   "execution_count": 25,
   "id": "9d311323",
   "metadata": {},
   "outputs": [
    {
     "data": {
      "text/plain": [
       "dtype('uint8')"
      ]
     },
     "execution_count": 25,
     "metadata": {},
     "output_type": "execute_result"
    }
   ],
   "source": [
    "m1.dtype"
   ]
  },
  {
   "cell_type": "code",
   "execution_count": 28,
   "id": "97518dd4",
   "metadata": {},
   "outputs": [],
   "source": [
    "m2 = np.array([ [7 ,3 , 8], [0, 0, 0], [14, 18, 19], [22, 35, 63]])"
   ]
  },
  {
   "cell_type": "code",
   "execution_count": 29,
   "id": "44845107",
   "metadata": {},
   "outputs": [
    {
     "data": {
      "text/plain": [
       "array([[ 7,  3,  8],\n",
       "       [ 0,  0,  0],\n",
       "       [14, 18, 19],\n",
       "       [22, 35, 63]])"
      ]
     },
     "execution_count": 29,
     "metadata": {},
     "output_type": "execute_result"
    }
   ],
   "source": [
    "m2"
   ]
  },
  {
   "cell_type": "code",
   "execution_count": 30,
   "id": "2b672fb5",
   "metadata": {},
   "outputs": [
    {
     "data": {
      "text/plain": [
       "2"
      ]
     },
     "execution_count": 30,
     "metadata": {},
     "output_type": "execute_result"
    }
   ],
   "source": [
    "m2.ndim"
   ]
  },
  {
   "cell_type": "code",
   "execution_count": 31,
   "id": "f65b407c",
   "metadata": {},
   "outputs": [
    {
     "data": {
      "text/plain": [
       "(4, 3)"
      ]
     },
     "execution_count": 31,
     "metadata": {},
     "output_type": "execute_result"
    }
   ],
   "source": [
    "m2.shape"
   ]
  },
  {
   "cell_type": "code",
   "execution_count": 39,
   "id": "3a874211",
   "metadata": {},
   "outputs": [
    {
     "data": {
      "text/plain": [
       "array([[[[0., 0., 0., 0.],\n",
       "         [0., 0., 0., 0.]],\n",
       "\n",
       "        [[0., 0., 0., 0.],\n",
       "         [0., 0., 0., 0.]],\n",
       "\n",
       "        [[0., 0., 0., 0.],\n",
       "         [0., 0., 0., 0.]],\n",
       "\n",
       "        [[0., 0., 0., 0.],\n",
       "         [0., 0., 0., 0.]],\n",
       "\n",
       "        [[0., 0., 0., 0.],\n",
       "         [0., 0., 0., 0.]],\n",
       "\n",
       "        [[0., 0., 0., 0.],\n",
       "         [0., 0., 0., 0.]],\n",
       "\n",
       "        [[0., 0., 0., 0.],\n",
       "         [0., 0., 0., 0.]],\n",
       "\n",
       "        [[0., 0., 0., 0.],\n",
       "         [0., 0., 0., 0.]],\n",
       "\n",
       "        [[0., 0., 0., 0.],\n",
       "         [0., 0., 0., 0.]],\n",
       "\n",
       "        [[0., 0., 0., 0.],\n",
       "         [0., 0., 0., 0.]]],\n",
       "\n",
       "\n",
       "       [[[0., 0., 0., 0.],\n",
       "         [0., 0., 0., 0.]],\n",
       "\n",
       "        [[0., 0., 0., 0.],\n",
       "         [0., 0., 0., 0.]],\n",
       "\n",
       "        [[0., 0., 0., 0.],\n",
       "         [0., 0., 0., 0.]],\n",
       "\n",
       "        [[0., 0., 0., 0.],\n",
       "         [0., 0., 0., 0.]],\n",
       "\n",
       "        [[0., 0., 0., 0.],\n",
       "         [0., 0., 0., 0.]],\n",
       "\n",
       "        [[0., 0., 0., 0.],\n",
       "         [0., 0., 0., 0.]],\n",
       "\n",
       "        [[0., 0., 0., 0.],\n",
       "         [0., 0., 0., 0.]],\n",
       "\n",
       "        [[0., 0., 0., 0.],\n",
       "         [0., 0., 0., 0.]],\n",
       "\n",
       "        [[0., 0., 0., 0.],\n",
       "         [0., 0., 0., 0.]],\n",
       "\n",
       "        [[0., 0., 0., 0.],\n",
       "         [0., 0., 0., 0.]]],\n",
       "\n",
       "\n",
       "       [[[0., 0., 0., 0.],\n",
       "         [0., 0., 0., 0.]],\n",
       "\n",
       "        [[0., 0., 0., 0.],\n",
       "         [0., 0., 0., 0.]],\n",
       "\n",
       "        [[0., 0., 0., 0.],\n",
       "         [0., 0., 0., 0.]],\n",
       "\n",
       "        [[0., 0., 0., 0.],\n",
       "         [0., 0., 0., 0.]],\n",
       "\n",
       "        [[0., 0., 0., 0.],\n",
       "         [0., 0., 0., 0.]],\n",
       "\n",
       "        [[0., 0., 0., 0.],\n",
       "         [0., 0., 0., 0.]],\n",
       "\n",
       "        [[0., 0., 0., 0.],\n",
       "         [0., 0., 0., 0.]],\n",
       "\n",
       "        [[0., 0., 0., 0.],\n",
       "         [0., 0., 0., 0.]],\n",
       "\n",
       "        [[0., 0., 0., 0.],\n",
       "         [0., 0., 0., 0.]],\n",
       "\n",
       "        [[0., 0., 0., 0.],\n",
       "         [0., 0., 0., 0.]]],\n",
       "\n",
       "\n",
       "       [[[0., 0., 0., 0.],\n",
       "         [0., 0., 0., 0.]],\n",
       "\n",
       "        [[0., 0., 0., 0.],\n",
       "         [0., 0., 0., 0.]],\n",
       "\n",
       "        [[0., 0., 0., 0.],\n",
       "         [0., 0., 0., 0.]],\n",
       "\n",
       "        [[0., 0., 0., 0.],\n",
       "         [0., 0., 0., 0.]],\n",
       "\n",
       "        [[0., 0., 0., 0.],\n",
       "         [0., 0., 0., 0.]],\n",
       "\n",
       "        [[0., 0., 0., 0.],\n",
       "         [0., 0., 0., 0.]],\n",
       "\n",
       "        [[0., 0., 0., 0.],\n",
       "         [0., 0., 0., 0.]],\n",
       "\n",
       "        [[0., 0., 0., 0.],\n",
       "         [0., 0., 0., 0.]],\n",
       "\n",
       "        [[0., 0., 0., 0.],\n",
       "         [0., 0., 0., 0.]],\n",
       "\n",
       "        [[0., 0., 0., 0.],\n",
       "         [0., 0., 0., 0.]]],\n",
       "\n",
       "\n",
       "       [[[0., 0., 0., 0.],\n",
       "         [0., 0., 0., 0.]],\n",
       "\n",
       "        [[0., 0., 0., 0.],\n",
       "         [0., 0., 0., 0.]],\n",
       "\n",
       "        [[0., 0., 0., 0.],\n",
       "         [0., 0., 0., 0.]],\n",
       "\n",
       "        [[0., 0., 0., 0.],\n",
       "         [0., 0., 0., 0.]],\n",
       "\n",
       "        [[0., 0., 0., 0.],\n",
       "         [0., 0., 0., 0.]],\n",
       "\n",
       "        [[0., 0., 0., 0.],\n",
       "         [0., 0., 0., 0.]],\n",
       "\n",
       "        [[0., 0., 0., 0.],\n",
       "         [0., 0., 0., 0.]],\n",
       "\n",
       "        [[0., 0., 0., 0.],\n",
       "         [0., 0., 0., 0.]],\n",
       "\n",
       "        [[0., 0., 0., 0.],\n",
       "         [0., 0., 0., 0.]],\n",
       "\n",
       "        [[0., 0., 0., 0.],\n",
       "         [0., 0., 0., 0.]]],\n",
       "\n",
       "\n",
       "       [[[0., 0., 0., 0.],\n",
       "         [0., 0., 0., 0.]],\n",
       "\n",
       "        [[0., 0., 0., 0.],\n",
       "         [0., 0., 0., 0.]],\n",
       "\n",
       "        [[0., 0., 0., 0.],\n",
       "         [0., 0., 0., 0.]],\n",
       "\n",
       "        [[0., 0., 0., 0.],\n",
       "         [0., 0., 0., 0.]],\n",
       "\n",
       "        [[0., 0., 0., 0.],\n",
       "         [0., 0., 0., 0.]],\n",
       "\n",
       "        [[0., 0., 0., 0.],\n",
       "         [0., 0., 0., 0.]],\n",
       "\n",
       "        [[0., 0., 0., 0.],\n",
       "         [0., 0., 0., 0.]],\n",
       "\n",
       "        [[0., 0., 0., 0.],\n",
       "         [0., 0., 0., 0.]],\n",
       "\n",
       "        [[0., 0., 0., 0.],\n",
       "         [0., 0., 0., 0.]],\n",
       "\n",
       "        [[0., 0., 0., 0.],\n",
       "         [0., 0., 0., 0.]]],\n",
       "\n",
       "\n",
       "       [[[0., 0., 0., 0.],\n",
       "         [0., 0., 0., 0.]],\n",
       "\n",
       "        [[0., 0., 0., 0.],\n",
       "         [0., 0., 0., 0.]],\n",
       "\n",
       "        [[0., 0., 0., 0.],\n",
       "         [0., 0., 0., 0.]],\n",
       "\n",
       "        [[0., 0., 0., 0.],\n",
       "         [0., 0., 0., 0.]],\n",
       "\n",
       "        [[0., 0., 0., 0.],\n",
       "         [0., 0., 0., 0.]],\n",
       "\n",
       "        [[0., 0., 0., 0.],\n",
       "         [0., 0., 0., 0.]],\n",
       "\n",
       "        [[0., 0., 0., 0.],\n",
       "         [0., 0., 0., 0.]],\n",
       "\n",
       "        [[0., 0., 0., 0.],\n",
       "         [0., 0., 0., 0.]],\n",
       "\n",
       "        [[0., 0., 0., 0.],\n",
       "         [0., 0., 0., 0.]],\n",
       "\n",
       "        [[0., 0., 0., 0.],\n",
       "         [0., 0., 0., 0.]]]])"
      ]
     },
     "execution_count": 39,
     "metadata": {},
     "output_type": "execute_result"
    }
   ],
   "source": [
    "np.zeros( (7, 10, 2,  4) )"
   ]
  },
  {
   "cell_type": "code",
   "execution_count": 40,
   "id": "780ef802",
   "metadata": {},
   "outputs": [
    {
     "data": {
      "text/plain": [
       "array([[0., 0.],\n",
       "       [0., 0.],\n",
       "       [0., 0.],\n",
       "       [0., 0.],\n",
       "       [0., 0.],\n",
       "       [0., 0.]])"
      ]
     },
     "execution_count": 40,
     "metadata": {},
     "output_type": "execute_result"
    }
   ],
   "source": [
    "np.zeros( (6, 2) )"
   ]
  },
  {
   "cell_type": "code",
   "execution_count": 41,
   "id": "d33b85ae",
   "metadata": {},
   "outputs": [
    {
     "data": {
      "text/plain": [
       "array([[0., 0., 0., 0., 0., 0.],\n",
       "       [0., 0., 0., 0., 0., 0.]])"
      ]
     },
     "execution_count": 41,
     "metadata": {},
     "output_type": "execute_result"
    }
   ],
   "source": [
    "np.zeros( (2,6 ))"
   ]
  },
  {
   "cell_type": "code",
   "execution_count": 42,
   "id": "71cafad7",
   "metadata": {},
   "outputs": [
    {
     "data": {
      "text/plain": [
       "array([[1., 1., 1., 1., 1., 1.],\n",
       "       [1., 1., 1., 1., 1., 1.]])"
      ]
     },
     "execution_count": 42,
     "metadata": {},
     "output_type": "execute_result"
    }
   ],
   "source": [
    "np.ones( (2, 6))"
   ]
  },
  {
   "cell_type": "code",
   "execution_count": 43,
   "id": "24db6b25",
   "metadata": {},
   "outputs": [
    {
     "data": {
      "text/plain": [
       "array([[1., 1.],\n",
       "       [1., 1.],\n",
       "       [1., 1.],\n",
       "       [1., 1.],\n",
       "       [1., 1.],\n",
       "       [1., 1.]])"
      ]
     },
     "execution_count": 43,
     "metadata": {},
     "output_type": "execute_result"
    }
   ],
   "source": [
    "np.ones( (6, 2) )"
   ]
  },
  {
   "cell_type": "markdown",
   "id": "6cd81dac",
   "metadata": {},
   "source": [
    "### Ex1: \n",
    "Crie vetor numpy para conter as notas de um aluno em 1 disciplina especifica, assumindo que a disciplina possua 4 notas. O vetor deve ser preenchido com notas a sua escolha. Uma vez criado mostre na tela a quantidade de dimensões e o shape do vetor"
   ]
  },
  {
   "cell_type": "code",
   "execution_count": 44,
   "id": "92f5fd20",
   "metadata": {},
   "outputs": [],
   "source": [
    "# Minhas notas em matematica\n",
    "notas = np.array( [8.2, 6.5, 9.1, 3.3] )"
   ]
  },
  {
   "cell_type": "code",
   "execution_count": 45,
   "id": "a469d2e9",
   "metadata": {},
   "outputs": [
    {
     "data": {
      "text/plain": [
       "array([8.2, 6.5, 9.1, 3.3])"
      ]
     },
     "execution_count": 45,
     "metadata": {},
     "output_type": "execute_result"
    }
   ],
   "source": [
    "notas"
   ]
  },
  {
   "cell_type": "code",
   "execution_count": 46,
   "id": "52a107c4",
   "metadata": {},
   "outputs": [
    {
     "data": {
      "text/plain": [
       "1"
      ]
     },
     "execution_count": 46,
     "metadata": {},
     "output_type": "execute_result"
    }
   ],
   "source": [
    "notas.ndim "
   ]
  },
  {
   "cell_type": "code",
   "execution_count": 47,
   "id": "df558d86",
   "metadata": {},
   "outputs": [
    {
     "data": {
      "text/plain": [
       "(4,)"
      ]
     },
     "execution_count": 47,
     "metadata": {},
     "output_type": "execute_result"
    }
   ],
   "source": [
    "notas.shape"
   ]
  },
  {
   "cell_type": "code",
   "execution_count": 48,
   "id": "68960012",
   "metadata": {},
   "outputs": [
    {
     "data": {
      "text/plain": [
       "dtype('float64')"
      ]
     },
     "execution_count": 48,
     "metadata": {},
     "output_type": "execute_result"
    }
   ],
   "source": [
    "notas.dtype"
   ]
  },
  {
   "cell_type": "markdown",
   "id": "a8a668bc",
   "metadata": {},
   "source": [
    "### Ex2: \n",
    "Crie uma matriz para guardar as notas de 1 aluno nas 6 disciplinas do semestre, esta matriz deve ser preenchida com notas 1 (um). Uma vez criada mostre na tela a quantidade de dimensões e o shape da matriz\n"
   ]
  },
  {
   "cell_type": "code",
   "execution_count": 55,
   "id": "15ad8954",
   "metadata": {},
   "outputs": [],
   "source": [
    "m1 = np.ones( (6, 4) )"
   ]
  },
  {
   "cell_type": "code",
   "execution_count": 56,
   "id": "6554c4df",
   "metadata": {},
   "outputs": [
    {
     "data": {
      "text/plain": [
       "2"
      ]
     },
     "execution_count": 56,
     "metadata": {},
     "output_type": "execute_result"
    }
   ],
   "source": [
    "m1.ndim"
   ]
  },
  {
   "cell_type": "code",
   "execution_count": 57,
   "id": "33353152",
   "metadata": {},
   "outputs": [
    {
     "data": {
      "text/plain": [
       "(6, 4)"
      ]
     },
     "execution_count": 57,
     "metadata": {},
     "output_type": "execute_result"
    }
   ],
   "source": [
    "m1.shape"
   ]
  },
  {
   "cell_type": "code",
   "execution_count": 58,
   "id": "8e47d0e5",
   "metadata": {},
   "outputs": [
    {
     "data": {
      "text/plain": [
       "dtype('float64')"
      ]
     },
     "execution_count": 58,
     "metadata": {},
     "output_type": "execute_result"
    }
   ],
   "source": [
    "m1.dtype"
   ]
  },
  {
   "cell_type": "code",
   "execution_count": 63,
   "id": "48adee9e",
   "metadata": {},
   "outputs": [],
   "source": [
    "v2 = np.arange( -10, 10, 0.1 )"
   ]
  },
  {
   "cell_type": "code",
   "execution_count": 64,
   "id": "a4174667",
   "metadata": {},
   "outputs": [
    {
     "data": {
      "text/plain": [
       "array([-1.00000000e+01, -9.90000000e+00, -9.80000000e+00, -9.70000000e+00,\n",
       "       -9.60000000e+00, -9.50000000e+00, -9.40000000e+00, -9.30000000e+00,\n",
       "       -9.20000000e+00, -9.10000000e+00, -9.00000000e+00, -8.90000000e+00,\n",
       "       -8.80000000e+00, -8.70000000e+00, -8.60000000e+00, -8.50000000e+00,\n",
       "       -8.40000000e+00, -8.30000000e+00, -8.20000000e+00, -8.10000000e+00,\n",
       "       -8.00000000e+00, -7.90000000e+00, -7.80000000e+00, -7.70000000e+00,\n",
       "       -7.60000000e+00, -7.50000000e+00, -7.40000000e+00, -7.30000000e+00,\n",
       "       -7.20000000e+00, -7.10000000e+00, -7.00000000e+00, -6.90000000e+00,\n",
       "       -6.80000000e+00, -6.70000000e+00, -6.60000000e+00, -6.50000000e+00,\n",
       "       -6.40000000e+00, -6.30000000e+00, -6.20000000e+00, -6.10000000e+00,\n",
       "       -6.00000000e+00, -5.90000000e+00, -5.80000000e+00, -5.70000000e+00,\n",
       "       -5.60000000e+00, -5.50000000e+00, -5.40000000e+00, -5.30000000e+00,\n",
       "       -5.20000000e+00, -5.10000000e+00, -5.00000000e+00, -4.90000000e+00,\n",
       "       -4.80000000e+00, -4.70000000e+00, -4.60000000e+00, -4.50000000e+00,\n",
       "       -4.40000000e+00, -4.30000000e+00, -4.20000000e+00, -4.10000000e+00,\n",
       "       -4.00000000e+00, -3.90000000e+00, -3.80000000e+00, -3.70000000e+00,\n",
       "       -3.60000000e+00, -3.50000000e+00, -3.40000000e+00, -3.30000000e+00,\n",
       "       -3.20000000e+00, -3.10000000e+00, -3.00000000e+00, -2.90000000e+00,\n",
       "       -2.80000000e+00, -2.70000000e+00, -2.60000000e+00, -2.50000000e+00,\n",
       "       -2.40000000e+00, -2.30000000e+00, -2.20000000e+00, -2.10000000e+00,\n",
       "       -2.00000000e+00, -1.90000000e+00, -1.80000000e+00, -1.70000000e+00,\n",
       "       -1.60000000e+00, -1.50000000e+00, -1.40000000e+00, -1.30000000e+00,\n",
       "       -1.20000000e+00, -1.10000000e+00, -1.00000000e+00, -9.00000000e-01,\n",
       "       -8.00000000e-01, -7.00000000e-01, -6.00000000e-01, -5.00000000e-01,\n",
       "       -4.00000000e-01, -3.00000000e-01, -2.00000000e-01, -1.00000000e-01,\n",
       "       -3.55271368e-14,  1.00000000e-01,  2.00000000e-01,  3.00000000e-01,\n",
       "        4.00000000e-01,  5.00000000e-01,  6.00000000e-01,  7.00000000e-01,\n",
       "        8.00000000e-01,  9.00000000e-01,  1.00000000e+00,  1.10000000e+00,\n",
       "        1.20000000e+00,  1.30000000e+00,  1.40000000e+00,  1.50000000e+00,\n",
       "        1.60000000e+00,  1.70000000e+00,  1.80000000e+00,  1.90000000e+00,\n",
       "        2.00000000e+00,  2.10000000e+00,  2.20000000e+00,  2.30000000e+00,\n",
       "        2.40000000e+00,  2.50000000e+00,  2.60000000e+00,  2.70000000e+00,\n",
       "        2.80000000e+00,  2.90000000e+00,  3.00000000e+00,  3.10000000e+00,\n",
       "        3.20000000e+00,  3.30000000e+00,  3.40000000e+00,  3.50000000e+00,\n",
       "        3.60000000e+00,  3.70000000e+00,  3.80000000e+00,  3.90000000e+00,\n",
       "        4.00000000e+00,  4.10000000e+00,  4.20000000e+00,  4.30000000e+00,\n",
       "        4.40000000e+00,  4.50000000e+00,  4.60000000e+00,  4.70000000e+00,\n",
       "        4.80000000e+00,  4.90000000e+00,  5.00000000e+00,  5.10000000e+00,\n",
       "        5.20000000e+00,  5.30000000e+00,  5.40000000e+00,  5.50000000e+00,\n",
       "        5.60000000e+00,  5.70000000e+00,  5.80000000e+00,  5.90000000e+00,\n",
       "        6.00000000e+00,  6.10000000e+00,  6.20000000e+00,  6.30000000e+00,\n",
       "        6.40000000e+00,  6.50000000e+00,  6.60000000e+00,  6.70000000e+00,\n",
       "        6.80000000e+00,  6.90000000e+00,  7.00000000e+00,  7.10000000e+00,\n",
       "        7.20000000e+00,  7.30000000e+00,  7.40000000e+00,  7.50000000e+00,\n",
       "        7.60000000e+00,  7.70000000e+00,  7.80000000e+00,  7.90000000e+00,\n",
       "        8.00000000e+00,  8.10000000e+00,  8.20000000e+00,  8.30000000e+00,\n",
       "        8.40000000e+00,  8.50000000e+00,  8.60000000e+00,  8.70000000e+00,\n",
       "        8.80000000e+00,  8.90000000e+00,  9.00000000e+00,  9.10000000e+00,\n",
       "        9.20000000e+00,  9.30000000e+00,  9.40000000e+00,  9.50000000e+00,\n",
       "        9.60000000e+00,  9.70000000e+00,  9.80000000e+00,  9.90000000e+00])"
      ]
     },
     "execution_count": 64,
     "metadata": {},
     "output_type": "execute_result"
    }
   ],
   "source": [
    "v2"
   ]
  },
  {
   "cell_type": "code",
   "execution_count": 81,
   "id": "8939bd36",
   "metadata": {},
   "outputs": [
    {
     "data": {
      "text/plain": [
       "array([[0., 0.],\n",
       "       [0., 0.],\n",
       "       [0., 0.],\n",
       "       [0., 0.],\n",
       "       [0., 0.],\n",
       "       [0., 0.]])"
      ]
     },
     "execution_count": 81,
     "metadata": {},
     "output_type": "execute_result"
    }
   ],
   "source": [
    "m1 = np.zeros( (6, 2) )\n",
    "m1"
   ]
  },
  {
   "cell_type": "code",
   "execution_count": 84,
   "id": "a9afe1d3",
   "metadata": {},
   "outputs": [
    {
     "data": {
      "text/plain": [
       "array([[1., 1., 1., 1., 1., 1., 1., 1., 1., 1.],\n",
       "       [1., 1., 1., 1., 1., 1., 1., 1., 1., 1.],\n",
       "       [1., 1., 1., 1., 1., 1., 1., 1., 1., 1.],\n",
       "       [1., 1., 1., 1., 1., 1., 1., 1., 1., 1.],\n",
       "       [1., 1., 1., 1., 1., 1., 1., 1., 1., 1.],\n",
       "       [1., 1., 1., 1., 1., 1., 1., 1., 1., 1.]])"
      ]
     },
     "execution_count": 84,
     "metadata": {},
     "output_type": "execute_result"
    }
   ],
   "source": [
    "m2 = np.ones( (6, 10) )\n",
    "m2"
   ]
  },
  {
   "cell_type": "code",
   "execution_count": 85,
   "id": "702864b3",
   "metadata": {},
   "outputs": [
    {
     "data": {
      "text/plain": [
       "array([[0., 0., 1., 1., 1., 1., 1., 1., 1., 1., 1., 1.],\n",
       "       [0., 0., 1., 1., 1., 1., 1., 1., 1., 1., 1., 1.],\n",
       "       [0., 0., 1., 1., 1., 1., 1., 1., 1., 1., 1., 1.],\n",
       "       [0., 0., 1., 1., 1., 1., 1., 1., 1., 1., 1., 1.],\n",
       "       [0., 0., 1., 1., 1., 1., 1., 1., 1., 1., 1., 1.],\n",
       "       [0., 0., 1., 1., 1., 1., 1., 1., 1., 1., 1., 1.]])"
      ]
     },
     "execution_count": 85,
     "metadata": {},
     "output_type": "execute_result"
    }
   ],
   "source": [
    "m3 = np.concatenate( [m1, m2], axis=1 )\n",
    "m3"
   ]
  },
  {
   "cell_type": "code",
   "execution_count": 88,
   "id": "004f9f48",
   "metadata": {},
   "outputs": [
    {
     "data": {
      "text/plain": [
       "array([[0, 0, 1, 1, 1, 1, 1, 1, 1, 1, 1, 1],\n",
       "       [0, 0, 1, 1, 1, 1, 1, 1, 1, 1, 1, 1],\n",
       "       [0, 0, 1, 1, 1, 1, 1, 1, 1, 1, 1, 1],\n",
       "       [0, 0, 1, 1, 1, 1, 1, 1, 1, 1, 1, 1],\n",
       "       [0, 0, 1, 1, 1, 1, 1, 1, 1, 1, 1, 1],\n",
       "       [0, 0, 1, 1, 1, 1, 1, 1, 1, 1, 1, 1]], dtype=uint8)"
      ]
     },
     "execution_count": 88,
     "metadata": {},
     "output_type": "execute_result"
    }
   ],
   "source": [
    "m3.astype(np.uint8)"
   ]
  },
  {
   "cell_type": "code",
   "execution_count": 89,
   "id": "1c3eb67b",
   "metadata": {},
   "outputs": [],
   "source": [
    "notas = np.array( [8.2, 6.5, 9.1, 3.3] )"
   ]
  },
  {
   "cell_type": "code",
   "execution_count": 90,
   "id": "a5c3816b",
   "metadata": {},
   "outputs": [
    {
     "data": {
      "text/plain": [
       "array([8.2, 6.5, 9.1, 3.3])"
      ]
     },
     "execution_count": 90,
     "metadata": {},
     "output_type": "execute_result"
    }
   ],
   "source": [
    "notas"
   ]
  },
  {
   "cell_type": "code",
   "execution_count": 92,
   "id": "20336964",
   "metadata": {},
   "outputs": [
    {
     "data": {
      "text/plain": [
       "array([1., 1., 1., 1.])"
      ]
     },
     "execution_count": 92,
     "metadata": {},
     "output_type": "execute_result"
    }
   ],
   "source": [
    "np.ones_like( notas )"
   ]
  },
  {
   "cell_type": "code",
   "execution_count": 115,
   "id": "13eca2fa",
   "metadata": {},
   "outputs": [
    {
     "data": {
      "text/plain": [
       "array([2, 7, 3, 5], dtype=uint8)"
      ]
     },
     "execution_count": 115,
     "metadata": {},
     "output_type": "execute_result"
    }
   ],
   "source": [
    "np.random.seed(12)\n",
    "notas = np.random.random( (4, ) )\n",
    "notas = np.round(notas * 10)\n",
    "notas.astype(np.uint8)"
   ]
  },
  {
   "cell_type": "code",
   "execution_count": 116,
   "id": "4daf5ac2",
   "metadata": {},
   "outputs": [
    {
     "data": {
      "text/plain": [
       "array([[ 2,  8,  3,  6],\n",
       "       [ 7,  4,  8,  2],\n",
       "       [ 7, 10,  4,  5],\n",
       "       [ 6,  5,  3,  9],\n",
       "       [ 2,  4,  8,  4],\n",
       "       [ 2,  6,  8,  2]])"
      ]
     },
     "execution_count": 116,
     "metadata": {},
     "output_type": "execute_result"
    }
   ],
   "source": [
    "disciplinas_notas = np.random.randint(2, 11, (6, 4) )\n",
    "disciplinas_notas"
   ]
  },
  {
   "cell_type": "code",
   "execution_count": 118,
   "id": "18c065f4",
   "metadata": {},
   "outputs": [
    {
     "data": {
      "text/plain": [
       "array([ 1,  6, 11, 16, 21, 26, 31, 36, 41, 46, 51, 56, 61, 66, 71, 76, 81,\n",
       "       86, 91, 96])"
      ]
     },
     "execution_count": 118,
     "metadata": {},
     "output_type": "execute_result"
    }
   ],
   "source": [
    "vet3 = np.arange(1, 100, 5)\n",
    "vet3"
   ]
  },
  {
   "cell_type": "code",
   "execution_count": 124,
   "id": "94a82a05",
   "metadata": {},
   "outputs": [
    {
     "data": {
      "text/plain": [
       "array([[ 1,  6, 11, 16],\n",
       "       [21, 26, 31, 36],\n",
       "       [41, 46, 51, 56],\n",
       "       [61, 66, 71, 76],\n",
       "       [81, 86, 91, 96]])"
      ]
     },
     "execution_count": 124,
     "metadata": {},
     "output_type": "execute_result"
    }
   ],
   "source": [
    "vet3.reshape( (5, -1) )"
   ]
  },
  {
   "cell_type": "code",
   "execution_count": 125,
   "id": "5c02525b",
   "metadata": {},
   "outputs": [
    {
     "data": {
      "text/plain": [
       "array([[ 2, 10,  8,  3],\n",
       "       [10,  6,  2,  6],\n",
       "       [ 3,  7,  7,  5],\n",
       "       [ 6,  7,  7,  2],\n",
       "       [ 8,  8,  5,  4],\n",
       "       [ 6,  5,  8,  9]])"
      ]
     },
     "execution_count": 125,
     "metadata": {},
     "output_type": "execute_result"
    }
   ],
   "source": [
    "disciplinas_notas = np.random.randint(2, 11, (6, 4) )\n",
    "disciplinas_notas"
   ]
  },
  {
   "cell_type": "code",
   "execution_count": 127,
   "id": "0b6d2341",
   "metadata": {},
   "outputs": [
    {
     "data": {
      "text/plain": [
       "array([ 2, 10,  3,  6,  8,  6, 10,  6,  7,  7,  8,  5,  8,  2,  7,  7,  5,\n",
       "        8,  3,  6,  5,  2,  4,  9])"
      ]
     },
     "execution_count": 127,
     "metadata": {},
     "output_type": "execute_result"
    }
   ],
   "source": [
    "disciplinas_notas.ravel(order='F')"
   ]
  },
  {
   "cell_type": "code",
   "execution_count": 128,
   "id": "a63ee5ec",
   "metadata": {},
   "outputs": [
    {
     "name": "stdout",
     "output_type": "stream",
     "text": [
      "10\n",
      "20\n",
      "20\n",
      "10\n",
      "20\n",
      "5\n"
     ]
    }
   ],
   "source": [
    "a = 10\n",
    "b = 20\n",
    "c = b\n",
    "print(a) # 10\n",
    "print(b) # 20\n",
    "print(c) # 20\n",
    "\n",
    "c = 5\n",
    "print(a) # 10\n",
    "print(b) # 20\n",
    "print(c) # 5"
   ]
  },
  {
   "cell_type": "code",
   "execution_count": 129,
   "id": "071f5a9f",
   "metadata": {},
   "outputs": [
    {
     "name": "stdout",
     "output_type": "stream",
     "text": [
      "[1, 2, 3]\n",
      "[4, 5, 6]\n",
      "[4, 5, 6]\n",
      "[1, 2, 3]\n",
      "[4, 200, 6]\n",
      "[4, 200, 6]\n"
     ]
    }
   ],
   "source": [
    "a = [1, 2, 3]\n",
    "b = [4, 5, 6]\n",
    "c = b\n",
    "print(a) # [1, 2, 3]\n",
    "print(b) # [4, 5, 6]\n",
    "print(c) # [4, 5, 6]\n",
    "\n",
    "c[1] = 200\n",
    "print(a) # [1, 2, 3]\n",
    "print(b) # [4, 200, 6]\n",
    "print(c) # [4, 200, 6]"
   ]
  },
  {
   "cell_type": "code",
   "execution_count": 142,
   "id": "398f209f",
   "metadata": {},
   "outputs": [],
   "source": [
    "vet2 = np.arange(0, 200, 5)"
   ]
  },
  {
   "cell_type": "code",
   "execution_count": 148,
   "id": "8f4762d7",
   "metadata": {},
   "outputs": [
    {
     "data": {
      "text/plain": [
       "array([  0,   5,  10,  15,  20,  25,  30,  35,  40,  45,  50,  55,  60,\n",
       "        65,  70,  75,  80,  85,  90,  95, 100, 105, 110, 115, 120, 125,\n",
       "       130, 135, 140, 145, 150, 155, 160, 165, 170, 175, 180, 185, 190,\n",
       "       195])"
      ]
     },
     "execution_count": 148,
     "metadata": {},
     "output_type": "execute_result"
    }
   ],
   "source": [
    "vet2"
   ]
  },
  {
   "cell_type": "code",
   "execution_count": 149,
   "id": "040cd106",
   "metadata": {},
   "outputs": [
    {
     "data": {
      "text/plain": [
       "array([[  0,   5,  10,  15,  20,  25,  30,  35,  40,  45],\n",
       "       [ 50,  55,  60,  65,  70,  75,  80,  85,  90,  95],\n",
       "       [100, 105, 110, 115, 120, 125, 130, 135, 140, 145],\n",
       "       [150, 155, 160, 165, 170, 175, 180, 185, 190, 195]])"
      ]
     },
     "execution_count": 149,
     "metadata": {},
     "output_type": "execute_result"
    }
   ],
   "source": [
    "arr4 = vet2.reshape( (4, 10) ).view()\n",
    "arr4"
   ]
  },
  {
   "cell_type": "code",
   "execution_count": 150,
   "id": "63fe49f1",
   "metadata": {},
   "outputs": [],
   "source": [
    "arr4[3, 9] = 300"
   ]
  },
  {
   "cell_type": "code",
   "execution_count": 151,
   "id": "d6dba6d6",
   "metadata": {},
   "outputs": [
    {
     "data": {
      "text/plain": [
       "array([[  0,   5,  10,  15,  20,  25,  30,  35,  40,  45],\n",
       "       [ 50,  55,  60,  65,  70,  75,  80,  85,  90,  95],\n",
       "       [100, 105, 110, 115, 120, 125, 130, 135, 140, 145],\n",
       "       [150, 155, 160, 165, 170, 175, 180, 185, 190, 300]])"
      ]
     },
     "execution_count": 151,
     "metadata": {},
     "output_type": "execute_result"
    }
   ],
   "source": [
    "arr4"
   ]
  },
  {
   "cell_type": "code",
   "execution_count": 152,
   "id": "dba53f30",
   "metadata": {},
   "outputs": [
    {
     "data": {
      "text/plain": [
       "array([  0,   5,  10,  15,  20,  25,  30,  35,  40,  45,  50,  55,  60,\n",
       "        65,  70,  75,  80,  85,  90,  95, 100, 105, 110, 115, 120, 125,\n",
       "       130, 135, 140, 145, 150, 155, 160, 165, 170, 175, 180, 185, 190,\n",
       "       300])"
      ]
     },
     "execution_count": 152,
     "metadata": {},
     "output_type": "execute_result"
    }
   ],
   "source": [
    "vet2"
   ]
  },
  {
   "cell_type": "code",
   "execution_count": 161,
   "id": "5e84d6b9",
   "metadata": {},
   "outputs": [
    {
     "data": {
      "text/plain": [
       "array([[[3, 1, 1, 1, 1],\n",
       "        [1, 1, 3, 3, 2],\n",
       "        [1, 3, 3, 1, 1],\n",
       "        [3, 1, 3, 2, 1]],\n",
       "\n",
       "       [[3, 1, 2, 1, 2],\n",
       "        [1, 1, 2, 3, 1],\n",
       "        [3, 1, 1, 2, 1],\n",
       "        [2, 3, 1, 3, 2]],\n",
       "\n",
       "       [[1, 3, 3, 3, 1],\n",
       "        [2, 3, 2, 3, 3],\n",
       "        [1, 2, 1, 3, 3],\n",
       "        [2, 2, 3, 2, 1]]])"
      ]
     },
     "execution_count": 161,
     "metadata": {},
     "output_type": "execute_result"
    }
   ],
   "source": [
    "caixa_ovos = np.random.randint(1, 4, (3, 4, 5))\n",
    "caixa_ovos"
   ]
  },
  {
   "cell_type": "code",
   "execution_count": 162,
   "id": "3f11b343",
   "metadata": {},
   "outputs": [
    {
     "data": {
      "text/plain": [
       "array([[[3, 3, 1],\n",
       "        [1, 1, 2],\n",
       "        [1, 3, 1],\n",
       "        [3, 2, 2]],\n",
       "\n",
       "       [[1, 1, 3],\n",
       "        [1, 1, 3],\n",
       "        [3, 1, 2],\n",
       "        [1, 3, 2]],\n",
       "\n",
       "       [[1, 2, 3],\n",
       "        [3, 2, 2],\n",
       "        [3, 1, 1],\n",
       "        [3, 1, 3]],\n",
       "\n",
       "       [[1, 1, 3],\n",
       "        [3, 3, 3],\n",
       "        [1, 2, 3],\n",
       "        [2, 3, 2]],\n",
       "\n",
       "       [[1, 2, 1],\n",
       "        [2, 1, 3],\n",
       "        [1, 1, 3],\n",
       "        [1, 2, 1]]])"
      ]
     },
     "execution_count": 162,
     "metadata": {},
     "output_type": "execute_result"
    }
   ],
   "source": [
    "caixa_ovos.T"
   ]
  },
  {
   "cell_type": "code",
   "execution_count": 164,
   "id": "98d6d832",
   "metadata": {},
   "outputs": [
    {
     "data": {
      "text/plain": [
       "array([[[3, 3, 1],\n",
       "        [1, 1, 3],\n",
       "        [1, 2, 3],\n",
       "        [1, 1, 3],\n",
       "        [1, 2, 1]],\n",
       "\n",
       "       [[1, 1, 2],\n",
       "        [1, 1, 3],\n",
       "        [3, 2, 2],\n",
       "        [3, 3, 3],\n",
       "        [2, 1, 3]],\n",
       "\n",
       "       [[1, 3, 1],\n",
       "        [3, 1, 2],\n",
       "        [3, 1, 1],\n",
       "        [1, 2, 3],\n",
       "        [1, 1, 3]],\n",
       "\n",
       "       [[3, 2, 2],\n",
       "        [1, 3, 2],\n",
       "        [3, 1, 3],\n",
       "        [2, 3, 2],\n",
       "        [1, 2, 1]]])"
      ]
     },
     "execution_count": 164,
     "metadata": {},
     "output_type": "execute_result"
    }
   ],
   "source": [
    "caixa_ovos.transpose( (1, 2, 0) )"
   ]
  },
  {
   "cell_type": "code",
   "execution_count": 165,
   "id": "14199202",
   "metadata": {},
   "outputs": [],
   "source": [
    "np.savez('caixa_ovos.npz', caixa=caixa_ovos)"
   ]
  },
  {
   "cell_type": "code",
   "execution_count": 166,
   "id": "5640824d",
   "metadata": {},
   "outputs": [],
   "source": [
    "nova_caixa_ovos = np.load('caixa_ovos.npz')['caixa']"
   ]
  },
  {
   "cell_type": "code",
   "execution_count": 167,
   "id": "6a7d0a24",
   "metadata": {},
   "outputs": [
    {
     "data": {
      "text/plain": [
       "array([[[3, 1, 1, 1, 1],\n",
       "        [1, 1, 3, 3, 2],\n",
       "        [1, 3, 3, 1, 1],\n",
       "        [3, 1, 3, 2, 1]],\n",
       "\n",
       "       [[3, 1, 2, 1, 2],\n",
       "        [1, 1, 2, 3, 1],\n",
       "        [3, 1, 1, 2, 1],\n",
       "        [2, 3, 1, 3, 2]],\n",
       "\n",
       "       [[1, 3, 3, 3, 1],\n",
       "        [2, 3, 2, 3, 3],\n",
       "        [1, 2, 1, 3, 3],\n",
       "        [2, 2, 3, 2, 1]]])"
      ]
     },
     "execution_count": 167,
     "metadata": {},
     "output_type": "execute_result"
    }
   ],
   "source": [
    "nova_caixa_ovos"
   ]
  },
  {
   "cell_type": "code",
   "execution_count": 169,
   "id": "2cb56dd7",
   "metadata": {},
   "outputs": [],
   "source": [
    "caixa_grande_ovos = nova_caixa_ovos * 2"
   ]
  },
  {
   "cell_type": "code",
   "execution_count": 170,
   "id": "d75ea2ff",
   "metadata": {},
   "outputs": [
    {
     "data": {
      "text/plain": [
       "array([[[6, 2, 2, 2, 2],\n",
       "        [2, 2, 6, 6, 4],\n",
       "        [2, 6, 6, 2, 2],\n",
       "        [6, 2, 6, 4, 2]],\n",
       "\n",
       "       [[6, 2, 4, 2, 4],\n",
       "        [2, 2, 4, 6, 2],\n",
       "        [6, 2, 2, 4, 2],\n",
       "        [4, 6, 2, 6, 4]],\n",
       "\n",
       "       [[2, 6, 6, 6, 2],\n",
       "        [4, 6, 4, 6, 6],\n",
       "        [2, 4, 2, 6, 6],\n",
       "        [4, 4, 6, 4, 2]]])"
      ]
     },
     "execution_count": 170,
     "metadata": {},
     "output_type": "execute_result"
    }
   ],
   "source": [
    "caixa_grande_ovos"
   ]
  },
  {
   "cell_type": "code",
   "execution_count": 172,
   "id": "8e539983",
   "metadata": {},
   "outputs": [],
   "source": [
    "np.random.seed(100)\n",
    "caixa_ovo_1 = np.random.randint(1, 4, (4, 5))\n",
    "caixa_ovo_2 = np.random.randint(1, 4, (4, 5))"
   ]
  },
  {
   "cell_type": "code",
   "execution_count": 173,
   "id": "e324916c",
   "metadata": {},
   "outputs": [
    {
     "data": {
      "text/plain": [
       "array([[1, 1, 1, 3, 3],\n",
       "       [1, 3, 2, 3, 3],\n",
       "       [3, 3, 2, 1, 1],\n",
       "       [1, 1, 3, 1, 2]])"
      ]
     },
     "execution_count": 173,
     "metadata": {},
     "output_type": "execute_result"
    }
   ],
   "source": [
    "caixa_ovo_1 # 4 x 5"
   ]
  },
  {
   "cell_type": "code",
   "execution_count": 174,
   "id": "aed1317b",
   "metadata": {},
   "outputs": [
    {
     "data": {
      "text/plain": [
       "array([[2, 3, 3, 1, 1],\n",
       "       [2, 2, 2, 1, 1],\n",
       "       [2, 2, 2, 3, 1],\n",
       "       [3, 2, 2, 3, 3]])"
      ]
     },
     "execution_count": 174,
     "metadata": {},
     "output_type": "execute_result"
    }
   ],
   "source": [
    "caixa_ovo_2  # 4 x 5"
   ]
  },
  {
   "cell_type": "code",
   "execution_count": 178,
   "id": "584a3045",
   "metadata": {},
   "outputs": [
    {
     "ename": "ValueError",
     "evalue": "operands could not be broadcast together with shapes (4,5) (5,4) ",
     "output_type": "error",
     "traceback": [
      "\u001b[1;31m---------------------------------------------------------------------------\u001b[0m",
      "\u001b[1;31mValueError\u001b[0m                                Traceback (most recent call last)",
      "Cell \u001b[1;32mIn[178], line 1\u001b[0m\n\u001b[1;32m----> 1\u001b[0m \u001b[43mcaixa_ovo_1\u001b[49m\u001b[43m \u001b[49m\u001b[38;5;241;43m*\u001b[39;49m\u001b[43m \u001b[49m\u001b[43mcaixa_ovo_2\u001b[49m\u001b[38;5;241;43m.\u001b[39;49m\u001b[43mT\u001b[49m\n",
      "\u001b[1;31mValueError\u001b[0m: operands could not be broadcast together with shapes (4,5) (5,4) "
     ]
    }
   ],
   "source": [
    "caixa_ovo_1 * caixa_ovo_2.T "
   ]
  },
  {
   "cell_type": "code",
   "execution_count": 179,
   "id": "a4bb0431",
   "metadata": {},
   "outputs": [
    {
     "data": {
      "text/plain": [
       "array([[14, 12, 18, 25],\n",
       "       [23, 18, 24, 31],\n",
       "       [23, 18, 20, 25],\n",
       "       [17, 13, 15, 20]])"
      ]
     },
     "execution_count": 179,
     "metadata": {},
     "output_type": "execute_result"
    }
   ],
   "source": [
    "caixa_ovo_1 @ caixa_ovo_2.T # 4 x 5   @  5 x 4"
   ]
  },
  {
   "cell_type": "code",
   "execution_count": 181,
   "id": "7bc0200a",
   "metadata": {},
   "outputs": [],
   "source": [
    "caixa_grande = np.random.randint(1, 4, (6, 6))"
   ]
  },
  {
   "cell_type": "code",
   "execution_count": 183,
   "id": "096c6adf",
   "metadata": {},
   "outputs": [
    {
     "data": {
      "text/plain": [
       "array([[2, 1, 3, 2, 3, 1],\n",
       "       [2, 3, 1, 3, 1, 1],\n",
       "       [3, 2, 3, 2, 1, 2],\n",
       "       [3, 3, 2, 2, 1, 3],\n",
       "       [1, 2, 3, 1, 2, 2],\n",
       "       [1, 3, 3, 1, 3, 3]])"
      ]
     },
     "execution_count": 183,
     "metadata": {},
     "output_type": "execute_result"
    }
   ],
   "source": [
    "caixa_grande"
   ]
  },
  {
   "cell_type": "code",
   "execution_count": 182,
   "id": "0346a308",
   "metadata": {},
   "outputs": [
    {
     "data": {
      "text/plain": [
       "9.999999999999993"
      ]
     },
     "execution_count": 182,
     "metadata": {},
     "output_type": "execute_result"
    }
   ],
   "source": [
    "np.linalg.det(caixa_grande)"
   ]
  },
  {
   "cell_type": "code",
   "execution_count": 186,
   "id": "25fb3565",
   "metadata": {},
   "outputs": [
    {
     "data": {
      "text/plain": [
       "array([[2., 1., 3., 2., 3., 1.],\n",
       "       [2., 3., 1., 3., 1., 1.],\n",
       "       [3., 2., 3., 2., 1., 2.],\n",
       "       [3., 3., 2., 2., 1., 3.],\n",
       "       [1., 2., 3., 1., 2., 2.],\n",
       "       [1., 3., 3., 1., 3., 3.]])"
      ]
     },
     "execution_count": 186,
     "metadata": {},
     "output_type": "execute_result"
    }
   ],
   "source": [
    "caixa_grande @ np.eye(6)"
   ]
  },
  {
   "cell_type": "code",
   "execution_count": 191,
   "id": "3258a99e",
   "metadata": {},
   "outputs": [
    {
     "data": {
      "text/plain": [
       "array([[False,  True, False, False, False,  True],\n",
       "       [False, False,  True, False,  True,  True],\n",
       "       [False, False, False, False,  True, False],\n",
       "       [False, False, False, False,  True, False],\n",
       "       [ True, False, False,  True, False, False],\n",
       "       [ True, False, False,  True, False, False]])"
      ]
     },
     "execution_count": 191,
     "metadata": {},
     "output_type": "execute_result"
    }
   ],
   "source": [
    "caixa_grande <= 1"
   ]
  },
  {
   "cell_type": "code",
   "execution_count": 192,
   "id": "08d91e68",
   "metadata": {},
   "outputs": [
    {
     "data": {
      "text/plain": [
       "array([2, 3, 2, 3, 2, 3, 3, 3, 2, 3, 2, 2, 3, 3, 2, 2, 3, 2, 3, 2, 2, 3,\n",
       "       3, 3, 3])"
      ]
     },
     "execution_count": 192,
     "metadata": {},
     "output_type": "execute_result"
    }
   ],
   "source": [
    "caixa_grade_sem_ovos_peq = caixa_grande[caixa_grande > 1]\n",
    "caixa_grade_sem_ovos_peq"
   ]
  },
  {
   "cell_type": "code",
   "execution_count": 200,
   "id": "f9b76d12",
   "metadata": {},
   "outputs": [
    {
     "data": {
      "text/plain": [
       "array([[2, 3, 2, 3, 2],\n",
       "       [3, 3, 3, 2, 3],\n",
       "       [2, 2, 3, 3, 2],\n",
       "       [2, 3, 2, 3, 2],\n",
       "       [2, 3, 3, 3, 3]])"
      ]
     },
     "execution_count": 200,
     "metadata": {},
     "output_type": "execute_result"
    }
   ],
   "source": [
    "caixa_grade_sem_ovos_peq = caixa_grade_sem_ovos_peq.reshape(5, 5)\n",
    "caixa_grade_sem_ovos_peq"
   ]
  },
  {
   "cell_type": "code",
   "execution_count": 208,
   "id": "9397ee34",
   "metadata": {},
   "outputs": [
    {
     "data": {
      "text/plain": [
       "array([[False, False, False, False, False],\n",
       "       [False, False, False, False, False],\n",
       "       [False, False, False, False, False],\n",
       "       [False, False, False, False, False],\n",
       "       [False, False, False, False, False]])"
      ]
     },
     "execution_count": 208,
     "metadata": {},
     "output_type": "execute_result"
    }
   ],
   "source": [
    "np.isnan(caixa_grade_sem_ovos_peq)"
   ]
  },
  {
   "cell_type": "code",
   "execution_count": 218,
   "id": "05ec02bc",
   "metadata": {},
   "outputs": [
    {
     "data": {
      "text/plain": [
       "array([[2, 3, 2, 3, 2],\n",
       "       [2, 2, 3, 3, 2],\n",
       "       [2, 3, 3, 3, 3]])"
      ]
     },
     "execution_count": 218,
     "metadata": {},
     "output_type": "execute_result"
    }
   ],
   "source": [
    "caixa_grade_sem_ovos_peq[0:5:2]"
   ]
  },
  {
   "cell_type": "code",
   "execution_count": 220,
   "id": "17554382",
   "metadata": {},
   "outputs": [
    {
     "data": {
      "text/plain": [
       "array([12, 14, 12, 12, 14])"
      ]
     },
     "execution_count": 220,
     "metadata": {},
     "output_type": "execute_result"
    }
   ],
   "source": [
    "caixa_grade_sem_ovos_peq.sum(axis=1)"
   ]
  },
  {
   "cell_type": "code",
   "execution_count": null,
   "id": "c8188637",
   "metadata": {},
   "outputs": [],
   "source": []
  }
 ],
 "metadata": {
  "kernelspec": {
   "display_name": "Python 3 (ipykernel)",
   "language": "python",
   "name": "python3"
  },
  "language_info": {
   "codemirror_mode": {
    "name": "ipython",
    "version": 3
   },
   "file_extension": ".py",
   "mimetype": "text/x-python",
   "name": "python",
   "nbconvert_exporter": "python",
   "pygments_lexer": "ipython3",
   "version": "3.10.9"
  }
 },
 "nbformat": 4,
 "nbformat_minor": 5
}
